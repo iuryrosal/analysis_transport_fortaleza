{
 "cells": [
  {
   "cell_type": "code",
   "execution_count": 7,
   "metadata": {},
   "outputs": [],
   "source": [
    "import xml.etree.ElementTree as ET\n",
    "import pandas as pd"
   ]
  },
  {
   "cell_type": "code",
   "execution_count": 8,
   "metadata": {},
   "outputs": [],
   "source": [
    "tree = ET.parse('../src/data/V20211115.xml')\n",
    "root = tree.getroot()\n"
   ]
  },
  {
   "cell_type": "code",
   "execution_count": 9,
   "metadata": {},
   "outputs": [
    {
     "data": {
      "text/html": [
       "<div>\n",
       "<style scoped>\n",
       "    .dataframe tbody tr th:only-of-type {\n",
       "        vertical-align: middle;\n",
       "    }\n",
       "\n",
       "    .dataframe tbody tr th {\n",
       "        vertical-align: top;\n",
       "    }\n",
       "\n",
       "    .dataframe thead th {\n",
       "        text-align: right;\n",
       "    }\n",
       "</style>\n",
       "<table border=\"1\" class=\"dataframe\">\n",
       "  <thead>\n",
       "    <tr style=\"text-align: right;\">\n",
       "      <th></th>\n",
       "      <th>data_hora</th>\n",
       "      <th>matricula</th>\n",
       "      <th>numero_linha</th>\n",
       "      <th>numero_veiculo</th>\n",
       "    </tr>\n",
       "  </thead>\n",
       "  <tbody>\n",
       "  </tbody>\n",
       "</table>\n",
       "</div>"
      ],
      "text/plain": [
       "Empty DataFrame\n",
       "Columns: [data_hora, matricula, numero_linha, numero_veiculo]\n",
       "Index: []"
      ]
     },
     "execution_count": 9,
     "metadata": {},
     "output_type": "execute_result"
    }
   ],
   "source": [
    "df = pd.DataFrame(columns=['data_hora','matricula', 'numero_linha', 'numero_veiculo'])\n",
    "df"
   ]
  },
  {
   "cell_type": "code",
   "execution_count": 10,
   "metadata": {},
   "outputs": [
    {
     "data": {
      "text/html": [
       "<div>\n",
       "<style scoped>\n",
       "    .dataframe tbody tr th:only-of-type {\n",
       "        vertical-align: middle;\n",
       "    }\n",
       "\n",
       "    .dataframe tbody tr th {\n",
       "        vertical-align: top;\n",
       "    }\n",
       "\n",
       "    .dataframe thead th {\n",
       "        text-align: right;\n",
       "    }\n",
       "</style>\n",
       "<table border=\"1\" class=\"dataframe\">\n",
       "  <thead>\n",
       "    <tr style=\"text-align: right;\">\n",
       "      <th></th>\n",
       "      <th>data_hora</th>\n",
       "      <th>matricula</th>\n",
       "      <th>numero_linha</th>\n",
       "      <th>numero_veiculo</th>\n",
       "    </tr>\n",
       "  </thead>\n",
       "  <tbody>\n",
       "    <tr>\n",
       "      <th>0</th>\n",
       "      <td>2021-11-12T06:52:08</td>\n",
       "      <td>7041643</td>\n",
       "      <td>710</td>\n",
       "      <td>67501</td>\n",
       "    </tr>\n",
       "    <tr>\n",
       "      <th>1</th>\n",
       "      <td>2021-11-12T08:05:25</td>\n",
       "      <td>8020902</td>\n",
       "      <td>710</td>\n",
       "      <td>67501</td>\n",
       "    </tr>\n",
       "    <tr>\n",
       "      <th>2</th>\n",
       "      <td>2021-11-12T09:18:43</td>\n",
       "      <td>7612487</td>\n",
       "      <td>710</td>\n",
       "      <td>67501</td>\n",
       "    </tr>\n",
       "    <tr>\n",
       "      <th>3</th>\n",
       "      <td>2021-11-12T09:56:09</td>\n",
       "      <td>7465706</td>\n",
       "      <td>710</td>\n",
       "      <td>67501</td>\n",
       "    </tr>\n",
       "    <tr>\n",
       "      <th>4</th>\n",
       "      <td>2021-11-12T10:55:17</td>\n",
       "      <td>6679924</td>\n",
       "      <td>710</td>\n",
       "      <td>67501</td>\n",
       "    </tr>\n",
       "  </tbody>\n",
       "</table>\n",
       "</div>"
      ],
      "text/plain": [
       "             data_hora matricula numero_linha numero_veiculo\n",
       "0  2021-11-12T06:52:08   7041643          710          67501\n",
       "1  2021-11-12T08:05:25   8020902          710          67501\n",
       "2  2021-11-12T09:18:43   7612487          710          67501\n",
       "3  2021-11-12T09:56:09   7465706          710          67501\n",
       "4  2021-11-12T10:55:17   6679924          710          67501"
      ]
     },
     "execution_count": 10,
     "metadata": {},
     "output_type": "execute_result"
    }
   ],
   "source": [
    "for movimento in tree.findall('Movimentos'):\n",
    "    for movimento_d in movimento.findall('MovimentoDiario'):\n",
    "        for categoria in movimento_d.findall('Categoria'):\n",
    "            for empresa in categoria.findall('Empresa'): \n",
    "                for veiculo in empresa.findall('Veiculo'):\n",
    "                    num_veiculo = veiculo.get('Numero')\n",
    "                    for linha in veiculo.findall('Linha'):\n",
    "                        num_linha = linha.get('Numero')\n",
    "                        for viagem in linha.findall('Viagem'):\n",
    "                            for passageiro in viagem.findall('Passageiro'):\n",
    "                                df = df.append({'data_hora': passageiro.get('data_hora'),\n",
    "                                        'matricula': passageiro.get('Matricula'),\n",
    "                                        'numero_linha': num_linha,\n",
    "                                        'numero_veiculo': num_veiculo},ignore_index=True)\n",
    "                                break\n",
    "\n",
    "df.head()\n",
    "\n"
   ]
  },
  {
   "cell_type": "code",
   "execution_count": 11,
   "metadata": {},
   "outputs": [
    {
     "name": "stdout",
     "output_type": "stream",
     "text": [
      "<class 'pandas.core.frame.DataFrame'>\n",
      "RangeIndex: 14035 entries, 0 to 14034\n",
      "Data columns (total 4 columns):\n",
      " #   Column          Non-Null Count  Dtype \n",
      "---  ------          --------------  ----- \n",
      " 0   data_hora       14035 non-null  object\n",
      " 1   matricula       14035 non-null  object\n",
      " 2   numero_linha    14035 non-null  object\n",
      " 3   numero_veiculo  14035 non-null  object\n",
      "dtypes: object(4)\n",
      "memory usage: 438.7+ KB\n"
     ]
    }
   ],
   "source": [
    "df.info()"
   ]
  },
  {
   "cell_type": "code",
   "execution_count": null,
   "metadata": {},
   "outputs": [],
   "source": []
  }
 ],
 "metadata": {
  "interpreter": {
   "hash": "9f27538263f2b06562ba4c3e17832466b72ccd68c529f4ccd732119dafa958f1"
  },
  "kernelspec": {
   "display_name": "Python 3.10.1 64-bit",
   "language": "python",
   "name": "python3"
  },
  "language_info": {
   "codemirror_mode": {
    "name": "ipython",
    "version": 3
   },
   "file_extension": ".py",
   "mimetype": "text/x-python",
   "name": "python",
   "nbconvert_exporter": "python",
   "pygments_lexer": "ipython3",
   "version": "3.10.1"
  },
  "orig_nbformat": 4
 },
 "nbformat": 4,
 "nbformat_minor": 2
}
