{
  "cells": [
    {
      "cell_type": "code",
      "execution_count": 1,
      "metadata": {
        "id": "Lm9ErKlkuX3c"
      },
      "outputs": [],
      "source": [
        "import pandas as pd\n",
        "import numpy as np\n",
        "\n",
        "# Modelagem\n",
        "from sklearn.model_selection import train_test_split\n",
        "from sklearn.linear_model import LinearRegression\n",
        "from sklearn.linear_model import Lasso\n",
        "from sklearn.linear_model import RidgeClassifier\n",
        "from sklearn.linear_model import ElasticNet \n",
        "from sklearn.metrics import mean_absolute_error, mean_squared_error, r2_score"
      ]
    },
    {
      "cell_type": "markdown",
      "metadata": {},
      "source": [
        "Carregamento dos Dados"
      ]
    },
    {
      "cell_type": "code",
      "execution_count": 75,
      "metadata": {},
      "outputs": [],
      "source": [
        "path = \"../../data/processed/\"\n",
        "v = pd.read_csv(path + \"V_setembro.csv\")\n",
        "fgr = pd.read_csv(path + \"FGR.csv\", decimal=\",\")\n",
        "paradas = pd.read_csv(path + \"paradas.csv\")\n",
        "rota_paradas = pd.read_csv(path + \"rota_paradas.csv\")\n",
        "rotas = pd.read_csv(path + \"rotas.csv\")\n",
        "dados_bairros = pd.read_csv(path + \"dados_bairros.csv\")"
      ]
    },
    {
      "cell_type": "code",
      "execution_count": null,
      "metadata": {},
      "outputs": [
        {
          "name": "stdout",
          "output_type": "stream",
          "text": [
            "<class 'pandas.core.frame.DataFrame'>\n",
            "RangeIndex: 15560968 entries, 0 to 15560967\n",
            "Data columns (total 31 columns):\n",
            " #   Column                          Dtype  \n",
            "---  ------                          -----  \n",
            " 0   Unnamed: 0                      int64  \n",
            " 1   movimentos_data_arq             object \n",
            " 2   movimento_diario_data_mov       object \n",
            " 3   categoria_tipo                  int64  \n",
            " 4   empresa_codigo                  int64  \n",
            " 5   empresa_modalidade              int64  \n",
            " 6   veiculo_numero                  int64  \n",
            " 7   veiculo_validador               object \n",
            " 8   linha_numero                    int64  \n",
            " 9   linha_jornada                   int64  \n",
            " 10  linha_num_operador              int64  \n",
            " 11  linha_tabela                    int64  \n",
            " 12  linha_hora_abertura             object \n",
            " 13  linha_hora_fechamento           object \n",
            " 14  viagem_data_hora_abertura       object \n",
            " 15  viagem_data_hora_fechamento     object \n",
            " 16  viagem_catraca_inicio           int64  \n",
            " 17  viagem_catraca_final            int64  \n",
            " 18  viagem_sentido                  int64  \n",
            " 19  viagem_ponto_abertura           int64  \n",
            " 20  viagem_ponto_fechamento         int64  \n",
            " 21  passageiro_data_hora            object \n",
            " 22  passageiro_integracao_bum       int64  \n",
            " 23  passageiro_valor_subsidio       int64  \n",
            " 24  passageiro_evento               int64  \n",
            " 25  passageiro_sigben               int64  \n",
            " 26  passageiro_integracao           int64  \n",
            " 27  passageiro_valor_pago           float64\n",
            " 28  passageiro_tipo                 int64  \n",
            " 29  passageiro_matricula            int64  \n",
            " 30  passageiro_valor_repasse_metro  float64\n",
            "dtypes: float64(2), int64(21), object(8)\n",
            "memory usage: 3.6+ GB\n"
          ]
        }
      ],
      "source": [
        "v.info()"
      ]
    },
    {
      "cell_type": "markdown",
      "metadata": {},
      "source": [
        "# Feature Enginerring"
      ]
    },
    {
      "cell_type": "markdown",
      "metadata": {
        "id": "VGJyVdL2uX3g"
      },
      "source": [
        "Construção de variáveis\n",
        "- Demanda\n",
        "- Tamanho da linha\n",
        "- Horario\n",
        "- IDH dos bairros\n",
        "- É domingo?"
      ]
    },
    {
      "cell_type": "code",
      "execution_count": 77,
      "metadata": {
        "id": "L2pkrwmGuX3h"
      },
      "outputs": [],
      "source": [
        "demanda_p_linha_dia = v.groupby([\"linha_numero\", \"movimento_diario_data_mov\"]).count()[\"passageiro_matricula\"].to_frame().reset_index()\n",
        "demanda_p_linha_dia.rename(columns={\"passageiro_matricula\": \"demanda_do_dia\"}, inplace = True)"
      ]
    },
    {
      "cell_type": "code",
      "execution_count": 78,
      "metadata": {
        "colab": {
          "base_uri": "https://localhost:8080/",
          "height": 424
        },
        "id": "Ln8Bg_-QuX3i",
        "outputId": "324e996a-2abc-4f62-98aa-98f2da7eed12"
      },
      "outputs": [
        {
          "data": {
            "text/html": [
              "<div>\n",
              "<style scoped>\n",
              "    .dataframe tbody tr th:only-of-type {\n",
              "        vertical-align: middle;\n",
              "    }\n",
              "\n",
              "    .dataframe tbody tr th {\n",
              "        vertical-align: top;\n",
              "    }\n",
              "\n",
              "    .dataframe thead th {\n",
              "        text-align: right;\n",
              "    }\n",
              "</style>\n",
              "<table border=\"1\" class=\"dataframe\">\n",
              "  <thead>\n",
              "    <tr style=\"text-align: right;\">\n",
              "      <th></th>\n",
              "      <th>linha_numero</th>\n",
              "      <th>movimento_diario_data_mov</th>\n",
              "      <th>demanda_do_dia</th>\n",
              "    </tr>\n",
              "  </thead>\n",
              "  <tbody>\n",
              "    <tr>\n",
              "      <th>0</th>\n",
              "      <td>1</td>\n",
              "      <td>2021-08-29</td>\n",
              "      <td>232</td>\n",
              "    </tr>\n",
              "    <tr>\n",
              "      <th>1</th>\n",
              "      <td>1</td>\n",
              "      <td>2021-08-31</td>\n",
              "      <td>9096</td>\n",
              "    </tr>\n",
              "    <tr>\n",
              "      <th>2</th>\n",
              "      <td>1</td>\n",
              "      <td>2021-09-01</td>\n",
              "      <td>8888</td>\n",
              "    </tr>\n",
              "    <tr>\n",
              "      <th>3</th>\n",
              "      <td>1</td>\n",
              "      <td>2021-09-02</td>\n",
              "      <td>8244</td>\n",
              "    </tr>\n",
              "    <tr>\n",
              "      <th>4</th>\n",
              "      <td>1</td>\n",
              "      <td>2021-09-03</td>\n",
              "      <td>9020</td>\n",
              "    </tr>\n",
              "    <tr>\n",
              "      <th>...</th>\n",
              "      <td>...</td>\n",
              "      <td>...</td>\n",
              "      <td>...</td>\n",
              "    </tr>\n",
              "    <tr>\n",
              "      <th>8838</th>\n",
              "      <td>991</td>\n",
              "      <td>2021-09-02</td>\n",
              "      <td>55</td>\n",
              "    </tr>\n",
              "    <tr>\n",
              "      <th>8839</th>\n",
              "      <td>999</td>\n",
              "      <td>2021-09-05</td>\n",
              "      <td>350</td>\n",
              "    </tr>\n",
              "    <tr>\n",
              "      <th>8840</th>\n",
              "      <td>999</td>\n",
              "      <td>2021-09-12</td>\n",
              "      <td>305</td>\n",
              "    </tr>\n",
              "    <tr>\n",
              "      <th>8841</th>\n",
              "      <td>999</td>\n",
              "      <td>2021-09-19</td>\n",
              "      <td>365</td>\n",
              "    </tr>\n",
              "    <tr>\n",
              "      <th>8842</th>\n",
              "      <td>999</td>\n",
              "      <td>2021-09-26</td>\n",
              "      <td>361</td>\n",
              "    </tr>\n",
              "  </tbody>\n",
              "</table>\n",
              "<p>8843 rows × 3 columns</p>\n",
              "</div>"
            ],
            "text/plain": [
              "      linha_numero movimento_diario_data_mov  demanda_do_dia\n",
              "0                1                2021-08-29             232\n",
              "1                1                2021-08-31            9096\n",
              "2                1                2021-09-01            8888\n",
              "3                1                2021-09-02            8244\n",
              "4                1                2021-09-03            9020\n",
              "...            ...                       ...             ...\n",
              "8838           991                2021-09-02              55\n",
              "8839           999                2021-09-05             350\n",
              "8840           999                2021-09-12             305\n",
              "8841           999                2021-09-19             365\n",
              "8842           999                2021-09-26             361\n",
              "\n",
              "[8843 rows x 3 columns]"
            ]
          },
          "execution_count": 78,
          "metadata": {},
          "output_type": "execute_result"
        }
      ],
      "source": [
        "demanda_p_linha_dia"
      ]
    },
    {
      "cell_type": "code",
      "execution_count": 79,
      "metadata": {
        "id": "FY-N2BKjuX3i"
      },
      "outputs": [],
      "source": [
        "# Demanda por intervalo de tempo\n",
        "v[\"passageiro_data_hora\"] = pd.to_datetime(v[\"passageiro_data_hora\"])\n",
        "v[\"passageiro_hora_entrada\"] = v[\"passageiro_data_hora\"].dt.hour\n",
        "# v[\"passageiro_hora_range\"] = pd.cut(v[\"passageiro_hora_entrada\"], bins=[-1, 4, 6, 9, 12, 15, 18, 21, float('Inf')], labels=['00-3h59', '4-5h59', '6-8h59', '9-11h59', '12-14h59', '15-17h59', '18-20h59', '21-23h59'])\n",
        "v_hora_range = v.groupby([\"linha_numero\", \"movimento_diario_data_mov\", \"passageiro_hora_entrada\"]).count()[\"passageiro_matricula\"].to_frame().reset_index()\n",
        "v_hora_range.dropna(inplace=True)"
      ]
    },
    {
      "cell_type": "code",
      "execution_count": 80,
      "metadata": {
        "colab": {
          "base_uri": "https://localhost:8080/",
          "height": 424
        },
        "id": "6Gx4dGKsuX3j",
        "outputId": "cb247567-2763-4459-d818-b719caf42ec3"
      },
      "outputs": [
        {
          "data": {
            "text/html": [
              "<div>\n",
              "<style scoped>\n",
              "    .dataframe tbody tr th:only-of-type {\n",
              "        vertical-align: middle;\n",
              "    }\n",
              "\n",
              "    .dataframe tbody tr th {\n",
              "        vertical-align: top;\n",
              "    }\n",
              "\n",
              "    .dataframe thead th {\n",
              "        text-align: right;\n",
              "    }\n",
              "</style>\n",
              "<table border=\"1\" class=\"dataframe\">\n",
              "  <thead>\n",
              "    <tr style=\"text-align: right;\">\n",
              "      <th></th>\n",
              "      <th>linha_numero</th>\n",
              "      <th>movimento_diario_data_mov</th>\n",
              "      <th>passageiro_hora_entrada</th>\n",
              "      <th>passageiro_matricula</th>\n",
              "    </tr>\n",
              "  </thead>\n",
              "  <tbody>\n",
              "    <tr>\n",
              "      <th>0</th>\n",
              "      <td>1</td>\n",
              "      <td>2021-08-29</td>\n",
              "      <td>6</td>\n",
              "      <td>4</td>\n",
              "    </tr>\n",
              "    <tr>\n",
              "      <th>1</th>\n",
              "      <td>1</td>\n",
              "      <td>2021-08-29</td>\n",
              "      <td>7</td>\n",
              "      <td>40</td>\n",
              "    </tr>\n",
              "    <tr>\n",
              "      <th>2</th>\n",
              "      <td>1</td>\n",
              "      <td>2021-08-29</td>\n",
              "      <td>8</td>\n",
              "      <td>31</td>\n",
              "    </tr>\n",
              "    <tr>\n",
              "      <th>3</th>\n",
              "      <td>1</td>\n",
              "      <td>2021-08-29</td>\n",
              "      <td>9</td>\n",
              "      <td>3</td>\n",
              "    </tr>\n",
              "    <tr>\n",
              "      <th>4</th>\n",
              "      <td>1</td>\n",
              "      <td>2021-08-29</td>\n",
              "      <td>10</td>\n",
              "      <td>24</td>\n",
              "    </tr>\n",
              "    <tr>\n",
              "      <th>...</th>\n",
              "      <td>...</td>\n",
              "      <td>...</td>\n",
              "      <td>...</td>\n",
              "      <td>...</td>\n",
              "    </tr>\n",
              "    <tr>\n",
              "      <th>158001</th>\n",
              "      <td>999</td>\n",
              "      <td>2021-09-26</td>\n",
              "      <td>14</td>\n",
              "      <td>55</td>\n",
              "    </tr>\n",
              "    <tr>\n",
              "      <th>158002</th>\n",
              "      <td>999</td>\n",
              "      <td>2021-09-26</td>\n",
              "      <td>15</td>\n",
              "      <td>55</td>\n",
              "    </tr>\n",
              "    <tr>\n",
              "      <th>158003</th>\n",
              "      <td>999</td>\n",
              "      <td>2021-09-26</td>\n",
              "      <td>16</td>\n",
              "      <td>37</td>\n",
              "    </tr>\n",
              "    <tr>\n",
              "      <th>158004</th>\n",
              "      <td>999</td>\n",
              "      <td>2021-09-26</td>\n",
              "      <td>17</td>\n",
              "      <td>136</td>\n",
              "    </tr>\n",
              "    <tr>\n",
              "      <th>158005</th>\n",
              "      <td>999</td>\n",
              "      <td>2021-09-26</td>\n",
              "      <td>18</td>\n",
              "      <td>78</td>\n",
              "    </tr>\n",
              "  </tbody>\n",
              "</table>\n",
              "<p>158006 rows × 4 columns</p>\n",
              "</div>"
            ],
            "text/plain": [
              "        linha_numero movimento_diario_data_mov  passageiro_hora_entrada  \\\n",
              "0                  1                2021-08-29                        6   \n",
              "1                  1                2021-08-29                        7   \n",
              "2                  1                2021-08-29                        8   \n",
              "3                  1                2021-08-29                        9   \n",
              "4                  1                2021-08-29                       10   \n",
              "...              ...                       ...                      ...   \n",
              "158001           999                2021-09-26                       14   \n",
              "158002           999                2021-09-26                       15   \n",
              "158003           999                2021-09-26                       16   \n",
              "158004           999                2021-09-26                       17   \n",
              "158005           999                2021-09-26                       18   \n",
              "\n",
              "        passageiro_matricula  \n",
              "0                          4  \n",
              "1                         40  \n",
              "2                         31  \n",
              "3                          3  \n",
              "4                         24  \n",
              "...                      ...  \n",
              "158001                    55  \n",
              "158002                    55  \n",
              "158003                    37  \n",
              "158004                   136  \n",
              "158005                    78  \n",
              "\n",
              "[158006 rows x 4 columns]"
            ]
          },
          "execution_count": 80,
          "metadata": {},
          "output_type": "execute_result"
        }
      ],
      "source": [
        "v_hora_range"
      ]
    },
    {
      "cell_type": "code",
      "execution_count": 81,
      "metadata": {
        "id": "THAG0VyTuX3k"
      },
      "outputs": [],
      "source": [
        "# Dias da semana\n",
        "days_week ={\n",
        "    0: 'Segunda', \n",
        "    1: 'Terça', \n",
        "    2: 'Quarta', \n",
        "    3: 'Quinta', \n",
        "    4: 'Sexta',\n",
        "    5: 'Sábado', \n",
        "    6: 'Domingo'\n",
        "}\n",
        "\n",
        "v_hora_range[\"movimento_diario_data_mov\"] = pd.to_datetime(v_hora_range[\"movimento_diario_data_mov\"])\n",
        "\n",
        "def eh_domingo(dia_semana):\n",
        "    if dia_semana == \"Domingo\":\n",
        "        return 1\n",
        "    else:\n",
        "        return 0\n",
        "\n",
        "v_hora_range[\"Dia_Semana\"] = v_hora_range.movimento_diario_data_mov.dt.weekday\n",
        "v_hora_range[\"Dia_Semana\"] = v_hora_range.Dia_Semana.map(days_week)\n",
        "v_hora_range[\"Domingo\"] = v_hora_range[\"Dia_Semana\"].map(eh_domingo)"
      ]
    },
    {
      "cell_type": "code",
      "execution_count": 82,
      "metadata": {},
      "outputs": [
        {
          "data": {
            "text/html": [
              "<div>\n",
              "<style scoped>\n",
              "    .dataframe tbody tr th:only-of-type {\n",
              "        vertical-align: middle;\n",
              "    }\n",
              "\n",
              "    .dataframe tbody tr th {\n",
              "        vertical-align: top;\n",
              "    }\n",
              "\n",
              "    .dataframe thead th {\n",
              "        text-align: right;\n",
              "    }\n",
              "</style>\n",
              "<table border=\"1\" class=\"dataframe\">\n",
              "  <thead>\n",
              "    <tr style=\"text-align: right;\">\n",
              "      <th></th>\n",
              "      <th>linha_numero</th>\n",
              "      <th>movimento_diario_data_mov</th>\n",
              "      <th>passageiro_hora_entrada</th>\n",
              "      <th>passageiro_matricula</th>\n",
              "      <th>Dia_Semana</th>\n",
              "      <th>Domingo</th>\n",
              "    </tr>\n",
              "  </thead>\n",
              "  <tbody>\n",
              "    <tr>\n",
              "      <th>0</th>\n",
              "      <td>1</td>\n",
              "      <td>2021-08-29</td>\n",
              "      <td>6</td>\n",
              "      <td>4</td>\n",
              "      <td>Domingo</td>\n",
              "      <td>1</td>\n",
              "    </tr>\n",
              "    <tr>\n",
              "      <th>1</th>\n",
              "      <td>1</td>\n",
              "      <td>2021-08-29</td>\n",
              "      <td>7</td>\n",
              "      <td>40</td>\n",
              "      <td>Domingo</td>\n",
              "      <td>1</td>\n",
              "    </tr>\n",
              "    <tr>\n",
              "      <th>2</th>\n",
              "      <td>1</td>\n",
              "      <td>2021-08-29</td>\n",
              "      <td>8</td>\n",
              "      <td>31</td>\n",
              "      <td>Domingo</td>\n",
              "      <td>1</td>\n",
              "    </tr>\n",
              "    <tr>\n",
              "      <th>3</th>\n",
              "      <td>1</td>\n",
              "      <td>2021-08-29</td>\n",
              "      <td>9</td>\n",
              "      <td>3</td>\n",
              "      <td>Domingo</td>\n",
              "      <td>1</td>\n",
              "    </tr>\n",
              "    <tr>\n",
              "      <th>4</th>\n",
              "      <td>1</td>\n",
              "      <td>2021-08-29</td>\n",
              "      <td>10</td>\n",
              "      <td>24</td>\n",
              "      <td>Domingo</td>\n",
              "      <td>1</td>\n",
              "    </tr>\n",
              "    <tr>\n",
              "      <th>...</th>\n",
              "      <td>...</td>\n",
              "      <td>...</td>\n",
              "      <td>...</td>\n",
              "      <td>...</td>\n",
              "      <td>...</td>\n",
              "      <td>...</td>\n",
              "    </tr>\n",
              "    <tr>\n",
              "      <th>158001</th>\n",
              "      <td>999</td>\n",
              "      <td>2021-09-26</td>\n",
              "      <td>14</td>\n",
              "      <td>55</td>\n",
              "      <td>Domingo</td>\n",
              "      <td>1</td>\n",
              "    </tr>\n",
              "    <tr>\n",
              "      <th>158002</th>\n",
              "      <td>999</td>\n",
              "      <td>2021-09-26</td>\n",
              "      <td>15</td>\n",
              "      <td>55</td>\n",
              "      <td>Domingo</td>\n",
              "      <td>1</td>\n",
              "    </tr>\n",
              "    <tr>\n",
              "      <th>158003</th>\n",
              "      <td>999</td>\n",
              "      <td>2021-09-26</td>\n",
              "      <td>16</td>\n",
              "      <td>37</td>\n",
              "      <td>Domingo</td>\n",
              "      <td>1</td>\n",
              "    </tr>\n",
              "    <tr>\n",
              "      <th>158004</th>\n",
              "      <td>999</td>\n",
              "      <td>2021-09-26</td>\n",
              "      <td>17</td>\n",
              "      <td>136</td>\n",
              "      <td>Domingo</td>\n",
              "      <td>1</td>\n",
              "    </tr>\n",
              "    <tr>\n",
              "      <th>158005</th>\n",
              "      <td>999</td>\n",
              "      <td>2021-09-26</td>\n",
              "      <td>18</td>\n",
              "      <td>78</td>\n",
              "      <td>Domingo</td>\n",
              "      <td>1</td>\n",
              "    </tr>\n",
              "  </tbody>\n",
              "</table>\n",
              "<p>158006 rows × 6 columns</p>\n",
              "</div>"
            ],
            "text/plain": [
              "        linha_numero movimento_diario_data_mov  passageiro_hora_entrada  \\\n",
              "0                  1                2021-08-29                        6   \n",
              "1                  1                2021-08-29                        7   \n",
              "2                  1                2021-08-29                        8   \n",
              "3                  1                2021-08-29                        9   \n",
              "4                  1                2021-08-29                       10   \n",
              "...              ...                       ...                      ...   \n",
              "158001           999                2021-09-26                       14   \n",
              "158002           999                2021-09-26                       15   \n",
              "158003           999                2021-09-26                       16   \n",
              "158004           999                2021-09-26                       17   \n",
              "158005           999                2021-09-26                       18   \n",
              "\n",
              "        passageiro_matricula Dia_Semana  Domingo  \n",
              "0                          4    Domingo        1  \n",
              "1                         40    Domingo        1  \n",
              "2                         31    Domingo        1  \n",
              "3                          3    Domingo        1  \n",
              "4                         24    Domingo        1  \n",
              "...                      ...        ...      ...  \n",
              "158001                    55    Domingo        1  \n",
              "158002                    55    Domingo        1  \n",
              "158003                    37    Domingo        1  \n",
              "158004                   136    Domingo        1  \n",
              "158005                    78    Domingo        1  \n",
              "\n",
              "[158006 rows x 6 columns]"
            ]
          },
          "execution_count": 82,
          "metadata": {},
          "output_type": "execute_result"
        }
      ],
      "source": [
        "v_hora_range"
      ]
    },
    {
      "cell_type": "markdown",
      "metadata": {},
      "source": [
        " Variável de km da rota"
      ]
    },
    {
      "cell_type": "code",
      "execution_count": 83,
      "metadata": {
        "id": "XfHv8UQJuX3l"
      },
      "outputs": [],
      "source": [
        "\n",
        "linha_p_km_programado = fgr[[\"fechamento_data\", \"linha_numero\", \"linha_km_programado\"]].drop_duplicates()\n",
        "linha_p_km_programado = linha_p_km_programado[linha_p_km_programado.linha_km_programado != 0]\n",
        "linha_demanda_km = demanda_p_linha_dia.merge(linha_p_km_programado, how=\"inner\", left_on=[\"linha_numero\"], right_on=[\"linha_numero\"])\n",
        "linha_demanda_km.drop(columns=[\"fechamento_data\"], inplace=True)\n",
        "linha_demanda_km = linha_demanda_km.groupby([\"linha_numero\"]).mean()[[\"linha_km_programado\"]].reset_index()\n",
        "dataset_model = v_hora_range.merge(linha_demanda_km, how=\"inner\", on=\"linha_numero\")"
      ]
    },
    {
      "cell_type": "code",
      "execution_count": 84,
      "metadata": {},
      "outputs": [
        {
          "data": {
            "text/html": [
              "<div>\n",
              "<style scoped>\n",
              "    .dataframe tbody tr th:only-of-type {\n",
              "        vertical-align: middle;\n",
              "    }\n",
              "\n",
              "    .dataframe tbody tr th {\n",
              "        vertical-align: top;\n",
              "    }\n",
              "\n",
              "    .dataframe thead th {\n",
              "        text-align: right;\n",
              "    }\n",
              "</style>\n",
              "<table border=\"1\" class=\"dataframe\">\n",
              "  <thead>\n",
              "    <tr style=\"text-align: right;\">\n",
              "      <th></th>\n",
              "      <th>linha_numero</th>\n",
              "      <th>movimento_diario_data_mov</th>\n",
              "      <th>passageiro_hora_entrada</th>\n",
              "      <th>passageiro_matricula</th>\n",
              "      <th>Dia_Semana</th>\n",
              "      <th>Domingo</th>\n",
              "      <th>linha_km_programado</th>\n",
              "    </tr>\n",
              "  </thead>\n",
              "  <tbody>\n",
              "    <tr>\n",
              "      <th>0</th>\n",
              "      <td>4</td>\n",
              "      <td>2021-08-31</td>\n",
              "      <td>7</td>\n",
              "      <td>81</td>\n",
              "      <td>Terça</td>\n",
              "      <td>0</td>\n",
              "      <td>1165.12</td>\n",
              "    </tr>\n",
              "    <tr>\n",
              "      <th>1</th>\n",
              "      <td>4</td>\n",
              "      <td>2021-08-31</td>\n",
              "      <td>8</td>\n",
              "      <td>105</td>\n",
              "      <td>Terça</td>\n",
              "      <td>0</td>\n",
              "      <td>1165.12</td>\n",
              "    </tr>\n",
              "    <tr>\n",
              "      <th>2</th>\n",
              "      <td>4</td>\n",
              "      <td>2021-08-31</td>\n",
              "      <td>9</td>\n",
              "      <td>133</td>\n",
              "      <td>Terça</td>\n",
              "      <td>0</td>\n",
              "      <td>1165.12</td>\n",
              "    </tr>\n",
              "    <tr>\n",
              "      <th>3</th>\n",
              "      <td>4</td>\n",
              "      <td>2021-08-31</td>\n",
              "      <td>10</td>\n",
              "      <td>134</td>\n",
              "      <td>Terça</td>\n",
              "      <td>0</td>\n",
              "      <td>1165.12</td>\n",
              "    </tr>\n",
              "    <tr>\n",
              "      <th>4</th>\n",
              "      <td>4</td>\n",
              "      <td>2021-08-31</td>\n",
              "      <td>11</td>\n",
              "      <td>138</td>\n",
              "      <td>Terça</td>\n",
              "      <td>0</td>\n",
              "      <td>1165.12</td>\n",
              "    </tr>\n",
              "    <tr>\n",
              "      <th>...</th>\n",
              "      <td>...</td>\n",
              "      <td>...</td>\n",
              "      <td>...</td>\n",
              "      <td>...</td>\n",
              "      <td>...</td>\n",
              "      <td>...</td>\n",
              "      <td>...</td>\n",
              "    </tr>\n",
              "    <tr>\n",
              "      <th>151568</th>\n",
              "      <td>991</td>\n",
              "      <td>2021-08-31</td>\n",
              "      <td>17</td>\n",
              "      <td>52</td>\n",
              "      <td>Terça</td>\n",
              "      <td>0</td>\n",
              "      <td>18.29</td>\n",
              "    </tr>\n",
              "    <tr>\n",
              "      <th>151569</th>\n",
              "      <td>991</td>\n",
              "      <td>2021-09-01</td>\n",
              "      <td>16</td>\n",
              "      <td>5</td>\n",
              "      <td>Quarta</td>\n",
              "      <td>0</td>\n",
              "      <td>18.29</td>\n",
              "    </tr>\n",
              "    <tr>\n",
              "      <th>151570</th>\n",
              "      <td>991</td>\n",
              "      <td>2021-09-01</td>\n",
              "      <td>17</td>\n",
              "      <td>50</td>\n",
              "      <td>Quarta</td>\n",
              "      <td>0</td>\n",
              "      <td>18.29</td>\n",
              "    </tr>\n",
              "    <tr>\n",
              "      <th>151571</th>\n",
              "      <td>991</td>\n",
              "      <td>2021-09-02</td>\n",
              "      <td>16</td>\n",
              "      <td>36</td>\n",
              "      <td>Quinta</td>\n",
              "      <td>0</td>\n",
              "      <td>18.29</td>\n",
              "    </tr>\n",
              "    <tr>\n",
              "      <th>151572</th>\n",
              "      <td>991</td>\n",
              "      <td>2021-09-02</td>\n",
              "      <td>17</td>\n",
              "      <td>19</td>\n",
              "      <td>Quinta</td>\n",
              "      <td>0</td>\n",
              "      <td>18.29</td>\n",
              "    </tr>\n",
              "  </tbody>\n",
              "</table>\n",
              "<p>151573 rows × 7 columns</p>\n",
              "</div>"
            ],
            "text/plain": [
              "        linha_numero movimento_diario_data_mov  passageiro_hora_entrada  \\\n",
              "0                  4                2021-08-31                        7   \n",
              "1                  4                2021-08-31                        8   \n",
              "2                  4                2021-08-31                        9   \n",
              "3                  4                2021-08-31                       10   \n",
              "4                  4                2021-08-31                       11   \n",
              "...              ...                       ...                      ...   \n",
              "151568           991                2021-08-31                       17   \n",
              "151569           991                2021-09-01                       16   \n",
              "151570           991                2021-09-01                       17   \n",
              "151571           991                2021-09-02                       16   \n",
              "151572           991                2021-09-02                       17   \n",
              "\n",
              "        passageiro_matricula Dia_Semana  Domingo  linha_km_programado  \n",
              "0                         81      Terça        0              1165.12  \n",
              "1                        105      Terça        0              1165.12  \n",
              "2                        133      Terça        0              1165.12  \n",
              "3                        134      Terça        0              1165.12  \n",
              "4                        138      Terça        0              1165.12  \n",
              "...                      ...        ...      ...                  ...  \n",
              "151568                    52      Terça        0                18.29  \n",
              "151569                     5     Quarta        0                18.29  \n",
              "151570                    50     Quarta        0                18.29  \n",
              "151571                    36     Quinta        0                18.29  \n",
              "151572                    19     Quinta        0                18.29  \n",
              "\n",
              "[151573 rows x 7 columns]"
            ]
          },
          "execution_count": 84,
          "metadata": {},
          "output_type": "execute_result"
        }
      ],
      "source": [
        "dataset_model"
      ]
    },
    {
      "cell_type": "markdown",
      "metadata": {},
      "source": [
        "Maior IDH de bairro em que a rota passa"
      ]
    },
    {
      "cell_type": "code",
      "execution_count": 85,
      "metadata": {
        "id": "PF3IwqmtuX3m"
      },
      "outputs": [],
      "source": [
        "rota_paradas_merged = rota_paradas.merge(paradas, how=\"inner\", on=\"stop_id\")\n",
        "rota_paradas_merged = rota_paradas_merged.merge(rotas, how=\"inner\", on=\"route_id\")\n",
        "rotas_paradas_clean = rota_paradas_merged[[\"route_id\", \"stop_sequence\", \"district\", \"city\"]]\n",
        "rotas_paradas_demanda = rotas_paradas_clean.merge(demanda_p_linha_dia, how=\"inner\", left_on=\"route_id\", right_on=\"linha_numero\")\n",
        "rotas_paradas_demanda.drop(columns=[\"route_id\", \"stop_sequence\"], inplace=True)\n",
        "rotas_paradas_demanda = rotas_paradas_demanda[rotas_paradas_demanda[\"city\"] == \"Fortaleza\"]"
      ]
    },
    {
      "cell_type": "code",
      "execution_count": 86,
      "metadata": {
        "colab": {
          "base_uri": "https://localhost:8080/"
        },
        "id": "xgJfD2J5vrNr",
        "outputId": "e2d5d937-321e-4884-b039-b6f5a1f6cf19"
      },
      "outputs": [
        {
          "name": "stdout",
          "output_type": "stream",
          "text": [
            "Requirement already satisfied: unidecode in c:\\users\\usuario\\anaconda3\\lib\\site-packages (1.3.4)\n"
          ]
        }
      ],
      "source": [
        "!pip install unidecode"
      ]
    },
    {
      "cell_type": "code",
      "execution_count": 87,
      "metadata": {
        "id": "ZuuGUoXwuX3m"
      },
      "outputs": [],
      "source": [
        "# Retira acentos e barras (/ + termo) dos nomes dos bairros\n",
        "from unidecode import unidecode\n",
        "\n",
        "district = []\n",
        "for index, row in rotas_paradas_demanda.iterrows():\n",
        "  district_without_punt = unidecode(row[\"district\"])\n",
        "  district_without_barra = district_without_punt.split(\"/\")[0]\n",
        "  if district_without_barra.startswith(\"Parque \"):\n",
        "    district_without_barra = district_without_barra.replace(\"Parque \", \"\")\n",
        "  if district_without_barra.startswith(\"Vila \"):\n",
        "    district_without_barra = district_without_barra.replace(\"Vila \", \"\")\n",
        "  if district_without_barra.startswith(\"Prefeito \"):\n",
        "    district_without_barra = district_without_barra.replace(\"Prefeito \", \"\")\n",
        "  district.append(district_without_barra.strip())\n",
        "rotas_paradas_demanda[\"Bairro\"] = district\n",
        "\n",
        "district = []\n",
        "for index, row in dados_bairros.iterrows():\n",
        "  district_without_punt = unidecode(row[\"Bairros\"])\n",
        "  district_without_barra = district_without_punt.split(\"/\")[0]\n",
        "  if district_without_barra.startswith(\"Parque \"):\n",
        "    district_without_barra = district_without_barra.replace(\"Parque \", \"\")\n",
        "  if district_without_barra.startswith(\"Vila \"):\n",
        "    district_without_barra = district_without_barra.replace(\"Vila \", \"\")\n",
        "  if district_without_barra.startswith(\"Prefeito \"):\n",
        "    district_without_barra = district_without_barra.replace(\"Prefeito \", \"\")\n",
        "  district.append(district_without_barra.strip())\n",
        "dados_bairros[\"Bairro\"] = district"
      ]
    },
    {
      "cell_type": "code",
      "execution_count": 88,
      "metadata": {
        "id": "xDap89ELuX3n"
      },
      "outputs": [],
      "source": [
        "rotas_paradas_demanda[\"Bairro\"] = rotas_paradas_demanda[\"Bairro\"].str.lower()\n",
        "rotas_paradas_demanda[\"Bairro\"] = rotas_paradas_demanda[\"Bairro\"].str.replace(\"ç\", \"c\")\n",
        "dados_bairros[\"Bairro\"] = dados_bairros[\"Bairro\"].str.lower()\n",
        "rotas_demanda_bairro = rotas_paradas_demanda.merge(dados_bairros, how=\"inner\", left_on=\"Bairro\", right_on=\"Bairro\")\n",
        "rotas_idh_max = rotas_demanda_bairro.groupby([\"linha_numero\"]).mean()[[\"IDH em 2010[8]\"]].reset_index()\n",
        "dataset_model = dataset_model.merge(rotas_idh_max, how=\"inner\", on=\"linha_numero\")"
      ]
    },
    {
      "cell_type": "code",
      "execution_count": 89,
      "metadata": {},
      "outputs": [
        {
          "data": {
            "text/html": [
              "<div>\n",
              "<style scoped>\n",
              "    .dataframe tbody tr th:only-of-type {\n",
              "        vertical-align: middle;\n",
              "    }\n",
              "\n",
              "    .dataframe tbody tr th {\n",
              "        vertical-align: top;\n",
              "    }\n",
              "\n",
              "    .dataframe thead th {\n",
              "        text-align: right;\n",
              "    }\n",
              "</style>\n",
              "<table border=\"1\" class=\"dataframe\">\n",
              "  <thead>\n",
              "    <tr style=\"text-align: right;\">\n",
              "      <th></th>\n",
              "      <th>linha_numero</th>\n",
              "      <th>movimento_diario_data_mov</th>\n",
              "      <th>passageiro_hora_entrada</th>\n",
              "      <th>passageiro_matricula</th>\n",
              "      <th>Dia_Semana</th>\n",
              "      <th>Domingo</th>\n",
              "      <th>linha_km_programado</th>\n",
              "      <th>IDH em 2010[8]</th>\n",
              "    </tr>\n",
              "  </thead>\n",
              "  <tbody>\n",
              "    <tr>\n",
              "      <th>0</th>\n",
              "      <td>4</td>\n",
              "      <td>2021-08-31</td>\n",
              "      <td>7</td>\n",
              "      <td>81</td>\n",
              "      <td>Terça</td>\n",
              "      <td>0</td>\n",
              "      <td>1165.120000</td>\n",
              "      <td>0.465660</td>\n",
              "    </tr>\n",
              "    <tr>\n",
              "      <th>1</th>\n",
              "      <td>4</td>\n",
              "      <td>2021-08-31</td>\n",
              "      <td>8</td>\n",
              "      <td>105</td>\n",
              "      <td>Terça</td>\n",
              "      <td>0</td>\n",
              "      <td>1165.120000</td>\n",
              "      <td>0.465660</td>\n",
              "    </tr>\n",
              "    <tr>\n",
              "      <th>2</th>\n",
              "      <td>4</td>\n",
              "      <td>2021-08-31</td>\n",
              "      <td>9</td>\n",
              "      <td>133</td>\n",
              "      <td>Terça</td>\n",
              "      <td>0</td>\n",
              "      <td>1165.120000</td>\n",
              "      <td>0.465660</td>\n",
              "    </tr>\n",
              "    <tr>\n",
              "      <th>3</th>\n",
              "      <td>4</td>\n",
              "      <td>2021-08-31</td>\n",
              "      <td>10</td>\n",
              "      <td>134</td>\n",
              "      <td>Terça</td>\n",
              "      <td>0</td>\n",
              "      <td>1165.120000</td>\n",
              "      <td>0.465660</td>\n",
              "    </tr>\n",
              "    <tr>\n",
              "      <th>4</th>\n",
              "      <td>4</td>\n",
              "      <td>2021-08-31</td>\n",
              "      <td>11</td>\n",
              "      <td>138</td>\n",
              "      <td>Terça</td>\n",
              "      <td>0</td>\n",
              "      <td>1165.120000</td>\n",
              "      <td>0.465660</td>\n",
              "    </tr>\n",
              "    <tr>\n",
              "      <th>...</th>\n",
              "      <td>...</td>\n",
              "      <td>...</td>\n",
              "      <td>...</td>\n",
              "      <td>...</td>\n",
              "      <td>...</td>\n",
              "      <td>...</td>\n",
              "      <td>...</td>\n",
              "      <td>...</td>\n",
              "    </tr>\n",
              "    <tr>\n",
              "      <th>135570</th>\n",
              "      <td>920</td>\n",
              "      <td>2021-09-29</td>\n",
              "      <td>19</td>\n",
              "      <td>51</td>\n",
              "      <td>Quarta</td>\n",
              "      <td>0</td>\n",
              "      <td>1179.797143</td>\n",
              "      <td>0.291214</td>\n",
              "    </tr>\n",
              "    <tr>\n",
              "      <th>135571</th>\n",
              "      <td>920</td>\n",
              "      <td>2021-09-29</td>\n",
              "      <td>20</td>\n",
              "      <td>29</td>\n",
              "      <td>Quarta</td>\n",
              "      <td>0</td>\n",
              "      <td>1179.797143</td>\n",
              "      <td>0.291214</td>\n",
              "    </tr>\n",
              "    <tr>\n",
              "      <th>135572</th>\n",
              "      <td>920</td>\n",
              "      <td>2021-09-29</td>\n",
              "      <td>21</td>\n",
              "      <td>15</td>\n",
              "      <td>Quarta</td>\n",
              "      <td>0</td>\n",
              "      <td>1179.797143</td>\n",
              "      <td>0.291214</td>\n",
              "    </tr>\n",
              "    <tr>\n",
              "      <th>135573</th>\n",
              "      <td>920</td>\n",
              "      <td>2021-09-29</td>\n",
              "      <td>22</td>\n",
              "      <td>16</td>\n",
              "      <td>Quarta</td>\n",
              "      <td>0</td>\n",
              "      <td>1179.797143</td>\n",
              "      <td>0.291214</td>\n",
              "    </tr>\n",
              "    <tr>\n",
              "      <th>135574</th>\n",
              "      <td>920</td>\n",
              "      <td>2021-09-29</td>\n",
              "      <td>23</td>\n",
              "      <td>17</td>\n",
              "      <td>Quarta</td>\n",
              "      <td>0</td>\n",
              "      <td>1179.797143</td>\n",
              "      <td>0.291214</td>\n",
              "    </tr>\n",
              "  </tbody>\n",
              "</table>\n",
              "<p>135575 rows × 8 columns</p>\n",
              "</div>"
            ],
            "text/plain": [
              "        linha_numero movimento_diario_data_mov  passageiro_hora_entrada  \\\n",
              "0                  4                2021-08-31                        7   \n",
              "1                  4                2021-08-31                        8   \n",
              "2                  4                2021-08-31                        9   \n",
              "3                  4                2021-08-31                       10   \n",
              "4                  4                2021-08-31                       11   \n",
              "...              ...                       ...                      ...   \n",
              "135570           920                2021-09-29                       19   \n",
              "135571           920                2021-09-29                       20   \n",
              "135572           920                2021-09-29                       21   \n",
              "135573           920                2021-09-29                       22   \n",
              "135574           920                2021-09-29                       23   \n",
              "\n",
              "        passageiro_matricula Dia_Semana  Domingo  linha_km_programado  \\\n",
              "0                         81      Terça        0          1165.120000   \n",
              "1                        105      Terça        0          1165.120000   \n",
              "2                        133      Terça        0          1165.120000   \n",
              "3                        134      Terça        0          1165.120000   \n",
              "4                        138      Terça        0          1165.120000   \n",
              "...                      ...        ...      ...                  ...   \n",
              "135570                    51     Quarta        0          1179.797143   \n",
              "135571                    29     Quarta        0          1179.797143   \n",
              "135572                    15     Quarta        0          1179.797143   \n",
              "135573                    16     Quarta        0          1179.797143   \n",
              "135574                    17     Quarta        0          1179.797143   \n",
              "\n",
              "        IDH em 2010[8]  \n",
              "0             0.465660  \n",
              "1             0.465660  \n",
              "2             0.465660  \n",
              "3             0.465660  \n",
              "4             0.465660  \n",
              "...                ...  \n",
              "135570        0.291214  \n",
              "135571        0.291214  \n",
              "135572        0.291214  \n",
              "135573        0.291214  \n",
              "135574        0.291214  \n",
              "\n",
              "[135575 rows x 8 columns]"
            ]
          },
          "execution_count": 89,
          "metadata": {},
          "output_type": "execute_result"
        }
      ],
      "source": [
        "dataset_model"
      ]
    },
    {
      "cell_type": "markdown",
      "metadata": {
        "id": "E0M4_y-6uX3o"
      },
      "source": [
        "Convertendo Hora Range e Linha Numero para Variavel Numérica"
      ]
    },
    {
      "cell_type": "code",
      "execution_count": 90,
      "metadata": {
        "id": "4RQ5Lk_0uX3o"
      },
      "outputs": [],
      "source": [
        "dataset_model = pd.concat([dataset_model, pd.get_dummies(dataset_model[\"passageiro_hora_entrada\"])], axis = 1)\n",
        "dataset_model = pd.concat([dataset_model, pd.get_dummies(dataset_model[\"linha_numero\"])], axis = 1)"
      ]
    },
    {
      "cell_type": "markdown",
      "metadata": {},
      "source": [
        "Limpeza de colunas"
      ]
    },
    {
      "cell_type": "code",
      "execution_count": 91,
      "metadata": {
        "id": "_R1OhIzCuX3o"
      },
      "outputs": [],
      "source": [
        "dataset_model.drop(columns=[\"Dia_Semana\", \"movimento_diario_data_mov\", \"linha_numero\", \"passageiro_hora_entrada\"], inplace=True)"
      ]
    },
    {
      "cell_type": "markdown",
      "metadata": {},
      "source": [
        "Renomeando colunas para facilitar tratativa"
      ]
    },
    {
      "cell_type": "code",
      "execution_count": 92,
      "metadata": {
        "id": "bp-Rvks-uX3p"
      },
      "outputs": [],
      "source": [
        "dataset_model.rename(columns={\"passageiro_hora_range\": \"hora_range\", \n",
        "                              \"passageiro_matricula\": \"demanda\",\n",
        "                              \"linha_km_programado\": \"linha_km\",\n",
        "                              \"IDH em 2010[8]\": \"idh_max\"}, inplace=True)"
      ]
    },
    {
      "cell_type": "markdown",
      "metadata": {},
      "source": [
        "Removendo valores nulos"
      ]
    },
    {
      "cell_type": "code",
      "execution_count": 93,
      "metadata": {
        "id": "jJlSjF_WuX3p"
      },
      "outputs": [],
      "source": [
        "dataset_model['demanda'] = dataset_model['demanda'].replace(0, np.nan)\n",
        "dataset_model.dropna(inplace=True)"
      ]
    },
    {
      "cell_type": "code",
      "execution_count": 94,
      "metadata": {},
      "outputs": [
        {
          "data": {
            "text/html": [
              "<div>\n",
              "<style scoped>\n",
              "    .dataframe tbody tr th:only-of-type {\n",
              "        vertical-align: middle;\n",
              "    }\n",
              "\n",
              "    .dataframe tbody tr th {\n",
              "        vertical-align: top;\n",
              "    }\n",
              "\n",
              "    .dataframe thead th {\n",
              "        text-align: right;\n",
              "    }\n",
              "</style>\n",
              "<table border=\"1\" class=\"dataframe\">\n",
              "  <thead>\n",
              "    <tr style=\"text-align: right;\">\n",
              "      <th></th>\n",
              "      <th>demanda</th>\n",
              "      <th>Domingo</th>\n",
              "      <th>linha_km</th>\n",
              "      <th>idh_max</th>\n",
              "      <th>0</th>\n",
              "      <th>1</th>\n",
              "      <th>2</th>\n",
              "      <th>3</th>\n",
              "      <th>4</th>\n",
              "      <th>5</th>\n",
              "      <th>...</th>\n",
              "      <th>833</th>\n",
              "      <th>835</th>\n",
              "      <th>836</th>\n",
              "      <th>841</th>\n",
              "      <th>855</th>\n",
              "      <th>901</th>\n",
              "      <th>906</th>\n",
              "      <th>907</th>\n",
              "      <th>913</th>\n",
              "      <th>920</th>\n",
              "    </tr>\n",
              "  </thead>\n",
              "  <tbody>\n",
              "    <tr>\n",
              "      <th>count</th>\n",
              "      <td>135575.000000</td>\n",
              "      <td>135575.000000</td>\n",
              "      <td>135575.000000</td>\n",
              "      <td>135575.000000</td>\n",
              "      <td>135575.000000</td>\n",
              "      <td>135575.000000</td>\n",
              "      <td>135575.000000</td>\n",
              "      <td>135575.000000</td>\n",
              "      <td>135575.000000</td>\n",
              "      <td>135575.000000</td>\n",
              "      <td>...</td>\n",
              "      <td>135575.000000</td>\n",
              "      <td>135575.000000</td>\n",
              "      <td>135575.000000</td>\n",
              "      <td>135575.000000</td>\n",
              "      <td>135575.000000</td>\n",
              "      <td>135575.000000</td>\n",
              "      <td>135575.000000</td>\n",
              "      <td>135575.000000</td>\n",
              "      <td>135575.000000</td>\n",
              "      <td>135575.000000</td>\n",
              "    </tr>\n",
              "    <tr>\n",
              "      <th>mean</th>\n",
              "      <td>92.350183</td>\n",
              "      <td>0.116275</td>\n",
              "      <td>762.906244</td>\n",
              "      <td>0.366334</td>\n",
              "      <td>0.013269</td>\n",
              "      <td>0.001903</td>\n",
              "      <td>0.001851</td>\n",
              "      <td>0.002508</td>\n",
              "      <td>0.032189</td>\n",
              "      <td>0.050939</td>\n",
              "      <td>...</td>\n",
              "      <td>0.002065</td>\n",
              "      <td>0.002183</td>\n",
              "      <td>0.003762</td>\n",
              "      <td>0.004278</td>\n",
              "      <td>0.004529</td>\n",
              "      <td>0.004300</td>\n",
              "      <td>0.004426</td>\n",
              "      <td>0.004212</td>\n",
              "      <td>0.004374</td>\n",
              "      <td>0.004573</td>\n",
              "    </tr>\n",
              "    <tr>\n",
              "      <th>std</th>\n",
              "      <td>124.703214</td>\n",
              "      <td>0.320556</td>\n",
              "      <td>632.339181</td>\n",
              "      <td>0.126221</td>\n",
              "      <td>0.114427</td>\n",
              "      <td>0.043582</td>\n",
              "      <td>0.042988</td>\n",
              "      <td>0.050016</td>\n",
              "      <td>0.176502</td>\n",
              "      <td>0.219873</td>\n",
              "      <td>...</td>\n",
              "      <td>0.045399</td>\n",
              "      <td>0.046675</td>\n",
              "      <td>0.061218</td>\n",
              "      <td>0.065267</td>\n",
              "      <td>0.067144</td>\n",
              "      <td>0.065435</td>\n",
              "      <td>0.066378</td>\n",
              "      <td>0.064761</td>\n",
              "      <td>0.065991</td>\n",
              "      <td>0.067470</td>\n",
              "    </tr>\n",
              "    <tr>\n",
              "      <th>min</th>\n",
              "      <td>1.000000</td>\n",
              "      <td>0.000000</td>\n",
              "      <td>63.195714</td>\n",
              "      <td>0.068821</td>\n",
              "      <td>0.000000</td>\n",
              "      <td>0.000000</td>\n",
              "      <td>0.000000</td>\n",
              "      <td>0.000000</td>\n",
              "      <td>0.000000</td>\n",
              "      <td>0.000000</td>\n",
              "      <td>...</td>\n",
              "      <td>0.000000</td>\n",
              "      <td>0.000000</td>\n",
              "      <td>0.000000</td>\n",
              "      <td>0.000000</td>\n",
              "      <td>0.000000</td>\n",
              "      <td>0.000000</td>\n",
              "      <td>0.000000</td>\n",
              "      <td>0.000000</td>\n",
              "      <td>0.000000</td>\n",
              "      <td>0.000000</td>\n",
              "    </tr>\n",
              "    <tr>\n",
              "      <th>25%</th>\n",
              "      <td>18.000000</td>\n",
              "      <td>0.000000</td>\n",
              "      <td>433.388571</td>\n",
              "      <td>0.277941</td>\n",
              "      <td>0.000000</td>\n",
              "      <td>0.000000</td>\n",
              "      <td>0.000000</td>\n",
              "      <td>0.000000</td>\n",
              "      <td>0.000000</td>\n",
              "      <td>0.000000</td>\n",
              "      <td>...</td>\n",
              "      <td>0.000000</td>\n",
              "      <td>0.000000</td>\n",
              "      <td>0.000000</td>\n",
              "      <td>0.000000</td>\n",
              "      <td>0.000000</td>\n",
              "      <td>0.000000</td>\n",
              "      <td>0.000000</td>\n",
              "      <td>0.000000</td>\n",
              "      <td>0.000000</td>\n",
              "      <td>0.000000</td>\n",
              "    </tr>\n",
              "    <tr>\n",
              "      <th>50%</th>\n",
              "      <td>48.000000</td>\n",
              "      <td>0.000000</td>\n",
              "      <td>573.446897</td>\n",
              "      <td>0.344108</td>\n",
              "      <td>0.000000</td>\n",
              "      <td>0.000000</td>\n",
              "      <td>0.000000</td>\n",
              "      <td>0.000000</td>\n",
              "      <td>0.000000</td>\n",
              "      <td>0.000000</td>\n",
              "      <td>...</td>\n",
              "      <td>0.000000</td>\n",
              "      <td>0.000000</td>\n",
              "      <td>0.000000</td>\n",
              "      <td>0.000000</td>\n",
              "      <td>0.000000</td>\n",
              "      <td>0.000000</td>\n",
              "      <td>0.000000</td>\n",
              "      <td>0.000000</td>\n",
              "      <td>0.000000</td>\n",
              "      <td>0.000000</td>\n",
              "    </tr>\n",
              "    <tr>\n",
              "      <th>75%</th>\n",
              "      <td>111.000000</td>\n",
              "      <td>0.000000</td>\n",
              "      <td>844.200000</td>\n",
              "      <td>0.451804</td>\n",
              "      <td>0.000000</td>\n",
              "      <td>0.000000</td>\n",
              "      <td>0.000000</td>\n",
              "      <td>0.000000</td>\n",
              "      <td>0.000000</td>\n",
              "      <td>0.000000</td>\n",
              "      <td>...</td>\n",
              "      <td>0.000000</td>\n",
              "      <td>0.000000</td>\n",
              "      <td>0.000000</td>\n",
              "      <td>0.000000</td>\n",
              "      <td>0.000000</td>\n",
              "      <td>0.000000</td>\n",
              "      <td>0.000000</td>\n",
              "      <td>0.000000</td>\n",
              "      <td>0.000000</td>\n",
              "      <td>0.000000</td>\n",
              "    </tr>\n",
              "    <tr>\n",
              "      <th>max</th>\n",
              "      <td>1242.000000</td>\n",
              "      <td>1.000000</td>\n",
              "      <td>5484.445714</td>\n",
              "      <td>0.717800</td>\n",
              "      <td>1.000000</td>\n",
              "      <td>1.000000</td>\n",
              "      <td>1.000000</td>\n",
              "      <td>1.000000</td>\n",
              "      <td>1.000000</td>\n",
              "      <td>1.000000</td>\n",
              "      <td>...</td>\n",
              "      <td>1.000000</td>\n",
              "      <td>1.000000</td>\n",
              "      <td>1.000000</td>\n",
              "      <td>1.000000</td>\n",
              "      <td>1.000000</td>\n",
              "      <td>1.000000</td>\n",
              "      <td>1.000000</td>\n",
              "      <td>1.000000</td>\n",
              "      <td>1.000000</td>\n",
              "      <td>1.000000</td>\n",
              "    </tr>\n",
              "  </tbody>\n",
              "</table>\n",
              "<p>8 rows × 291 columns</p>\n",
              "</div>"
            ],
            "text/plain": [
              "             demanda        Domingo       linha_km        idh_max  \\\n",
              "count  135575.000000  135575.000000  135575.000000  135575.000000   \n",
              "mean       92.350183       0.116275     762.906244       0.366334   \n",
              "std       124.703214       0.320556     632.339181       0.126221   \n",
              "min         1.000000       0.000000      63.195714       0.068821   \n",
              "25%        18.000000       0.000000     433.388571       0.277941   \n",
              "50%        48.000000       0.000000     573.446897       0.344108   \n",
              "75%       111.000000       0.000000     844.200000       0.451804   \n",
              "max      1242.000000       1.000000    5484.445714       0.717800   \n",
              "\n",
              "                   0              1              2              3  \\\n",
              "count  135575.000000  135575.000000  135575.000000  135575.000000   \n",
              "mean        0.013269       0.001903       0.001851       0.002508   \n",
              "std         0.114427       0.043582       0.042988       0.050016   \n",
              "min         0.000000       0.000000       0.000000       0.000000   \n",
              "25%         0.000000       0.000000       0.000000       0.000000   \n",
              "50%         0.000000       0.000000       0.000000       0.000000   \n",
              "75%         0.000000       0.000000       0.000000       0.000000   \n",
              "max         1.000000       1.000000       1.000000       1.000000   \n",
              "\n",
              "                   4              5  ...            833            835  \\\n",
              "count  135575.000000  135575.000000  ...  135575.000000  135575.000000   \n",
              "mean        0.032189       0.050939  ...       0.002065       0.002183   \n",
              "std         0.176502       0.219873  ...       0.045399       0.046675   \n",
              "min         0.000000       0.000000  ...       0.000000       0.000000   \n",
              "25%         0.000000       0.000000  ...       0.000000       0.000000   \n",
              "50%         0.000000       0.000000  ...       0.000000       0.000000   \n",
              "75%         0.000000       0.000000  ...       0.000000       0.000000   \n",
              "max         1.000000       1.000000  ...       1.000000       1.000000   \n",
              "\n",
              "                 836            841            855            901  \\\n",
              "count  135575.000000  135575.000000  135575.000000  135575.000000   \n",
              "mean        0.003762       0.004278       0.004529       0.004300   \n",
              "std         0.061218       0.065267       0.067144       0.065435   \n",
              "min         0.000000       0.000000       0.000000       0.000000   \n",
              "25%         0.000000       0.000000       0.000000       0.000000   \n",
              "50%         0.000000       0.000000       0.000000       0.000000   \n",
              "75%         0.000000       0.000000       0.000000       0.000000   \n",
              "max         1.000000       1.000000       1.000000       1.000000   \n",
              "\n",
              "                 906            907            913            920  \n",
              "count  135575.000000  135575.000000  135575.000000  135575.000000  \n",
              "mean        0.004426       0.004212       0.004374       0.004573  \n",
              "std         0.066378       0.064761       0.065991       0.067470  \n",
              "min         0.000000       0.000000       0.000000       0.000000  \n",
              "25%         0.000000       0.000000       0.000000       0.000000  \n",
              "50%         0.000000       0.000000       0.000000       0.000000  \n",
              "75%         0.000000       0.000000       0.000000       0.000000  \n",
              "max         1.000000       1.000000       1.000000       1.000000  \n",
              "\n",
              "[8 rows x 291 columns]"
            ]
          },
          "execution_count": 94,
          "metadata": {},
          "output_type": "execute_result"
        }
      ],
      "source": [
        "dataset_model.describe()"
      ]
    },
    {
      "cell_type": "code",
      "execution_count": 95,
      "metadata": {},
      "outputs": [
        {
          "data": {
            "text/html": [
              "<div>\n",
              "<style scoped>\n",
              "    .dataframe tbody tr th:only-of-type {\n",
              "        vertical-align: middle;\n",
              "    }\n",
              "\n",
              "    .dataframe tbody tr th {\n",
              "        vertical-align: top;\n",
              "    }\n",
              "\n",
              "    .dataframe thead th {\n",
              "        text-align: right;\n",
              "    }\n",
              "</style>\n",
              "<table border=\"1\" class=\"dataframe\">\n",
              "  <thead>\n",
              "    <tr style=\"text-align: right;\">\n",
              "      <th></th>\n",
              "      <th>demanda</th>\n",
              "      <th>Domingo</th>\n",
              "      <th>linha_km</th>\n",
              "      <th>idh_max</th>\n",
              "      <th>0</th>\n",
              "      <th>1</th>\n",
              "      <th>2</th>\n",
              "      <th>3</th>\n",
              "      <th>4</th>\n",
              "      <th>5</th>\n",
              "      <th>...</th>\n",
              "      <th>833</th>\n",
              "      <th>835</th>\n",
              "      <th>836</th>\n",
              "      <th>841</th>\n",
              "      <th>855</th>\n",
              "      <th>901</th>\n",
              "      <th>906</th>\n",
              "      <th>907</th>\n",
              "      <th>913</th>\n",
              "      <th>920</th>\n",
              "    </tr>\n",
              "  </thead>\n",
              "  <tbody>\n",
              "    <tr>\n",
              "      <th>demanda</th>\n",
              "      <td>1.000000</td>\n",
              "      <td>-0.163853</td>\n",
              "      <td>0.501611</td>\n",
              "      <td>0.204528</td>\n",
              "      <td>-0.078494</td>\n",
              "      <td>-0.026327</td>\n",
              "      <td>-0.029477</td>\n",
              "      <td>-0.034272</td>\n",
              "      <td>-0.093188</td>\n",
              "      <td>0.036182</td>\n",
              "      <td>...</td>\n",
              "      <td>-0.008355</td>\n",
              "      <td>-0.031533</td>\n",
              "      <td>-0.023468</td>\n",
              "      <td>-0.013833</td>\n",
              "      <td>0.104891</td>\n",
              "      <td>-0.025419</td>\n",
              "      <td>0.048804</td>\n",
              "      <td>-0.019578</td>\n",
              "      <td>-0.013252</td>\n",
              "      <td>0.015358</td>\n",
              "    </tr>\n",
              "    <tr>\n",
              "      <th>Domingo</th>\n",
              "      <td>-0.163853</td>\n",
              "      <td>1.000000</td>\n",
              "      <td>-0.007367</td>\n",
              "      <td>-0.023136</td>\n",
              "      <td>-0.002650</td>\n",
              "      <td>0.001584</td>\n",
              "      <td>0.000436</td>\n",
              "      <td>-0.002546</td>\n",
              "      <td>-0.009442</td>\n",
              "      <td>-0.004709</td>\n",
              "      <td>...</td>\n",
              "      <td>-0.016501</td>\n",
              "      <td>-0.016967</td>\n",
              "      <td>-0.001240</td>\n",
              "      <td>0.002313</td>\n",
              "      <td>0.003978</td>\n",
              "      <td>0.001129</td>\n",
              "      <td>0.003548</td>\n",
              "      <td>0.003413</td>\n",
              "      <td>0.002807</td>\n",
              "      <td>0.002697</td>\n",
              "    </tr>\n",
              "    <tr>\n",
              "      <th>linha_km</th>\n",
              "      <td>0.501611</td>\n",
              "      <td>-0.007367</td>\n",
              "      <td>1.000000</td>\n",
              "      <td>0.190563</td>\n",
              "      <td>0.003852</td>\n",
              "      <td>-0.040831</td>\n",
              "      <td>-0.043581</td>\n",
              "      <td>-0.035030</td>\n",
              "      <td>0.007905</td>\n",
              "      <td>0.000879</td>\n",
              "      <td>...</td>\n",
              "      <td>-0.026800</td>\n",
              "      <td>-0.040445</td>\n",
              "      <td>-0.051848</td>\n",
              "      <td>-0.036764</td>\n",
              "      <td>0.070064</td>\n",
              "      <td>-0.030236</td>\n",
              "      <td>0.145697</td>\n",
              "      <td>-0.031694</td>\n",
              "      <td>-0.018395</td>\n",
              "      <td>0.044686</td>\n",
              "    </tr>\n",
              "    <tr>\n",
              "      <th>idh_max</th>\n",
              "      <td>0.204528</td>\n",
              "      <td>-0.023136</td>\n",
              "      <td>0.190563</td>\n",
              "      <td>1.000000</td>\n",
              "      <td>0.007472</td>\n",
              "      <td>0.005047</td>\n",
              "      <td>0.004824</td>\n",
              "      <td>0.002328</td>\n",
              "      <td>-0.039592</td>\n",
              "      <td>-0.003653</td>\n",
              "      <td>...</td>\n",
              "      <td>0.081343</td>\n",
              "      <td>0.095861</td>\n",
              "      <td>-0.007952</td>\n",
              "      <td>0.084993</td>\n",
              "      <td>0.068100</td>\n",
              "      <td>0.182993</td>\n",
              "      <td>0.044342</td>\n",
              "      <td>0.140437</td>\n",
              "      <td>0.013599</td>\n",
              "      <td>-0.040339</td>\n",
              "    </tr>\n",
              "    <tr>\n",
              "      <th>0</th>\n",
              "      <td>-0.078494</td>\n",
              "      <td>-0.002650</td>\n",
              "      <td>0.003852</td>\n",
              "      <td>0.007472</td>\n",
              "      <td>1.000000</td>\n",
              "      <td>-0.005064</td>\n",
              "      <td>-0.004994</td>\n",
              "      <td>-0.005815</td>\n",
              "      <td>-0.021149</td>\n",
              "      <td>-0.026866</td>\n",
              "      <td>...</td>\n",
              "      <td>-0.005276</td>\n",
              "      <td>-0.005424</td>\n",
              "      <td>-0.007126</td>\n",
              "      <td>0.005238</td>\n",
              "      <td>0.010419</td>\n",
              "      <td>0.012081</td>\n",
              "      <td>-0.007732</td>\n",
              "      <td>-0.006546</td>\n",
              "      <td>-0.005733</td>\n",
              "      <td>0.019846</td>\n",
              "    </tr>\n",
              "    <tr>\n",
              "      <th>...</th>\n",
              "      <td>...</td>\n",
              "      <td>...</td>\n",
              "      <td>...</td>\n",
              "      <td>...</td>\n",
              "      <td>...</td>\n",
              "      <td>...</td>\n",
              "      <td>...</td>\n",
              "      <td>...</td>\n",
              "      <td>...</td>\n",
              "      <td>...</td>\n",
              "      <td>...</td>\n",
              "      <td>...</td>\n",
              "      <td>...</td>\n",
              "      <td>...</td>\n",
              "      <td>...</td>\n",
              "      <td>...</td>\n",
              "      <td>...</td>\n",
              "      <td>...</td>\n",
              "      <td>...</td>\n",
              "      <td>...</td>\n",
              "      <td>...</td>\n",
              "    </tr>\n",
              "    <tr>\n",
              "      <th>901</th>\n",
              "      <td>-0.025419</td>\n",
              "      <td>0.001129</td>\n",
              "      <td>-0.030236</td>\n",
              "      <td>0.182993</td>\n",
              "      <td>0.012081</td>\n",
              "      <td>-0.002870</td>\n",
              "      <td>-0.002830</td>\n",
              "      <td>-0.003295</td>\n",
              "      <td>-0.011985</td>\n",
              "      <td>0.000155</td>\n",
              "      <td>...</td>\n",
              "      <td>-0.002990</td>\n",
              "      <td>-0.003074</td>\n",
              "      <td>-0.004038</td>\n",
              "      <td>-0.004308</td>\n",
              "      <td>-0.004433</td>\n",
              "      <td>1.000000</td>\n",
              "      <td>-0.004382</td>\n",
              "      <td>-0.004274</td>\n",
              "      <td>-0.004356</td>\n",
              "      <td>-0.004454</td>\n",
              "    </tr>\n",
              "    <tr>\n",
              "      <th>906</th>\n",
              "      <td>0.048804</td>\n",
              "      <td>0.003548</td>\n",
              "      <td>0.145697</td>\n",
              "      <td>0.044342</td>\n",
              "      <td>-0.007732</td>\n",
              "      <td>-0.002911</td>\n",
              "      <td>-0.002871</td>\n",
              "      <td>-0.003343</td>\n",
              "      <td>0.006728</td>\n",
              "      <td>-0.000285</td>\n",
              "      <td>...</td>\n",
              "      <td>-0.003033</td>\n",
              "      <td>-0.003119</td>\n",
              "      <td>-0.004097</td>\n",
              "      <td>-0.004370</td>\n",
              "      <td>-0.004497</td>\n",
              "      <td>-0.004382</td>\n",
              "      <td>1.000000</td>\n",
              "      <td>-0.004336</td>\n",
              "      <td>-0.004419</td>\n",
              "      <td>-0.004519</td>\n",
              "    </tr>\n",
              "    <tr>\n",
              "      <th>907</th>\n",
              "      <td>-0.019578</td>\n",
              "      <td>0.003413</td>\n",
              "      <td>-0.031694</td>\n",
              "      <td>0.140437</td>\n",
              "      <td>-0.006546</td>\n",
              "      <td>-0.002840</td>\n",
              "      <td>-0.002801</td>\n",
              "      <td>-0.003261</td>\n",
              "      <td>-0.011860</td>\n",
              "      <td>0.000473</td>\n",
              "      <td>...</td>\n",
              "      <td>-0.002959</td>\n",
              "      <td>-0.003042</td>\n",
              "      <td>-0.003996</td>\n",
              "      <td>-0.004263</td>\n",
              "      <td>-0.004387</td>\n",
              "      <td>-0.004274</td>\n",
              "      <td>-0.004336</td>\n",
              "      <td>1.000000</td>\n",
              "      <td>-0.004311</td>\n",
              "      <td>-0.004408</td>\n",
              "    </tr>\n",
              "    <tr>\n",
              "      <th>913</th>\n",
              "      <td>-0.013252</td>\n",
              "      <td>0.002807</td>\n",
              "      <td>-0.018395</td>\n",
              "      <td>0.013599</td>\n",
              "      <td>-0.005733</td>\n",
              "      <td>-0.002894</td>\n",
              "      <td>-0.002855</td>\n",
              "      <td>-0.003323</td>\n",
              "      <td>0.001211</td>\n",
              "      <td>-0.000105</td>\n",
              "      <td>...</td>\n",
              "      <td>-0.003015</td>\n",
              "      <td>-0.003100</td>\n",
              "      <td>-0.004073</td>\n",
              "      <td>-0.004345</td>\n",
              "      <td>-0.004471</td>\n",
              "      <td>-0.004356</td>\n",
              "      <td>-0.004419</td>\n",
              "      <td>-0.004311</td>\n",
              "      <td>1.000000</td>\n",
              "      <td>-0.004493</td>\n",
              "    </tr>\n",
              "    <tr>\n",
              "      <th>920</th>\n",
              "      <td>0.015358</td>\n",
              "      <td>0.002697</td>\n",
              "      <td>0.044686</td>\n",
              "      <td>-0.040339</td>\n",
              "      <td>0.019846</td>\n",
              "      <td>-0.002960</td>\n",
              "      <td>-0.002919</td>\n",
              "      <td>-0.003399</td>\n",
              "      <td>0.000646</td>\n",
              "      <td>-0.000787</td>\n",
              "      <td>...</td>\n",
              "      <td>-0.003083</td>\n",
              "      <td>-0.003171</td>\n",
              "      <td>-0.004165</td>\n",
              "      <td>-0.004443</td>\n",
              "      <td>-0.004572</td>\n",
              "      <td>-0.004454</td>\n",
              "      <td>-0.004519</td>\n",
              "      <td>-0.004408</td>\n",
              "      <td>-0.004493</td>\n",
              "      <td>1.000000</td>\n",
              "    </tr>\n",
              "  </tbody>\n",
              "</table>\n",
              "<p>291 rows × 291 columns</p>\n",
              "</div>"
            ],
            "text/plain": [
              "           demanda   Domingo  linha_km   idh_max         0         1  \\\n",
              "demanda   1.000000 -0.163853  0.501611  0.204528 -0.078494 -0.026327   \n",
              "Domingo  -0.163853  1.000000 -0.007367 -0.023136 -0.002650  0.001584   \n",
              "linha_km  0.501611 -0.007367  1.000000  0.190563  0.003852 -0.040831   \n",
              "idh_max   0.204528 -0.023136  0.190563  1.000000  0.007472  0.005047   \n",
              "0        -0.078494 -0.002650  0.003852  0.007472  1.000000 -0.005064   \n",
              "...            ...       ...       ...       ...       ...       ...   \n",
              "901      -0.025419  0.001129 -0.030236  0.182993  0.012081 -0.002870   \n",
              "906       0.048804  0.003548  0.145697  0.044342 -0.007732 -0.002911   \n",
              "907      -0.019578  0.003413 -0.031694  0.140437 -0.006546 -0.002840   \n",
              "913      -0.013252  0.002807 -0.018395  0.013599 -0.005733 -0.002894   \n",
              "920       0.015358  0.002697  0.044686 -0.040339  0.019846 -0.002960   \n",
              "\n",
              "                 2         3         4         5  ...       833       835  \\\n",
              "demanda  -0.029477 -0.034272 -0.093188  0.036182  ... -0.008355 -0.031533   \n",
              "Domingo   0.000436 -0.002546 -0.009442 -0.004709  ... -0.016501 -0.016967   \n",
              "linha_km -0.043581 -0.035030  0.007905  0.000879  ... -0.026800 -0.040445   \n",
              "idh_max   0.004824  0.002328 -0.039592 -0.003653  ...  0.081343  0.095861   \n",
              "0        -0.004994 -0.005815 -0.021149 -0.026866  ... -0.005276 -0.005424   \n",
              "...            ...       ...       ...       ...  ...       ...       ...   \n",
              "901      -0.002830 -0.003295 -0.011985  0.000155  ... -0.002990 -0.003074   \n",
              "906      -0.002871 -0.003343  0.006728 -0.000285  ... -0.003033 -0.003119   \n",
              "907      -0.002801 -0.003261 -0.011860  0.000473  ... -0.002959 -0.003042   \n",
              "913      -0.002855 -0.003323  0.001211 -0.000105  ... -0.003015 -0.003100   \n",
              "920      -0.002919 -0.003399  0.000646 -0.000787  ... -0.003083 -0.003171   \n",
              "\n",
              "               836       841       855       901       906       907  \\\n",
              "demanda  -0.023468 -0.013833  0.104891 -0.025419  0.048804 -0.019578   \n",
              "Domingo  -0.001240  0.002313  0.003978  0.001129  0.003548  0.003413   \n",
              "linha_km -0.051848 -0.036764  0.070064 -0.030236  0.145697 -0.031694   \n",
              "idh_max  -0.007952  0.084993  0.068100  0.182993  0.044342  0.140437   \n",
              "0        -0.007126  0.005238  0.010419  0.012081 -0.007732 -0.006546   \n",
              "...            ...       ...       ...       ...       ...       ...   \n",
              "901      -0.004038 -0.004308 -0.004433  1.000000 -0.004382 -0.004274   \n",
              "906      -0.004097 -0.004370 -0.004497 -0.004382  1.000000 -0.004336   \n",
              "907      -0.003996 -0.004263 -0.004387 -0.004274 -0.004336  1.000000   \n",
              "913      -0.004073 -0.004345 -0.004471 -0.004356 -0.004419 -0.004311   \n",
              "920      -0.004165 -0.004443 -0.004572 -0.004454 -0.004519 -0.004408   \n",
              "\n",
              "               913       920  \n",
              "demanda  -0.013252  0.015358  \n",
              "Domingo   0.002807  0.002697  \n",
              "linha_km -0.018395  0.044686  \n",
              "idh_max   0.013599 -0.040339  \n",
              "0        -0.005733  0.019846  \n",
              "...            ...       ...  \n",
              "901      -0.004356 -0.004454  \n",
              "906      -0.004419 -0.004519  \n",
              "907      -0.004311 -0.004408  \n",
              "913       1.000000 -0.004493  \n",
              "920      -0.004493  1.000000  \n",
              "\n",
              "[291 rows x 291 columns]"
            ]
          },
          "execution_count": 95,
          "metadata": {},
          "output_type": "execute_result"
        }
      ],
      "source": [
        "dataset_model.corr()"
      ]
    },
    {
      "cell_type": "markdown",
      "metadata": {
        "id": "_Pp7eEjtuX3p"
      },
      "source": [
        "# Pre Processamento"
      ]
    },
    {
      "cell_type": "code",
      "execution_count": 96,
      "metadata": {
        "id": "dvGzu_KguX3p"
      },
      "outputs": [],
      "source": [
        "X = dataset_model.drop(columns=[\"demanda\"]).values\n",
        "Y = dataset_model[\"demanda\"].values"
      ]
    },
    {
      "cell_type": "markdown",
      "metadata": {},
      "source": [
        "Normalização dos Dados"
      ]
    },
    {
      "cell_type": "code",
      "execution_count": 97,
      "metadata": {
        "id": "fvvpuWPPuX3q"
      },
      "outputs": [],
      "source": [
        "from sklearn.preprocessing import StandardScaler\n",
        "# from sklearn.preprocessing import Normalizer\n",
        "\n",
        "standard = StandardScaler()\n",
        "\n",
        "X = standard.fit_transform(X)"
      ]
    },
    {
      "cell_type": "code",
      "execution_count": 98,
      "metadata": {
        "colab": {
          "base_uri": "https://localhost:8080/"
        },
        "id": "hhq4XFg-uX3q",
        "outputId": "a0d00a82-674e-444a-9c1e-93e36c1953fa"
      },
      "outputs": [
        {
          "data": {
            "text/plain": [
              "array([[-0.36273116,  0.63607515,  0.78692566, ..., -0.06503464,\n",
              "        -0.06628106, -0.06777997],\n",
              "       [-0.36273116,  0.63607515,  0.78692566, ..., -0.06503464,\n",
              "        -0.06628106, -0.06777997],\n",
              "       [-0.36273116,  0.63607515,  0.78692566, ..., -0.06503464,\n",
              "        -0.06628106, -0.06777997],\n",
              "       ...,\n",
              "       [-0.36273116,  0.65928611, -0.59514483, ..., -0.06503464,\n",
              "        -0.06628106, 14.75362175],\n",
              "       [-0.36273116,  0.65928611, -0.59514483, ..., -0.06503464,\n",
              "        -0.06628106, 14.75362175],\n",
              "       [-0.36273116,  0.65928611, -0.59514483, ..., -0.06503464,\n",
              "        -0.06628106, 14.75362175]])"
            ]
          },
          "execution_count": 98,
          "metadata": {},
          "output_type": "execute_result"
        }
      ],
      "source": [
        "X"
      ]
    },
    {
      "cell_type": "code",
      "execution_count": 99,
      "metadata": {
        "id": "L000h3j5uX3q"
      },
      "outputs": [],
      "source": [
        "X_train, X_test, y_train, y_test = train_test_split(X, Y, train_size=0.75, test_size=0.25, random_state=123)"
      ]
    },
    {
      "cell_type": "markdown",
      "metadata": {},
      "source": [
        "# Modelagem"
      ]
    },
    {
      "cell_type": "markdown",
      "metadata": {},
      "source": [
        "Linear Regression "
      ]
    },
    {
      "cell_type": "code",
      "execution_count": 100,
      "metadata": {
        "id": "0188w4-xuX3q"
      },
      "outputs": [],
      "source": [
        "linear_regression = LinearRegression()\n",
        "linear_regression.fit(X_train, y_train)\n",
        "results = linear_regression.predict(X_test)"
      ]
    },
    {
      "cell_type": "code",
      "execution_count": 101,
      "metadata": {
        "colab": {
          "base_uri": "https://localhost:8080/"
        },
        "id": "tJXVKHD7uX3q",
        "outputId": "d0315a25-0fcc-4916-9f30-c0b60d9d5866"
      },
      "outputs": [
        {
          "data": {
            "text/plain": [
              "array([ 20.58362446,  -9.79137554, 176.39612446, ...,  41.45862446,\n",
              "       153.20862446,  40.08362446])"
            ]
          },
          "execution_count": 101,
          "metadata": {},
          "output_type": "execute_result"
        }
      ],
      "source": [
        "results"
      ]
    },
    {
      "cell_type": "code",
      "execution_count": 102,
      "metadata": {
        "colab": {
          "base_uri": "https://localhost:8080/"
        },
        "id": "-8lh2RB7uX3q",
        "outputId": "b332b201-6016-466a-f961-df63aab55a0f"
      },
      "outputs": [
        {
          "data": {
            "text/plain": [
              "46.17063399064713"
            ]
          },
          "execution_count": 102,
          "metadata": {},
          "output_type": "execute_result"
        }
      ],
      "source": [
        "mean_absolute_error(y_test, results)"
      ]
    },
    {
      "cell_type": "code",
      "execution_count": 103,
      "metadata": {
        "colab": {
          "base_uri": "https://localhost:8080/"
        },
        "id": "NbY_lWy8uX3r",
        "outputId": "ec2bf683-7e21-47db-8a82-1a399f5df145"
      },
      "outputs": [
        {
          "data": {
            "text/plain": [
              "72.57967951318832"
            ]
          },
          "execution_count": 103,
          "metadata": {},
          "output_type": "execute_result"
        }
      ],
      "source": [
        "np.sqrt(mean_squared_error(y_test, results))"
      ]
    },
    {
      "cell_type": "code",
      "execution_count": 104,
      "metadata": {
        "colab": {
          "base_uri": "https://localhost:8080/"
        },
        "id": "QjBU-MOSuX3r",
        "outputId": "7f4b0bde-3559-49a0-b0f5-4680b1f7b088"
      },
      "outputs": [
        {
          "data": {
            "text/plain": [
              "0.6607424842908591"
            ]
          },
          "execution_count": 104,
          "metadata": {},
          "output_type": "execute_result"
        }
      ],
      "source": [
        "r2_score(y_test, results)"
      ]
    },
    {
      "cell_type": "markdown",
      "metadata": {
        "id": "8MjjcgiyuX3r"
      },
      "source": [
        "Lasso"
      ]
    },
    {
      "cell_type": "code",
      "execution_count": 52,
      "metadata": {
        "id": "vgQMJtDpuX3r"
      },
      "outputs": [],
      "source": [
        "lasso = Lasso()\n",
        "lasso.fit(X_train, y_train)\n",
        "results = lasso.predict(X_test)"
      ]
    },
    {
      "cell_type": "code",
      "execution_count": 53,
      "metadata": {
        "colab": {
          "base_uri": "https://localhost:8080/"
        },
        "id": "vK_CYk7NuX3r",
        "outputId": "db8c532a-1857-4be2-8786-884c771bdebb"
      },
      "outputs": [
        {
          "data": {
            "text/plain": [
              "41.0085875448097"
            ]
          },
          "execution_count": 53,
          "metadata": {},
          "output_type": "execute_result"
        }
      ],
      "source": [
        "mean_absolute_error(y_test, results)"
      ]
    },
    {
      "cell_type": "code",
      "execution_count": 54,
      "metadata": {
        "colab": {
          "base_uri": "https://localhost:8080/"
        },
        "id": "5tD36P2UuX3s",
        "outputId": "bcd41585-a479-484c-8e2f-5fc99371b71f"
      },
      "outputs": [
        {
          "data": {
            "text/plain": [
              "65.23219036266454"
            ]
          },
          "execution_count": 54,
          "metadata": {},
          "output_type": "execute_result"
        }
      ],
      "source": [
        "np.sqrt(mean_squared_error(y_test, results))"
      ]
    },
    {
      "cell_type": "code",
      "execution_count": 55,
      "metadata": {
        "colab": {
          "base_uri": "https://localhost:8080/"
        },
        "id": "bwxjXPMiuX3s",
        "outputId": "14987be1-d484-43a6-d5e6-f4fcc344b027"
      },
      "outputs": [
        {
          "data": {
            "text/plain": [
              "0.6325769219957794"
            ]
          },
          "execution_count": 55,
          "metadata": {},
          "output_type": "execute_result"
        }
      ],
      "source": [
        "r2_score(y_test, results)"
      ]
    },
    {
      "cell_type": "markdown",
      "metadata": {
        "id": "6aInUl7iuX3s"
      },
      "source": [
        "Ridge"
      ]
    },
    {
      "cell_type": "code",
      "execution_count": 56,
      "metadata": {
        "id": "ntSRBYGduX3s"
      },
      "outputs": [],
      "source": [
        "ridge_classifier = RidgeClassifier()\n",
        "ridge_classifier.fit(X_train, y_train)\n",
        "results = ridge_classifier.predict(X_test)"
      ]
    },
    {
      "cell_type": "code",
      "execution_count": 57,
      "metadata": {
        "colab": {
          "base_uri": "https://localhost:8080/"
        },
        "id": "zzX1lZH8uX3s",
        "outputId": "fdb55727-7c40-4576-dd78-651e8b3281c9"
      },
      "outputs": [
        {
          "data": {
            "text/plain": [
              "50.884695312022494"
            ]
          },
          "execution_count": 57,
          "metadata": {},
          "output_type": "execute_result"
        }
      ],
      "source": [
        "mean_absolute_error(y_test, results)"
      ]
    },
    {
      "cell_type": "code",
      "execution_count": 58,
      "metadata": {
        "colab": {
          "base_uri": "https://localhost:8080/"
        },
        "id": "Vl_DKZIpuX3s",
        "outputId": "f34430e5-8f0c-417b-8155-63b39bf41852"
      },
      "outputs": [
        {
          "data": {
            "text/plain": [
              "94.5324196733207"
            ]
          },
          "execution_count": 58,
          "metadata": {},
          "output_type": "execute_result"
        }
      ],
      "source": [
        "np.sqrt(mean_squared_error(y_test, results))"
      ]
    },
    {
      "cell_type": "code",
      "execution_count": 59,
      "metadata": {
        "colab": {
          "base_uri": "https://localhost:8080/"
        },
        "id": "m0Za_sQNuX3s",
        "outputId": "0cbe7c4b-2acb-4b3d-8cdb-1c97af1e1f5b"
      },
      "outputs": [
        {
          "data": {
            "text/plain": [
              "0.22837896781251155"
            ]
          },
          "execution_count": 59,
          "metadata": {},
          "output_type": "execute_result"
        }
      ],
      "source": [
        "r2_score(y_test, results)"
      ]
    },
    {
      "cell_type": "markdown",
      "metadata": {
        "id": "XKBIKrS-uX3s"
      },
      "source": [
        "ElasticNet"
      ]
    },
    {
      "cell_type": "code",
      "execution_count": 60,
      "metadata": {
        "id": "KvTHiEDYuX3t"
      },
      "outputs": [],
      "source": [
        "elastic_net = ElasticNet()\n",
        "elastic_net.fit(X_train, y_train)\n",
        "results = elastic_net.predict(X_test)"
      ]
    },
    {
      "cell_type": "code",
      "execution_count": 61,
      "metadata": {
        "colab": {
          "base_uri": "https://localhost:8080/"
        },
        "id": "TCnzNYyhuX3t",
        "outputId": "8055dbfa-67ce-4669-acb2-1c7c541b1d81"
      },
      "outputs": [
        {
          "data": {
            "text/plain": [
              "41.709718782058566"
            ]
          },
          "execution_count": 61,
          "metadata": {},
          "output_type": "execute_result"
        }
      ],
      "source": [
        "mean_absolute_error(y_test, results)"
      ]
    },
    {
      "cell_type": "code",
      "execution_count": 62,
      "metadata": {
        "colab": {
          "base_uri": "https://localhost:8080/"
        },
        "id": "in-F0i0ZuX3t",
        "outputId": "4d865fc3-c69d-4599-d17b-93b693b85e17"
      },
      "outputs": [
        {
          "data": {
            "text/plain": [
              "69.67960988040947"
            ]
          },
          "execution_count": 62,
          "metadata": {},
          "output_type": "execute_result"
        }
      ],
      "source": [
        "np.sqrt(mean_squared_error(y_test, results))"
      ]
    },
    {
      "cell_type": "code",
      "execution_count": 63,
      "metadata": {
        "colab": {
          "base_uri": "https://localhost:8080/"
        },
        "id": "Lf3i5uT3uX3t",
        "outputId": "9aafcbc9-4127-480f-c7c6-d13d82bab34e"
      },
      "outputs": [
        {
          "data": {
            "text/plain": [
              "0.5807684786837641"
            ]
          },
          "execution_count": 63,
          "metadata": {},
          "output_type": "execute_result"
        }
      ],
      "source": [
        "r2_score(y_test, results)"
      ]
    },
    {
      "cell_type": "code",
      "execution_count": null,
      "metadata": {},
      "outputs": [],
      "source": []
    }
  ],
  "metadata": {
    "colab": {
      "collapsed_sections": [],
      "name": "modelagem.ipynb",
      "provenance": []
    },
    "interpreter": {
      "hash": "5eba2f6daac758e0c4eb74cbbf3fd787eaf14bd08a71327f2f2275e3d00aa03b"
    },
    "kernelspec": {
      "display_name": "Python 3.8.8 ('base')",
      "language": "python",
      "name": "python3"
    },
    "language_info": {
      "codemirror_mode": {
        "name": "ipython",
        "version": 3
      },
      "file_extension": ".py",
      "mimetype": "text/x-python",
      "name": "python",
      "nbconvert_exporter": "python",
      "pygments_lexer": "ipython3",
      "version": "3.8.8"
    },
    "orig_nbformat": 4
  },
  "nbformat": 4,
  "nbformat_minor": 0
}
