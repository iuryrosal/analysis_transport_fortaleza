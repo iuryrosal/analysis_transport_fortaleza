{
  "cells": [
    {
      "cell_type": "code",
      "execution_count": 1,
      "metadata": {
        "id": "Lm9ErKlkuX3c"
      },
      "outputs": [],
      "source": [
        "import pandas as pd\n",
        "import numpy as np\n",
        "import seaborn as sb"
      ]
    },
    {
      "cell_type": "code",
      "source": [
        "from google.colab import drive\n",
        "\n",
        "drive.mount('/content/gdrive')\n",
        "root_path = 'gdrive/My Drive/Mineração'"
      ],
      "metadata": {
        "colab": {
          "base_uri": "https://localhost:8080/"
        },
        "id": "CzmrUgBUuxY0",
        "outputId": "b35b1c19-f3fb-4a22-d163-03ba6c59c395"
      },
      "execution_count": 2,
      "outputs": [
        {
          "output_type": "stream",
          "name": "stdout",
          "text": [
            "Drive already mounted at /content/gdrive; to attempt to forcibly remount, call drive.mount(\"/content/gdrive\", force_remount=True).\n"
          ]
        }
      ]
    },
    {
      "cell_type": "code",
      "execution_count": 3,
      "metadata": {
        "id": "eUUi12OyuX3f"
      },
      "outputs": [],
      "source": [
        "path = \"/content/gdrive/My Drive/Mineração/\"\n",
        "v = pd.read_csv(path + \"V.csv\")\n",
        "fgr = pd.read_csv(path + \"FGR.csv\", decimal=\",\")\n",
        "paradas = pd.read_csv(path + \"paradas.csv\")\n",
        "rota_paradas = pd.read_csv(path + \"rota_paradas.csv\")\n",
        "rotas = pd.read_csv(path + \"rotas.csv\")\n",
        "dados_bairros = pd.read_csv(path + \"dados_bairros.csv\")"
      ]
    },
    {
      "cell_type": "markdown",
      "metadata": {
        "id": "VGJyVdL2uX3g"
      },
      "source": [
        "- Demanda\n",
        "- Tamanho da linha\n",
        "- Horario\n",
        "- IDH dos bairros\n",
        "- É domingo?"
      ]
    },
    {
      "cell_type": "code",
      "execution_count": 4,
      "metadata": {
        "id": "L2pkrwmGuX3h"
      },
      "outputs": [],
      "source": [
        "demanda_p_linha_dia = v.groupby([\"linha_numero\", \"movimento_diario_data_mov\"]).count()[\"passageiro_matricula\"].to_frame().reset_index()\n",
        "demanda_p_linha_dia.rename(columns={\"passageiro_matricula\": \"demanda_do_dia\"}, inplace = True)"
      ]
    },
    {
      "cell_type": "code",
      "execution_count": 5,
      "metadata": {
        "colab": {
          "base_uri": "https://localhost:8080/",
          "height": 424
        },
        "id": "Ln8Bg_-QuX3i",
        "outputId": "324e996a-2abc-4f62-98aa-98f2da7eed12"
      },
      "outputs": [
        {
          "output_type": "execute_result",
          "data": {
            "text/plain": [
              "      linha_numero movimento_diario_data_mov  demanda_do_dia\n",
              "0                1                2021-08-29             232\n",
              "1                1                2021-08-31            9096\n",
              "2                1                2021-09-01            8888\n",
              "3                1                2021-09-02            8244\n",
              "4                1                2021-09-03            9020\n",
              "...            ...                       ...             ...\n",
              "2078           942                2021-09-05               2\n",
              "2079           991                2021-08-31              76\n",
              "2080           991                2021-09-01              55\n",
              "2081           991                2021-09-02              55\n",
              "2082           999                2021-09-05             350\n",
              "\n",
              "[2083 rows x 3 columns]"
            ],
            "text/html": [
              "\n",
              "  <div id=\"df-076c8c45-6dee-4d6e-bd8a-c8079b385da1\">\n",
              "    <div class=\"colab-df-container\">\n",
              "      <div>\n",
              "<style scoped>\n",
              "    .dataframe tbody tr th:only-of-type {\n",
              "        vertical-align: middle;\n",
              "    }\n",
              "\n",
              "    .dataframe tbody tr th {\n",
              "        vertical-align: top;\n",
              "    }\n",
              "\n",
              "    .dataframe thead th {\n",
              "        text-align: right;\n",
              "    }\n",
              "</style>\n",
              "<table border=\"1\" class=\"dataframe\">\n",
              "  <thead>\n",
              "    <tr style=\"text-align: right;\">\n",
              "      <th></th>\n",
              "      <th>linha_numero</th>\n",
              "      <th>movimento_diario_data_mov</th>\n",
              "      <th>demanda_do_dia</th>\n",
              "    </tr>\n",
              "  </thead>\n",
              "  <tbody>\n",
              "    <tr>\n",
              "      <th>0</th>\n",
              "      <td>1</td>\n",
              "      <td>2021-08-29</td>\n",
              "      <td>232</td>\n",
              "    </tr>\n",
              "    <tr>\n",
              "      <th>1</th>\n",
              "      <td>1</td>\n",
              "      <td>2021-08-31</td>\n",
              "      <td>9096</td>\n",
              "    </tr>\n",
              "    <tr>\n",
              "      <th>2</th>\n",
              "      <td>1</td>\n",
              "      <td>2021-09-01</td>\n",
              "      <td>8888</td>\n",
              "    </tr>\n",
              "    <tr>\n",
              "      <th>3</th>\n",
              "      <td>1</td>\n",
              "      <td>2021-09-02</td>\n",
              "      <td>8244</td>\n",
              "    </tr>\n",
              "    <tr>\n",
              "      <th>4</th>\n",
              "      <td>1</td>\n",
              "      <td>2021-09-03</td>\n",
              "      <td>9020</td>\n",
              "    </tr>\n",
              "    <tr>\n",
              "      <th>...</th>\n",
              "      <td>...</td>\n",
              "      <td>...</td>\n",
              "      <td>...</td>\n",
              "    </tr>\n",
              "    <tr>\n",
              "      <th>2078</th>\n",
              "      <td>942</td>\n",
              "      <td>2021-09-05</td>\n",
              "      <td>2</td>\n",
              "    </tr>\n",
              "    <tr>\n",
              "      <th>2079</th>\n",
              "      <td>991</td>\n",
              "      <td>2021-08-31</td>\n",
              "      <td>76</td>\n",
              "    </tr>\n",
              "    <tr>\n",
              "      <th>2080</th>\n",
              "      <td>991</td>\n",
              "      <td>2021-09-01</td>\n",
              "      <td>55</td>\n",
              "    </tr>\n",
              "    <tr>\n",
              "      <th>2081</th>\n",
              "      <td>991</td>\n",
              "      <td>2021-09-02</td>\n",
              "      <td>55</td>\n",
              "    </tr>\n",
              "    <tr>\n",
              "      <th>2082</th>\n",
              "      <td>999</td>\n",
              "      <td>2021-09-05</td>\n",
              "      <td>350</td>\n",
              "    </tr>\n",
              "  </tbody>\n",
              "</table>\n",
              "<p>2083 rows × 3 columns</p>\n",
              "</div>\n",
              "      <button class=\"colab-df-convert\" onclick=\"convertToInteractive('df-076c8c45-6dee-4d6e-bd8a-c8079b385da1')\"\n",
              "              title=\"Convert this dataframe to an interactive table.\"\n",
              "              style=\"display:none;\">\n",
              "        \n",
              "  <svg xmlns=\"http://www.w3.org/2000/svg\" height=\"24px\"viewBox=\"0 0 24 24\"\n",
              "       width=\"24px\">\n",
              "    <path d=\"M0 0h24v24H0V0z\" fill=\"none\"/>\n",
              "    <path d=\"M18.56 5.44l.94 2.06.94-2.06 2.06-.94-2.06-.94-.94-2.06-.94 2.06-2.06.94zm-11 1L8.5 8.5l.94-2.06 2.06-.94-2.06-.94L8.5 2.5l-.94 2.06-2.06.94zm10 10l.94 2.06.94-2.06 2.06-.94-2.06-.94-.94-2.06-.94 2.06-2.06.94z\"/><path d=\"M17.41 7.96l-1.37-1.37c-.4-.4-.92-.59-1.43-.59-.52 0-1.04.2-1.43.59L10.3 9.45l-7.72 7.72c-.78.78-.78 2.05 0 2.83L4 21.41c.39.39.9.59 1.41.59.51 0 1.02-.2 1.41-.59l7.78-7.78 2.81-2.81c.8-.78.8-2.07 0-2.86zM5.41 20L4 18.59l7.72-7.72 1.47 1.35L5.41 20z\"/>\n",
              "  </svg>\n",
              "      </button>\n",
              "      \n",
              "  <style>\n",
              "    .colab-df-container {\n",
              "      display:flex;\n",
              "      flex-wrap:wrap;\n",
              "      gap: 12px;\n",
              "    }\n",
              "\n",
              "    .colab-df-convert {\n",
              "      background-color: #E8F0FE;\n",
              "      border: none;\n",
              "      border-radius: 50%;\n",
              "      cursor: pointer;\n",
              "      display: none;\n",
              "      fill: #1967D2;\n",
              "      height: 32px;\n",
              "      padding: 0 0 0 0;\n",
              "      width: 32px;\n",
              "    }\n",
              "\n",
              "    .colab-df-convert:hover {\n",
              "      background-color: #E2EBFA;\n",
              "      box-shadow: 0px 1px 2px rgba(60, 64, 67, 0.3), 0px 1px 3px 1px rgba(60, 64, 67, 0.15);\n",
              "      fill: #174EA6;\n",
              "    }\n",
              "\n",
              "    [theme=dark] .colab-df-convert {\n",
              "      background-color: #3B4455;\n",
              "      fill: #D2E3FC;\n",
              "    }\n",
              "\n",
              "    [theme=dark] .colab-df-convert:hover {\n",
              "      background-color: #434B5C;\n",
              "      box-shadow: 0px 1px 3px 1px rgba(0, 0, 0, 0.15);\n",
              "      filter: drop-shadow(0px 1px 2px rgba(0, 0, 0, 0.3));\n",
              "      fill: #FFFFFF;\n",
              "    }\n",
              "  </style>\n",
              "\n",
              "      <script>\n",
              "        const buttonEl =\n",
              "          document.querySelector('#df-076c8c45-6dee-4d6e-bd8a-c8079b385da1 button.colab-df-convert');\n",
              "        buttonEl.style.display =\n",
              "          google.colab.kernel.accessAllowed ? 'block' : 'none';\n",
              "\n",
              "        async function convertToInteractive(key) {\n",
              "          const element = document.querySelector('#df-076c8c45-6dee-4d6e-bd8a-c8079b385da1');\n",
              "          const dataTable =\n",
              "            await google.colab.kernel.invokeFunction('convertToInteractive',\n",
              "                                                     [key], {});\n",
              "          if (!dataTable) return;\n",
              "\n",
              "          const docLinkHtml = 'Like what you see? Visit the ' +\n",
              "            '<a target=\"_blank\" href=https://colab.research.google.com/notebooks/data_table.ipynb>data table notebook</a>'\n",
              "            + ' to learn more about interactive tables.';\n",
              "          element.innerHTML = '';\n",
              "          dataTable['output_type'] = 'display_data';\n",
              "          await google.colab.output.renderOutput(dataTable, element);\n",
              "          const docLink = document.createElement('div');\n",
              "          docLink.innerHTML = docLinkHtml;\n",
              "          element.appendChild(docLink);\n",
              "        }\n",
              "      </script>\n",
              "    </div>\n",
              "  </div>\n",
              "  "
            ]
          },
          "metadata": {},
          "execution_count": 5
        }
      ],
      "source": [
        "demanda_p_linha_dia"
      ]
    },
    {
      "cell_type": "code",
      "execution_count": 6,
      "metadata": {
        "id": "FY-N2BKjuX3i"
      },
      "outputs": [],
      "source": [
        "# Demanda por intervalor de tempo\n",
        "v[\"passageiro_data_hora\"] = pd.to_datetime(v[\"passageiro_data_hora\"])\n",
        "v[\"passageiro_hora_entrada\"] = v[\"passageiro_data_hora\"].dt.hour\n",
        "v[\"passageiro_hora_range\"] = pd.cut(v[\"passageiro_hora_entrada\"], bins=[-1, 4, 6, 9, 12, 15, 18, 21, float('Inf')], labels=['00-3h59', '4-5h59', '6-8h59', '9-11h59', '12-14h59', '15-17h59', '18-20h59', '21-23h59'])\n",
        "v_hora_range = v.groupby([\"linha_numero\", \"movimento_diario_data_mov\", \"passageiro_hora_range\"]).count()[\"passageiro_matricula\"].to_frame().reset_index()\n",
        "v_hora_range.dropna(inplace=True)"
      ]
    },
    {
      "cell_type": "code",
      "execution_count": 7,
      "metadata": {
        "colab": {
          "base_uri": "https://localhost:8080/",
          "height": 424
        },
        "id": "6Gx4dGKsuX3j",
        "outputId": "cb247567-2763-4459-d818-b719caf42ec3"
      },
      "outputs": [
        {
          "output_type": "execute_result",
          "data": {
            "text/plain": [
              "       linha_numero movimento_diario_data_mov passageiro_hora_range  \\\n",
              "0                 1                2020-11-10               00-3h59   \n",
              "1                 1                2020-11-10                4-5h59   \n",
              "2                 1                2020-11-10                6-8h59   \n",
              "3                 1                2020-11-10               9-11h59   \n",
              "4                 1                2020-11-10              12-14h59   \n",
              "...             ...                       ...                   ...   \n",
              "48179           999                2021-09-07               9-11h59   \n",
              "48180           999                2021-09-07              12-14h59   \n",
              "48181           999                2021-09-07              15-17h59   \n",
              "48182           999                2021-09-07              18-20h59   \n",
              "48183           999                2021-09-07              21-23h59   \n",
              "\n",
              "       passageiro_matricula  \n",
              "0                         0  \n",
              "1                         0  \n",
              "2                         0  \n",
              "3                         0  \n",
              "4                         0  \n",
              "...                     ...  \n",
              "48179                     0  \n",
              "48180                     0  \n",
              "48181                     0  \n",
              "48182                     0  \n",
              "48183                     0  \n",
              "\n",
              "[48184 rows x 4 columns]"
            ],
            "text/html": [
              "\n",
              "  <div id=\"df-4f965ac3-7eb9-457c-b1b0-7fd3a89978af\">\n",
              "    <div class=\"colab-df-container\">\n",
              "      <div>\n",
              "<style scoped>\n",
              "    .dataframe tbody tr th:only-of-type {\n",
              "        vertical-align: middle;\n",
              "    }\n",
              "\n",
              "    .dataframe tbody tr th {\n",
              "        vertical-align: top;\n",
              "    }\n",
              "\n",
              "    .dataframe thead th {\n",
              "        text-align: right;\n",
              "    }\n",
              "</style>\n",
              "<table border=\"1\" class=\"dataframe\">\n",
              "  <thead>\n",
              "    <tr style=\"text-align: right;\">\n",
              "      <th></th>\n",
              "      <th>linha_numero</th>\n",
              "      <th>movimento_diario_data_mov</th>\n",
              "      <th>passageiro_hora_range</th>\n",
              "      <th>passageiro_matricula</th>\n",
              "    </tr>\n",
              "  </thead>\n",
              "  <tbody>\n",
              "    <tr>\n",
              "      <th>0</th>\n",
              "      <td>1</td>\n",
              "      <td>2020-11-10</td>\n",
              "      <td>00-3h59</td>\n",
              "      <td>0</td>\n",
              "    </tr>\n",
              "    <tr>\n",
              "      <th>1</th>\n",
              "      <td>1</td>\n",
              "      <td>2020-11-10</td>\n",
              "      <td>4-5h59</td>\n",
              "      <td>0</td>\n",
              "    </tr>\n",
              "    <tr>\n",
              "      <th>2</th>\n",
              "      <td>1</td>\n",
              "      <td>2020-11-10</td>\n",
              "      <td>6-8h59</td>\n",
              "      <td>0</td>\n",
              "    </tr>\n",
              "    <tr>\n",
              "      <th>3</th>\n",
              "      <td>1</td>\n",
              "      <td>2020-11-10</td>\n",
              "      <td>9-11h59</td>\n",
              "      <td>0</td>\n",
              "    </tr>\n",
              "    <tr>\n",
              "      <th>4</th>\n",
              "      <td>1</td>\n",
              "      <td>2020-11-10</td>\n",
              "      <td>12-14h59</td>\n",
              "      <td>0</td>\n",
              "    </tr>\n",
              "    <tr>\n",
              "      <th>...</th>\n",
              "      <td>...</td>\n",
              "      <td>...</td>\n",
              "      <td>...</td>\n",
              "      <td>...</td>\n",
              "    </tr>\n",
              "    <tr>\n",
              "      <th>48179</th>\n",
              "      <td>999</td>\n",
              "      <td>2021-09-07</td>\n",
              "      <td>9-11h59</td>\n",
              "      <td>0</td>\n",
              "    </tr>\n",
              "    <tr>\n",
              "      <th>48180</th>\n",
              "      <td>999</td>\n",
              "      <td>2021-09-07</td>\n",
              "      <td>12-14h59</td>\n",
              "      <td>0</td>\n",
              "    </tr>\n",
              "    <tr>\n",
              "      <th>48181</th>\n",
              "      <td>999</td>\n",
              "      <td>2021-09-07</td>\n",
              "      <td>15-17h59</td>\n",
              "      <td>0</td>\n",
              "    </tr>\n",
              "    <tr>\n",
              "      <th>48182</th>\n",
              "      <td>999</td>\n",
              "      <td>2021-09-07</td>\n",
              "      <td>18-20h59</td>\n",
              "      <td>0</td>\n",
              "    </tr>\n",
              "    <tr>\n",
              "      <th>48183</th>\n",
              "      <td>999</td>\n",
              "      <td>2021-09-07</td>\n",
              "      <td>21-23h59</td>\n",
              "      <td>0</td>\n",
              "    </tr>\n",
              "  </tbody>\n",
              "</table>\n",
              "<p>48184 rows × 4 columns</p>\n",
              "</div>\n",
              "      <button class=\"colab-df-convert\" onclick=\"convertToInteractive('df-4f965ac3-7eb9-457c-b1b0-7fd3a89978af')\"\n",
              "              title=\"Convert this dataframe to an interactive table.\"\n",
              "              style=\"display:none;\">\n",
              "        \n",
              "  <svg xmlns=\"http://www.w3.org/2000/svg\" height=\"24px\"viewBox=\"0 0 24 24\"\n",
              "       width=\"24px\">\n",
              "    <path d=\"M0 0h24v24H0V0z\" fill=\"none\"/>\n",
              "    <path d=\"M18.56 5.44l.94 2.06.94-2.06 2.06-.94-2.06-.94-.94-2.06-.94 2.06-2.06.94zm-11 1L8.5 8.5l.94-2.06 2.06-.94-2.06-.94L8.5 2.5l-.94 2.06-2.06.94zm10 10l.94 2.06.94-2.06 2.06-.94-2.06-.94-.94-2.06-.94 2.06-2.06.94z\"/><path d=\"M17.41 7.96l-1.37-1.37c-.4-.4-.92-.59-1.43-.59-.52 0-1.04.2-1.43.59L10.3 9.45l-7.72 7.72c-.78.78-.78 2.05 0 2.83L4 21.41c.39.39.9.59 1.41.59.51 0 1.02-.2 1.41-.59l7.78-7.78 2.81-2.81c.8-.78.8-2.07 0-2.86zM5.41 20L4 18.59l7.72-7.72 1.47 1.35L5.41 20z\"/>\n",
              "  </svg>\n",
              "      </button>\n",
              "      \n",
              "  <style>\n",
              "    .colab-df-container {\n",
              "      display:flex;\n",
              "      flex-wrap:wrap;\n",
              "      gap: 12px;\n",
              "    }\n",
              "\n",
              "    .colab-df-convert {\n",
              "      background-color: #E8F0FE;\n",
              "      border: none;\n",
              "      border-radius: 50%;\n",
              "      cursor: pointer;\n",
              "      display: none;\n",
              "      fill: #1967D2;\n",
              "      height: 32px;\n",
              "      padding: 0 0 0 0;\n",
              "      width: 32px;\n",
              "    }\n",
              "\n",
              "    .colab-df-convert:hover {\n",
              "      background-color: #E2EBFA;\n",
              "      box-shadow: 0px 1px 2px rgba(60, 64, 67, 0.3), 0px 1px 3px 1px rgba(60, 64, 67, 0.15);\n",
              "      fill: #174EA6;\n",
              "    }\n",
              "\n",
              "    [theme=dark] .colab-df-convert {\n",
              "      background-color: #3B4455;\n",
              "      fill: #D2E3FC;\n",
              "    }\n",
              "\n",
              "    [theme=dark] .colab-df-convert:hover {\n",
              "      background-color: #434B5C;\n",
              "      box-shadow: 0px 1px 3px 1px rgba(0, 0, 0, 0.15);\n",
              "      filter: drop-shadow(0px 1px 2px rgba(0, 0, 0, 0.3));\n",
              "      fill: #FFFFFF;\n",
              "    }\n",
              "  </style>\n",
              "\n",
              "      <script>\n",
              "        const buttonEl =\n",
              "          document.querySelector('#df-4f965ac3-7eb9-457c-b1b0-7fd3a89978af button.colab-df-convert');\n",
              "        buttonEl.style.display =\n",
              "          google.colab.kernel.accessAllowed ? 'block' : 'none';\n",
              "\n",
              "        async function convertToInteractive(key) {\n",
              "          const element = document.querySelector('#df-4f965ac3-7eb9-457c-b1b0-7fd3a89978af');\n",
              "          const dataTable =\n",
              "            await google.colab.kernel.invokeFunction('convertToInteractive',\n",
              "                                                     [key], {});\n",
              "          if (!dataTable) return;\n",
              "\n",
              "          const docLinkHtml = 'Like what you see? Visit the ' +\n",
              "            '<a target=\"_blank\" href=https://colab.research.google.com/notebooks/data_table.ipynb>data table notebook</a>'\n",
              "            + ' to learn more about interactive tables.';\n",
              "          element.innerHTML = '';\n",
              "          dataTable['output_type'] = 'display_data';\n",
              "          await google.colab.output.renderOutput(dataTable, element);\n",
              "          const docLink = document.createElement('div');\n",
              "          docLink.innerHTML = docLinkHtml;\n",
              "          element.appendChild(docLink);\n",
              "        }\n",
              "      </script>\n",
              "    </div>\n",
              "  </div>\n",
              "  "
            ]
          },
          "metadata": {},
          "execution_count": 7
        }
      ],
      "source": [
        "v_hora_range"
      ]
    },
    {
      "cell_type": "code",
      "execution_count": 8,
      "metadata": {
        "colab": {
          "base_uri": "https://localhost:8080/"
        },
        "id": "dWrPX4uKuX3k",
        "outputId": "29b8799f-8ba5-4430-e297-76d959a60596"
      },
      "outputs": [
        {
          "output_type": "stream",
          "name": "stdout",
          "text": [
            "<class 'pandas.core.frame.DataFrame'>\n",
            "Int64Index: 48184 entries, 0 to 48183\n",
            "Data columns (total 4 columns):\n",
            " #   Column                     Non-Null Count  Dtype   \n",
            "---  ------                     --------------  -----   \n",
            " 0   linha_numero               48184 non-null  int64   \n",
            " 1   movimento_diario_data_mov  48184 non-null  object  \n",
            " 2   passageiro_hora_range      48184 non-null  category\n",
            " 3   passageiro_matricula       48184 non-null  int64   \n",
            "dtypes: category(1), int64(2), object(1)\n",
            "memory usage: 1.5+ MB\n"
          ]
        }
      ],
      "source": [
        "v_hora_range.info()"
      ]
    },
    {
      "cell_type": "code",
      "execution_count": 9,
      "metadata": {
        "id": "THAG0VyTuX3k"
      },
      "outputs": [],
      "source": [
        "days_week ={\n",
        "    0: 'Segunda', \n",
        "    1: 'Terça', \n",
        "    2: 'Quarta', \n",
        "    3: 'Quinta', \n",
        "    4: 'Sexta',\n",
        "    5: 'Sábado', \n",
        "    6: 'Domingo'\n",
        "}\n",
        "\n",
        "v_hora_range[\"movimento_diario_data_mov\"] = pd.to_datetime(v_hora_range[\"movimento_diario_data_mov\"])\n",
        "\n",
        "def eh_domingo(dia_semana):\n",
        "    if dia_semana == \"Domingo\":\n",
        "        return 1\n",
        "    else:\n",
        "        return 0\n",
        "\n",
        "v_hora_range[\"Dia_Semana\"] = v_hora_range.movimento_diario_data_mov.dt.weekday\n",
        "v_hora_range[\"Dia_Semana\"] = v_hora_range.Dia_Semana.map(days_week)\n",
        "v_hora_range[\"Domingo\"] = v_hora_range[\"Dia_Semana\"].map(eh_domingo)"
      ]
    },
    {
      "cell_type": "code",
      "execution_count": 10,
      "metadata": {
        "colab": {
          "base_uri": "https://localhost:8080/",
          "height": 424
        },
        "id": "0AI21PiSuX3l",
        "outputId": "be2d2df4-9791-40b8-9e44-d86ec3b4c9dc"
      },
      "outputs": [
        {
          "output_type": "execute_result",
          "data": {
            "text/plain": [
              "       linha_numero movimento_diario_data_mov passageiro_hora_range  \\\n",
              "0                 1                2020-11-10               00-3h59   \n",
              "1                 1                2020-11-10                4-5h59   \n",
              "2                 1                2020-11-10                6-8h59   \n",
              "3                 1                2020-11-10               9-11h59   \n",
              "4                 1                2020-11-10              12-14h59   \n",
              "...             ...                       ...                   ...   \n",
              "48179           999                2021-09-07               9-11h59   \n",
              "48180           999                2021-09-07              12-14h59   \n",
              "48181           999                2021-09-07              15-17h59   \n",
              "48182           999                2021-09-07              18-20h59   \n",
              "48183           999                2021-09-07              21-23h59   \n",
              "\n",
              "       passageiro_matricula Dia_Semana  Domingo  \n",
              "0                         0      Terça        0  \n",
              "1                         0      Terça        0  \n",
              "2                         0      Terça        0  \n",
              "3                         0      Terça        0  \n",
              "4                         0      Terça        0  \n",
              "...                     ...        ...      ...  \n",
              "48179                     0      Terça        0  \n",
              "48180                     0      Terça        0  \n",
              "48181                     0      Terça        0  \n",
              "48182                     0      Terça        0  \n",
              "48183                     0      Terça        0  \n",
              "\n",
              "[48184 rows x 6 columns]"
            ],
            "text/html": [
              "\n",
              "  <div id=\"df-55f26074-ddf1-4930-8f37-b052d23584f5\">\n",
              "    <div class=\"colab-df-container\">\n",
              "      <div>\n",
              "<style scoped>\n",
              "    .dataframe tbody tr th:only-of-type {\n",
              "        vertical-align: middle;\n",
              "    }\n",
              "\n",
              "    .dataframe tbody tr th {\n",
              "        vertical-align: top;\n",
              "    }\n",
              "\n",
              "    .dataframe thead th {\n",
              "        text-align: right;\n",
              "    }\n",
              "</style>\n",
              "<table border=\"1\" class=\"dataframe\">\n",
              "  <thead>\n",
              "    <tr style=\"text-align: right;\">\n",
              "      <th></th>\n",
              "      <th>linha_numero</th>\n",
              "      <th>movimento_diario_data_mov</th>\n",
              "      <th>passageiro_hora_range</th>\n",
              "      <th>passageiro_matricula</th>\n",
              "      <th>Dia_Semana</th>\n",
              "      <th>Domingo</th>\n",
              "    </tr>\n",
              "  </thead>\n",
              "  <tbody>\n",
              "    <tr>\n",
              "      <th>0</th>\n",
              "      <td>1</td>\n",
              "      <td>2020-11-10</td>\n",
              "      <td>00-3h59</td>\n",
              "      <td>0</td>\n",
              "      <td>Terça</td>\n",
              "      <td>0</td>\n",
              "    </tr>\n",
              "    <tr>\n",
              "      <th>1</th>\n",
              "      <td>1</td>\n",
              "      <td>2020-11-10</td>\n",
              "      <td>4-5h59</td>\n",
              "      <td>0</td>\n",
              "      <td>Terça</td>\n",
              "      <td>0</td>\n",
              "    </tr>\n",
              "    <tr>\n",
              "      <th>2</th>\n",
              "      <td>1</td>\n",
              "      <td>2020-11-10</td>\n",
              "      <td>6-8h59</td>\n",
              "      <td>0</td>\n",
              "      <td>Terça</td>\n",
              "      <td>0</td>\n",
              "    </tr>\n",
              "    <tr>\n",
              "      <th>3</th>\n",
              "      <td>1</td>\n",
              "      <td>2020-11-10</td>\n",
              "      <td>9-11h59</td>\n",
              "      <td>0</td>\n",
              "      <td>Terça</td>\n",
              "      <td>0</td>\n",
              "    </tr>\n",
              "    <tr>\n",
              "      <th>4</th>\n",
              "      <td>1</td>\n",
              "      <td>2020-11-10</td>\n",
              "      <td>12-14h59</td>\n",
              "      <td>0</td>\n",
              "      <td>Terça</td>\n",
              "      <td>0</td>\n",
              "    </tr>\n",
              "    <tr>\n",
              "      <th>...</th>\n",
              "      <td>...</td>\n",
              "      <td>...</td>\n",
              "      <td>...</td>\n",
              "      <td>...</td>\n",
              "      <td>...</td>\n",
              "      <td>...</td>\n",
              "    </tr>\n",
              "    <tr>\n",
              "      <th>48179</th>\n",
              "      <td>999</td>\n",
              "      <td>2021-09-07</td>\n",
              "      <td>9-11h59</td>\n",
              "      <td>0</td>\n",
              "      <td>Terça</td>\n",
              "      <td>0</td>\n",
              "    </tr>\n",
              "    <tr>\n",
              "      <th>48180</th>\n",
              "      <td>999</td>\n",
              "      <td>2021-09-07</td>\n",
              "      <td>12-14h59</td>\n",
              "      <td>0</td>\n",
              "      <td>Terça</td>\n",
              "      <td>0</td>\n",
              "    </tr>\n",
              "    <tr>\n",
              "      <th>48181</th>\n",
              "      <td>999</td>\n",
              "      <td>2021-09-07</td>\n",
              "      <td>15-17h59</td>\n",
              "      <td>0</td>\n",
              "      <td>Terça</td>\n",
              "      <td>0</td>\n",
              "    </tr>\n",
              "    <tr>\n",
              "      <th>48182</th>\n",
              "      <td>999</td>\n",
              "      <td>2021-09-07</td>\n",
              "      <td>18-20h59</td>\n",
              "      <td>0</td>\n",
              "      <td>Terça</td>\n",
              "      <td>0</td>\n",
              "    </tr>\n",
              "    <tr>\n",
              "      <th>48183</th>\n",
              "      <td>999</td>\n",
              "      <td>2021-09-07</td>\n",
              "      <td>21-23h59</td>\n",
              "      <td>0</td>\n",
              "      <td>Terça</td>\n",
              "      <td>0</td>\n",
              "    </tr>\n",
              "  </tbody>\n",
              "</table>\n",
              "<p>48184 rows × 6 columns</p>\n",
              "</div>\n",
              "      <button class=\"colab-df-convert\" onclick=\"convertToInteractive('df-55f26074-ddf1-4930-8f37-b052d23584f5')\"\n",
              "              title=\"Convert this dataframe to an interactive table.\"\n",
              "              style=\"display:none;\">\n",
              "        \n",
              "  <svg xmlns=\"http://www.w3.org/2000/svg\" height=\"24px\"viewBox=\"0 0 24 24\"\n",
              "       width=\"24px\">\n",
              "    <path d=\"M0 0h24v24H0V0z\" fill=\"none\"/>\n",
              "    <path d=\"M18.56 5.44l.94 2.06.94-2.06 2.06-.94-2.06-.94-.94-2.06-.94 2.06-2.06.94zm-11 1L8.5 8.5l.94-2.06 2.06-.94-2.06-.94L8.5 2.5l-.94 2.06-2.06.94zm10 10l.94 2.06.94-2.06 2.06-.94-2.06-.94-.94-2.06-.94 2.06-2.06.94z\"/><path d=\"M17.41 7.96l-1.37-1.37c-.4-.4-.92-.59-1.43-.59-.52 0-1.04.2-1.43.59L10.3 9.45l-7.72 7.72c-.78.78-.78 2.05 0 2.83L4 21.41c.39.39.9.59 1.41.59.51 0 1.02-.2 1.41-.59l7.78-7.78 2.81-2.81c.8-.78.8-2.07 0-2.86zM5.41 20L4 18.59l7.72-7.72 1.47 1.35L5.41 20z\"/>\n",
              "  </svg>\n",
              "      </button>\n",
              "      \n",
              "  <style>\n",
              "    .colab-df-container {\n",
              "      display:flex;\n",
              "      flex-wrap:wrap;\n",
              "      gap: 12px;\n",
              "    }\n",
              "\n",
              "    .colab-df-convert {\n",
              "      background-color: #E8F0FE;\n",
              "      border: none;\n",
              "      border-radius: 50%;\n",
              "      cursor: pointer;\n",
              "      display: none;\n",
              "      fill: #1967D2;\n",
              "      height: 32px;\n",
              "      padding: 0 0 0 0;\n",
              "      width: 32px;\n",
              "    }\n",
              "\n",
              "    .colab-df-convert:hover {\n",
              "      background-color: #E2EBFA;\n",
              "      box-shadow: 0px 1px 2px rgba(60, 64, 67, 0.3), 0px 1px 3px 1px rgba(60, 64, 67, 0.15);\n",
              "      fill: #174EA6;\n",
              "    }\n",
              "\n",
              "    [theme=dark] .colab-df-convert {\n",
              "      background-color: #3B4455;\n",
              "      fill: #D2E3FC;\n",
              "    }\n",
              "\n",
              "    [theme=dark] .colab-df-convert:hover {\n",
              "      background-color: #434B5C;\n",
              "      box-shadow: 0px 1px 3px 1px rgba(0, 0, 0, 0.15);\n",
              "      filter: drop-shadow(0px 1px 2px rgba(0, 0, 0, 0.3));\n",
              "      fill: #FFFFFF;\n",
              "    }\n",
              "  </style>\n",
              "\n",
              "      <script>\n",
              "        const buttonEl =\n",
              "          document.querySelector('#df-55f26074-ddf1-4930-8f37-b052d23584f5 button.colab-df-convert');\n",
              "        buttonEl.style.display =\n",
              "          google.colab.kernel.accessAllowed ? 'block' : 'none';\n",
              "\n",
              "        async function convertToInteractive(key) {\n",
              "          const element = document.querySelector('#df-55f26074-ddf1-4930-8f37-b052d23584f5');\n",
              "          const dataTable =\n",
              "            await google.colab.kernel.invokeFunction('convertToInteractive',\n",
              "                                                     [key], {});\n",
              "          if (!dataTable) return;\n",
              "\n",
              "          const docLinkHtml = 'Like what you see? Visit the ' +\n",
              "            '<a target=\"_blank\" href=https://colab.research.google.com/notebooks/data_table.ipynb>data table notebook</a>'\n",
              "            + ' to learn more about interactive tables.';\n",
              "          element.innerHTML = '';\n",
              "          dataTable['output_type'] = 'display_data';\n",
              "          await google.colab.output.renderOutput(dataTable, element);\n",
              "          const docLink = document.createElement('div');\n",
              "          docLink.innerHTML = docLinkHtml;\n",
              "          element.appendChild(docLink);\n",
              "        }\n",
              "      </script>\n",
              "    </div>\n",
              "  </div>\n",
              "  "
            ]
          },
          "metadata": {},
          "execution_count": 10
        }
      ],
      "source": [
        "v_hora_range"
      ]
    },
    {
      "cell_type": "code",
      "execution_count": 11,
      "metadata": {
        "id": "XfHv8UQJuX3l"
      },
      "outputs": [],
      "source": [
        "# Variável de km da rota\n",
        "linha_p_km_programado = fgr[[\"fechamento_data\", \"linha_numero\", \"linha_km_programado\"]].drop_duplicates()\n",
        "linha_p_km_programado = linha_p_km_programado[linha_p_km_programado.linha_km_programado != 0]\n",
        "linha_demanda_km = demanda_p_linha_dia.merge(linha_p_km_programado, how=\"inner\", left_on=[\"linha_numero\", \"movimento_diario_data_mov\"], right_on=[\"linha_numero\",\"fechamento_data\"])\n",
        "linha_demanda_km.drop(columns=[\"fechamento_data\"], inplace=True)\n",
        "linha_demanda_km = linha_demanda_km.groupby([\"linha_numero\"]).mean()[[\"linha_km_programado\"]].reset_index()\n",
        "dataset_model = v_hora_range.merge(linha_demanda_km, how=\"inner\", on=\"linha_numero\")"
      ]
    },
    {
      "cell_type": "code",
      "execution_count": 12,
      "metadata": {
        "id": "PF3IwqmtuX3m"
      },
      "outputs": [],
      "source": [
        "rota_paradas_merged = rota_paradas.merge(paradas, how=\"inner\", on=\"stop_id\")\n",
        "rota_paradas_merged = rota_paradas_merged.merge(rotas, how=\"inner\", on=\"route_id\")\n",
        "rotas_paradas_clean = rota_paradas_merged[[\"route_id\", \"stop_sequence\", \"district\", \"city\"]]\n",
        "rotas_paradas_demanda = rotas_paradas_clean.merge(demanda_p_linha_dia, how=\"inner\", left_on=\"route_id\", right_on=\"linha_numero\")\n",
        "rotas_paradas_demanda.drop(columns=[\"route_id\", \"stop_sequence\"], inplace=True)\n",
        "rotas_paradas_demanda = rotas_paradas_demanda[rotas_paradas_demanda[\"city\"] == \"Fortaleza\"]"
      ]
    },
    {
      "cell_type": "code",
      "source": [
        "!pip install unidecode"
      ],
      "metadata": {
        "colab": {
          "base_uri": "https://localhost:8080/"
        },
        "id": "xgJfD2J5vrNr",
        "outputId": "e2d5d937-321e-4884-b039-b6f5a1f6cf19"
      },
      "execution_count": 13,
      "outputs": [
        {
          "output_type": "stream",
          "name": "stdout",
          "text": [
            "Looking in indexes: https://pypi.org/simple, https://us-python.pkg.dev/colab-wheels/public/simple/\n",
            "Requirement already satisfied: unidecode in /usr/local/lib/python3.7/dist-packages (1.3.4)\n"
          ]
        }
      ]
    },
    {
      "cell_type": "code",
      "execution_count": 14,
      "metadata": {
        "id": "ZuuGUoXwuX3m"
      },
      "outputs": [],
      "source": [
        "# Retira acentos e barras (/ + termo) dos nomes dos bairros\n",
        "from unidecode import unidecode\n",
        "\n",
        "district = []\n",
        "for index, row in rotas_paradas_demanda.iterrows():\n",
        "  district_without_punt = unidecode(row[\"district\"])\n",
        "  district_without_barra = district_without_punt.split(\"/\")[0]\n",
        "  if district_without_barra.startswith(\"Parque \"):\n",
        "    district_without_barra = district_without_barra.replace(\"Parque \", \"\")\n",
        "  if district_without_barra.startswith(\"Vila \"):\n",
        "    district_without_barra = district_without_barra.replace(\"Vila \", \"\")\n",
        "  if district_without_barra.startswith(\"Prefeito \"):\n",
        "    district_without_barra = district_without_barra.replace(\"Prefeito \", \"\")\n",
        "  district.append(district_without_barra.strip())\n",
        "rotas_paradas_demanda[\"Bairro\"] = district\n",
        "\n",
        "district = []\n",
        "for index, row in dados_bairros.iterrows():\n",
        "  district_without_punt = unidecode(row[\"Bairros\"])\n",
        "  district_without_barra = district_without_punt.split(\"/\")[0]\n",
        "  if district_without_barra.startswith(\"Parque \"):\n",
        "    district_without_barra = district_without_barra.replace(\"Parque \", \"\")\n",
        "  if district_without_barra.startswith(\"Vila \"):\n",
        "    district_without_barra = district_without_barra.replace(\"Vila \", \"\")\n",
        "  if district_without_barra.startswith(\"Prefeito \"):\n",
        "    district_without_barra = district_without_barra.replace(\"Prefeito \", \"\")\n",
        "  district.append(district_without_barra.strip())\n",
        "dados_bairros[\"Bairro\"] = district"
      ]
    },
    {
      "cell_type": "code",
      "execution_count": 15,
      "metadata": {
        "id": "xDap89ELuX3n"
      },
      "outputs": [],
      "source": [
        "rotas_paradas_demanda[\"Bairro\"] = rotas_paradas_demanda[\"Bairro\"].str.lower()\n",
        "rotas_paradas_demanda[\"Bairro\"] = rotas_paradas_demanda[\"Bairro\"].str.replace(\"ç\", \"c\")\n",
        "dados_bairros[\"Bairro\"] = dados_bairros[\"Bairro\"].str.lower()"
      ]
    },
    {
      "cell_type": "code",
      "execution_count": 16,
      "metadata": {
        "id": "Eoy5IkJPuX3n"
      },
      "outputs": [],
      "source": [
        "rotas_demanda_bairro = rotas_paradas_demanda.merge(dados_bairros, how=\"inner\", left_on=\"Bairro\", right_on=\"Bairro\")\n",
        "rotas_media_idh = rotas_demanda_bairro.groupby([\"linha_numero\"]).mean()[[\"IDH em 2010[8]\"]]"
      ]
    },
    {
      "cell_type": "code",
      "execution_count": 17,
      "metadata": {
        "id": "8HtRBt7huX3n"
      },
      "outputs": [],
      "source": [
        "dataset_model = dataset_model.merge(rotas_media_idh, how=\"inner\", on=\"linha_numero\")"
      ]
    },
    {
      "cell_type": "code",
      "execution_count": 18,
      "metadata": {
        "id": "iNSmHOleuX3o"
      },
      "outputs": [],
      "source": [
        "rotas_idh_max = rotas_demanda_bairro.groupby([\"linha_numero\"]).max()[[\"IDH em 2010[8]\"]].reset_index()"
      ]
    },
    {
      "cell_type": "code",
      "execution_count": 19,
      "metadata": {
        "id": "KzTsYD_ruX3o"
      },
      "outputs": [],
      "source": [
        "dataset_model = dataset_model.merge(rotas_idh_max, how=\"inner\", on=\"linha_numero\")"
      ]
    },
    {
      "cell_type": "markdown",
      "metadata": {
        "id": "E0M4_y-6uX3o"
      },
      "source": [
        "GET DUMMIES HORA RANGE"
      ]
    },
    {
      "cell_type": "code",
      "execution_count": 20,
      "metadata": {
        "id": "4RQ5Lk_0uX3o"
      },
      "outputs": [],
      "source": [
        "dataset_model = pd.concat([dataset_model, pd.get_dummies(dataset_model[\"passageiro_hora_range\"])], axis = 1)"
      ]
    },
    {
      "cell_type": "code",
      "execution_count": 21,
      "metadata": {
        "id": "_R1OhIzCuX3o"
      },
      "outputs": [],
      "source": [
        "dataset_model.drop(columns=[\"Dia_Semana\", \"movimento_diario_data_mov\", \"linha_numero\", \"passageiro_hora_range\"], inplace=True)"
      ]
    },
    {
      "cell_type": "code",
      "execution_count": 22,
      "metadata": {
        "colab": {
          "base_uri": "https://localhost:8080/",
          "height": 467
        },
        "id": "rQuuVQweuX3o",
        "outputId": "618ba404-03b7-4e9d-eb81-05d94d281fc8"
      },
      "outputs": [
        {
          "output_type": "execute_result",
          "data": {
            "text/plain": [
              "       passageiro_matricula  Domingo  linha_km_programado  IDH em 2010[8]_x  \\\n",
              "0                         0        0             1165.120          0.465660   \n",
              "1                         0        0             1165.120          0.465660   \n",
              "2                         0        0             1165.120          0.465660   \n",
              "3                         0        0             1165.120          0.465660   \n",
              "4                         0        0             1165.120          0.465660   \n",
              "...                     ...      ...                  ...               ...   \n",
              "39971                     0        0             1157.175          0.291214   \n",
              "39972                     0        0             1157.175          0.291214   \n",
              "39973                     0        0             1157.175          0.291214   \n",
              "39974                     0        0             1157.175          0.291214   \n",
              "39975                     0        0             1157.175          0.291214   \n",
              "\n",
              "       IDH em 2010[8]_y  00-3h59  4-5h59  6-8h59  9-11h59  12-14h59  15-17h59  \\\n",
              "0                 0.762        1       0       0        0         0         0   \n",
              "1                 0.762        0       1       0        0         0         0   \n",
              "2                 0.762        0       0       1        0         0         0   \n",
              "3                 0.762        0       0       0        1         0         0   \n",
              "4                 0.762        0       0       0        0         1         0   \n",
              "...                 ...      ...     ...     ...      ...       ...       ...   \n",
              "39971             0.530        0       0       0        1         0         0   \n",
              "39972             0.530        0       0       0        0         1         0   \n",
              "39973             0.530        0       0       0        0         0         1   \n",
              "39974             0.530        0       0       0        0         0         0   \n",
              "39975             0.530        0       0       0        0         0         0   \n",
              "\n",
              "       18-20h59  21-23h59  \n",
              "0             0         0  \n",
              "1             0         0  \n",
              "2             0         0  \n",
              "3             0         0  \n",
              "4             0         0  \n",
              "...         ...       ...  \n",
              "39971         0         0  \n",
              "39972         0         0  \n",
              "39973         0         0  \n",
              "39974         1         0  \n",
              "39975         0         1  \n",
              "\n",
              "[39976 rows x 13 columns]"
            ],
            "text/html": [
              "\n",
              "  <div id=\"df-f6e0657e-16ec-41c2-a01e-1180a678d201\">\n",
              "    <div class=\"colab-df-container\">\n",
              "      <div>\n",
              "<style scoped>\n",
              "    .dataframe tbody tr th:only-of-type {\n",
              "        vertical-align: middle;\n",
              "    }\n",
              "\n",
              "    .dataframe tbody tr th {\n",
              "        vertical-align: top;\n",
              "    }\n",
              "\n",
              "    .dataframe thead th {\n",
              "        text-align: right;\n",
              "    }\n",
              "</style>\n",
              "<table border=\"1\" class=\"dataframe\">\n",
              "  <thead>\n",
              "    <tr style=\"text-align: right;\">\n",
              "      <th></th>\n",
              "      <th>passageiro_matricula</th>\n",
              "      <th>Domingo</th>\n",
              "      <th>linha_km_programado</th>\n",
              "      <th>IDH em 2010[8]_x</th>\n",
              "      <th>IDH em 2010[8]_y</th>\n",
              "      <th>00-3h59</th>\n",
              "      <th>4-5h59</th>\n",
              "      <th>6-8h59</th>\n",
              "      <th>9-11h59</th>\n",
              "      <th>12-14h59</th>\n",
              "      <th>15-17h59</th>\n",
              "      <th>18-20h59</th>\n",
              "      <th>21-23h59</th>\n",
              "    </tr>\n",
              "  </thead>\n",
              "  <tbody>\n",
              "    <tr>\n",
              "      <th>0</th>\n",
              "      <td>0</td>\n",
              "      <td>0</td>\n",
              "      <td>1165.120</td>\n",
              "      <td>0.465660</td>\n",
              "      <td>0.762</td>\n",
              "      <td>1</td>\n",
              "      <td>0</td>\n",
              "      <td>0</td>\n",
              "      <td>0</td>\n",
              "      <td>0</td>\n",
              "      <td>0</td>\n",
              "      <td>0</td>\n",
              "      <td>0</td>\n",
              "    </tr>\n",
              "    <tr>\n",
              "      <th>1</th>\n",
              "      <td>0</td>\n",
              "      <td>0</td>\n",
              "      <td>1165.120</td>\n",
              "      <td>0.465660</td>\n",
              "      <td>0.762</td>\n",
              "      <td>0</td>\n",
              "      <td>1</td>\n",
              "      <td>0</td>\n",
              "      <td>0</td>\n",
              "      <td>0</td>\n",
              "      <td>0</td>\n",
              "      <td>0</td>\n",
              "      <td>0</td>\n",
              "    </tr>\n",
              "    <tr>\n",
              "      <th>2</th>\n",
              "      <td>0</td>\n",
              "      <td>0</td>\n",
              "      <td>1165.120</td>\n",
              "      <td>0.465660</td>\n",
              "      <td>0.762</td>\n",
              "      <td>0</td>\n",
              "      <td>0</td>\n",
              "      <td>1</td>\n",
              "      <td>0</td>\n",
              "      <td>0</td>\n",
              "      <td>0</td>\n",
              "      <td>0</td>\n",
              "      <td>0</td>\n",
              "    </tr>\n",
              "    <tr>\n",
              "      <th>3</th>\n",
              "      <td>0</td>\n",
              "      <td>0</td>\n",
              "      <td>1165.120</td>\n",
              "      <td>0.465660</td>\n",
              "      <td>0.762</td>\n",
              "      <td>0</td>\n",
              "      <td>0</td>\n",
              "      <td>0</td>\n",
              "      <td>1</td>\n",
              "      <td>0</td>\n",
              "      <td>0</td>\n",
              "      <td>0</td>\n",
              "      <td>0</td>\n",
              "    </tr>\n",
              "    <tr>\n",
              "      <th>4</th>\n",
              "      <td>0</td>\n",
              "      <td>0</td>\n",
              "      <td>1165.120</td>\n",
              "      <td>0.465660</td>\n",
              "      <td>0.762</td>\n",
              "      <td>0</td>\n",
              "      <td>0</td>\n",
              "      <td>0</td>\n",
              "      <td>0</td>\n",
              "      <td>1</td>\n",
              "      <td>0</td>\n",
              "      <td>0</td>\n",
              "      <td>0</td>\n",
              "    </tr>\n",
              "    <tr>\n",
              "      <th>...</th>\n",
              "      <td>...</td>\n",
              "      <td>...</td>\n",
              "      <td>...</td>\n",
              "      <td>...</td>\n",
              "      <td>...</td>\n",
              "      <td>...</td>\n",
              "      <td>...</td>\n",
              "      <td>...</td>\n",
              "      <td>...</td>\n",
              "      <td>...</td>\n",
              "      <td>...</td>\n",
              "      <td>...</td>\n",
              "      <td>...</td>\n",
              "    </tr>\n",
              "    <tr>\n",
              "      <th>39971</th>\n",
              "      <td>0</td>\n",
              "      <td>0</td>\n",
              "      <td>1157.175</td>\n",
              "      <td>0.291214</td>\n",
              "      <td>0.530</td>\n",
              "      <td>0</td>\n",
              "      <td>0</td>\n",
              "      <td>0</td>\n",
              "      <td>1</td>\n",
              "      <td>0</td>\n",
              "      <td>0</td>\n",
              "      <td>0</td>\n",
              "      <td>0</td>\n",
              "    </tr>\n",
              "    <tr>\n",
              "      <th>39972</th>\n",
              "      <td>0</td>\n",
              "      <td>0</td>\n",
              "      <td>1157.175</td>\n",
              "      <td>0.291214</td>\n",
              "      <td>0.530</td>\n",
              "      <td>0</td>\n",
              "      <td>0</td>\n",
              "      <td>0</td>\n",
              "      <td>0</td>\n",
              "      <td>1</td>\n",
              "      <td>0</td>\n",
              "      <td>0</td>\n",
              "      <td>0</td>\n",
              "    </tr>\n",
              "    <tr>\n",
              "      <th>39973</th>\n",
              "      <td>0</td>\n",
              "      <td>0</td>\n",
              "      <td>1157.175</td>\n",
              "      <td>0.291214</td>\n",
              "      <td>0.530</td>\n",
              "      <td>0</td>\n",
              "      <td>0</td>\n",
              "      <td>0</td>\n",
              "      <td>0</td>\n",
              "      <td>0</td>\n",
              "      <td>1</td>\n",
              "      <td>0</td>\n",
              "      <td>0</td>\n",
              "    </tr>\n",
              "    <tr>\n",
              "      <th>39974</th>\n",
              "      <td>0</td>\n",
              "      <td>0</td>\n",
              "      <td>1157.175</td>\n",
              "      <td>0.291214</td>\n",
              "      <td>0.530</td>\n",
              "      <td>0</td>\n",
              "      <td>0</td>\n",
              "      <td>0</td>\n",
              "      <td>0</td>\n",
              "      <td>0</td>\n",
              "      <td>0</td>\n",
              "      <td>1</td>\n",
              "      <td>0</td>\n",
              "    </tr>\n",
              "    <tr>\n",
              "      <th>39975</th>\n",
              "      <td>0</td>\n",
              "      <td>0</td>\n",
              "      <td>1157.175</td>\n",
              "      <td>0.291214</td>\n",
              "      <td>0.530</td>\n",
              "      <td>0</td>\n",
              "      <td>0</td>\n",
              "      <td>0</td>\n",
              "      <td>0</td>\n",
              "      <td>0</td>\n",
              "      <td>0</td>\n",
              "      <td>0</td>\n",
              "      <td>1</td>\n",
              "    </tr>\n",
              "  </tbody>\n",
              "</table>\n",
              "<p>39976 rows × 13 columns</p>\n",
              "</div>\n",
              "      <button class=\"colab-df-convert\" onclick=\"convertToInteractive('df-f6e0657e-16ec-41c2-a01e-1180a678d201')\"\n",
              "              title=\"Convert this dataframe to an interactive table.\"\n",
              "              style=\"display:none;\">\n",
              "        \n",
              "  <svg xmlns=\"http://www.w3.org/2000/svg\" height=\"24px\"viewBox=\"0 0 24 24\"\n",
              "       width=\"24px\">\n",
              "    <path d=\"M0 0h24v24H0V0z\" fill=\"none\"/>\n",
              "    <path d=\"M18.56 5.44l.94 2.06.94-2.06 2.06-.94-2.06-.94-.94-2.06-.94 2.06-2.06.94zm-11 1L8.5 8.5l.94-2.06 2.06-.94-2.06-.94L8.5 2.5l-.94 2.06-2.06.94zm10 10l.94 2.06.94-2.06 2.06-.94-2.06-.94-.94-2.06-.94 2.06-2.06.94z\"/><path d=\"M17.41 7.96l-1.37-1.37c-.4-.4-.92-.59-1.43-.59-.52 0-1.04.2-1.43.59L10.3 9.45l-7.72 7.72c-.78.78-.78 2.05 0 2.83L4 21.41c.39.39.9.59 1.41.59.51 0 1.02-.2 1.41-.59l7.78-7.78 2.81-2.81c.8-.78.8-2.07 0-2.86zM5.41 20L4 18.59l7.72-7.72 1.47 1.35L5.41 20z\"/>\n",
              "  </svg>\n",
              "      </button>\n",
              "      \n",
              "  <style>\n",
              "    .colab-df-container {\n",
              "      display:flex;\n",
              "      flex-wrap:wrap;\n",
              "      gap: 12px;\n",
              "    }\n",
              "\n",
              "    .colab-df-convert {\n",
              "      background-color: #E8F0FE;\n",
              "      border: none;\n",
              "      border-radius: 50%;\n",
              "      cursor: pointer;\n",
              "      display: none;\n",
              "      fill: #1967D2;\n",
              "      height: 32px;\n",
              "      padding: 0 0 0 0;\n",
              "      width: 32px;\n",
              "    }\n",
              "\n",
              "    .colab-df-convert:hover {\n",
              "      background-color: #E2EBFA;\n",
              "      box-shadow: 0px 1px 2px rgba(60, 64, 67, 0.3), 0px 1px 3px 1px rgba(60, 64, 67, 0.15);\n",
              "      fill: #174EA6;\n",
              "    }\n",
              "\n",
              "    [theme=dark] .colab-df-convert {\n",
              "      background-color: #3B4455;\n",
              "      fill: #D2E3FC;\n",
              "    }\n",
              "\n",
              "    [theme=dark] .colab-df-convert:hover {\n",
              "      background-color: #434B5C;\n",
              "      box-shadow: 0px 1px 3px 1px rgba(0, 0, 0, 0.15);\n",
              "      filter: drop-shadow(0px 1px 2px rgba(0, 0, 0, 0.3));\n",
              "      fill: #FFFFFF;\n",
              "    }\n",
              "  </style>\n",
              "\n",
              "      <script>\n",
              "        const buttonEl =\n",
              "          document.querySelector('#df-f6e0657e-16ec-41c2-a01e-1180a678d201 button.colab-df-convert');\n",
              "        buttonEl.style.display =\n",
              "          google.colab.kernel.accessAllowed ? 'block' : 'none';\n",
              "\n",
              "        async function convertToInteractive(key) {\n",
              "          const element = document.querySelector('#df-f6e0657e-16ec-41c2-a01e-1180a678d201');\n",
              "          const dataTable =\n",
              "            await google.colab.kernel.invokeFunction('convertToInteractive',\n",
              "                                                     [key], {});\n",
              "          if (!dataTable) return;\n",
              "\n",
              "          const docLinkHtml = 'Like what you see? Visit the ' +\n",
              "            '<a target=\"_blank\" href=https://colab.research.google.com/notebooks/data_table.ipynb>data table notebook</a>'\n",
              "            + ' to learn more about interactive tables.';\n",
              "          element.innerHTML = '';\n",
              "          dataTable['output_type'] = 'display_data';\n",
              "          await google.colab.output.renderOutput(dataTable, element);\n",
              "          const docLink = document.createElement('div');\n",
              "          docLink.innerHTML = docLinkHtml;\n",
              "          element.appendChild(docLink);\n",
              "        }\n",
              "      </script>\n",
              "    </div>\n",
              "  </div>\n",
              "  "
            ]
          },
          "metadata": {},
          "execution_count": 22
        }
      ],
      "source": [
        "dataset_model"
      ]
    },
    {
      "cell_type": "code",
      "execution_count": 23,
      "metadata": {
        "id": "bp-Rvks-uX3p"
      },
      "outputs": [],
      "source": [
        "dataset_model.rename(columns={\"passageiro_hora_range\": \"hora_range\", \n",
        "                              \"passageiro_matricula\": \"demanda\",\n",
        "                              \"Domingo\": \"domingo\", \n",
        "                              \"linha_km_programado\": \"linha_km\",\n",
        "                              \"IDH em 2010[8]_x\": \"media_idh\",\n",
        "                              \"IDH em 2010[8]_y\": \"idh_max\"}, inplace=True)"
      ]
    },
    {
      "cell_type": "code",
      "execution_count": 24,
      "metadata": {
        "id": "jJlSjF_WuX3p"
      },
      "outputs": [],
      "source": [
        "dataset_model['demanda'] = dataset_model['demanda'].replace(0, np.nan)"
      ]
    },
    {
      "cell_type": "code",
      "source": [
        "dataset_model.dropna(inplace=True)"
      ],
      "metadata": {
        "id": "roUVQoauzDiV"
      },
      "execution_count": 25,
      "outputs": []
    },
    {
      "cell_type": "markdown",
      "metadata": {
        "id": "_Pp7eEjtuX3p"
      },
      "source": [
        "# Pre Processamento"
      ]
    },
    {
      "cell_type": "code",
      "execution_count": 26,
      "metadata": {
        "id": "dvGzu_KguX3p"
      },
      "outputs": [],
      "source": [
        "X = dataset_model.drop(columns=[\"demanda\"]).values\n",
        "Y = dataset_model[\"demanda\"].values"
      ]
    },
    {
      "cell_type": "code",
      "execution_count": 27,
      "metadata": {
        "id": "fvvpuWPPuX3q"
      },
      "outputs": [],
      "source": [
        "from sklearn.preprocessing import StandardScaler\n",
        "standard = StandardScaler()\n",
        "\n",
        "X = standard.fit_transform(X)"
      ]
    },
    {
      "cell_type": "code",
      "execution_count": 28,
      "metadata": {
        "colab": {
          "base_uri": "https://localhost:8080/"
        },
        "id": "hhq4XFg-uX3q",
        "outputId": "a0d00a82-674e-444a-9c1e-93e36c1953fa"
      },
      "outputs": [
        {
          "output_type": "execute_result",
          "data": {
            "text/plain": [
              "array([[-0.37452726,  0.50449666,  0.78716743, ..., -0.39214153,\n",
              "        -0.39173309, -0.36174662],\n",
              "       [-0.37452726,  0.50449666,  0.78716743, ..., -0.39214153,\n",
              "        -0.39173309, -0.36174662],\n",
              "       [-0.37452726,  0.50449666,  0.78716743, ..., -0.39214153,\n",
              "        -0.39173309, -0.36174662],\n",
              "       ...,\n",
              "       [-0.37452726,  0.49316187, -0.59505574, ...,  2.55009969,\n",
              "        -0.39173309, -0.36174662],\n",
              "       [-0.37452726,  0.49316187, -0.59505574, ..., -0.39214153,\n",
              "         2.55275856, -0.36174662],\n",
              "       [-0.37452726,  0.49316187, -0.59505574, ..., -0.39214153,\n",
              "        -0.39173309,  2.76436587]])"
            ]
          },
          "metadata": {},
          "execution_count": 28
        }
      ],
      "source": [
        "X"
      ]
    },
    {
      "cell_type": "code",
      "execution_count": 29,
      "metadata": {
        "id": "qGtrUL5guX3q"
      },
      "outputs": [],
      "source": [
        "from sklearn.model_selection import train_test_split\n",
        "from sklearn.linear_model import LinearRegression\n",
        "from sklearn.linear_model import Lasso\n",
        "from sklearn.linear_model import RidgeClassifier\n",
        "from sklearn.linear_model import ElasticNet \n",
        "from sklearn.metrics import mean_absolute_error, mean_squared_error, r2_score"
      ]
    },
    {
      "cell_type": "code",
      "execution_count": 30,
      "metadata": {
        "id": "L000h3j5uX3q"
      },
      "outputs": [],
      "source": [
        "X_train, X_test, y_train, y_test = train_test_split(X, Y, train_size=0.75, test_size=0.25, random_state=123)"
      ]
    },
    {
      "cell_type": "code",
      "execution_count": 31,
      "metadata": {
        "id": "0188w4-xuX3q"
      },
      "outputs": [],
      "source": [
        "linear_regression = LinearRegression()\n",
        "linear_regression.fit(X_train, y_train)\n",
        "results = linear_regression.predict(X_test)"
      ]
    },
    {
      "cell_type": "code",
      "execution_count": 32,
      "metadata": {
        "colab": {
          "base_uri": "https://localhost:8080/"
        },
        "id": "tJXVKHD7uX3q",
        "outputId": "d0315a25-0fcc-4916-9f30-c0b60d9d5866"
      },
      "outputs": [
        {
          "output_type": "execute_result",
          "data": {
            "text/plain": [
              "array([ 228.73787275, -196.01212725,  -60.38712725, ...,  -26.13712725,\n",
              "        159.86287275,  384.11287275])"
            ]
          },
          "metadata": {},
          "execution_count": 32
        }
      ],
      "source": [
        "results"
      ]
    },
    {
      "cell_type": "code",
      "execution_count": 33,
      "metadata": {
        "colab": {
          "base_uri": "https://localhost:8080/"
        },
        "id": "-8lh2RB7uX3q",
        "outputId": "b332b201-6016-466a-f961-df63aab55a0f"
      },
      "outputs": [
        {
          "output_type": "execute_result",
          "data": {
            "text/plain": [
              "146.31361827214516"
            ]
          },
          "metadata": {},
          "execution_count": 33
        }
      ],
      "source": [
        "mean_absolute_error(y_test, results)"
      ]
    },
    {
      "cell_type": "code",
      "execution_count": 34,
      "metadata": {
        "colab": {
          "base_uri": "https://localhost:8080/"
        },
        "id": "NbY_lWy8uX3r",
        "outputId": "ec2bf683-7e21-47db-8a82-1a399f5df145"
      },
      "outputs": [
        {
          "output_type": "execute_result",
          "data": {
            "text/plain": [
              "223.63570100465753"
            ]
          },
          "metadata": {},
          "execution_count": 34
        }
      ],
      "source": [
        "np.sqrt(mean_squared_error(y_test, results))"
      ]
    },
    {
      "cell_type": "code",
      "execution_count": 35,
      "metadata": {
        "colab": {
          "base_uri": "https://localhost:8080/"
        },
        "id": "QjBU-MOSuX3r",
        "outputId": "7f4b0bde-3559-49a0-b0f5-4680b1f7b088"
      },
      "outputs": [
        {
          "output_type": "execute_result",
          "data": {
            "text/plain": [
              "0.4906930644693611"
            ]
          },
          "metadata": {},
          "execution_count": 35
        }
      ],
      "source": [
        "r2_score(y_test, results)"
      ]
    },
    {
      "cell_type": "markdown",
      "metadata": {
        "id": "8MjjcgiyuX3r"
      },
      "source": [
        "Lasso"
      ]
    },
    {
      "cell_type": "code",
      "execution_count": 36,
      "metadata": {
        "id": "vgQMJtDpuX3r"
      },
      "outputs": [],
      "source": [
        "lasso = Lasso()\n",
        "lasso.fit(X_train, y_train)\n",
        "results = lasso.predict(X_test)"
      ]
    },
    {
      "cell_type": "code",
      "execution_count": 37,
      "metadata": {
        "colab": {
          "base_uri": "https://localhost:8080/"
        },
        "id": "vK_CYk7NuX3r",
        "outputId": "db8c532a-1857-4be2-8786-884c771bdebb"
      },
      "outputs": [
        {
          "output_type": "execute_result",
          "data": {
            "text/plain": [
              "145.7614595970759"
            ]
          },
          "metadata": {},
          "execution_count": 37
        }
      ],
      "source": [
        "mean_absolute_error(y_test, results)"
      ]
    },
    {
      "cell_type": "code",
      "execution_count": 38,
      "metadata": {
        "colab": {
          "base_uri": "https://localhost:8080/"
        },
        "id": "5tD36P2UuX3s",
        "outputId": "bcd41585-a479-484c-8e2f-5fc99371b71f"
      },
      "outputs": [
        {
          "output_type": "execute_result",
          "data": {
            "text/plain": [
              "223.57570468197812"
            ]
          },
          "metadata": {},
          "execution_count": 38
        }
      ],
      "source": [
        "np.sqrt(mean_squared_error(y_test, results))"
      ]
    },
    {
      "cell_type": "code",
      "execution_count": 39,
      "metadata": {
        "colab": {
          "base_uri": "https://localhost:8080/"
        },
        "id": "bwxjXPMiuX3s",
        "outputId": "14987be1-d484-43a6-d5e6-f4fcc344b027"
      },
      "outputs": [
        {
          "output_type": "execute_result",
          "data": {
            "text/plain": [
              "0.49096629852188767"
            ]
          },
          "metadata": {},
          "execution_count": 39
        }
      ],
      "source": [
        "r2_score(y_test, results)"
      ]
    },
    {
      "cell_type": "markdown",
      "metadata": {
        "id": "6aInUl7iuX3s"
      },
      "source": [
        "Ridge"
      ]
    },
    {
      "cell_type": "code",
      "execution_count": 40,
      "metadata": {
        "id": "ntSRBYGduX3s"
      },
      "outputs": [],
      "source": [
        "ridge_classifier = RidgeClassifier()\n",
        "ridge_classifier.fit(X_train, y_train)\n",
        "results = ridge_classifier.predict(X_test)"
      ]
    },
    {
      "cell_type": "code",
      "execution_count": 41,
      "metadata": {
        "colab": {
          "base_uri": "https://localhost:8080/"
        },
        "id": "zzX1lZH8uX3s",
        "outputId": "fdb55727-7c40-4576-dd78-651e8b3281c9"
      },
      "outputs": [
        {
          "output_type": "execute_result",
          "data": {
            "text/plain": [
              "177.89127645926877"
            ]
          },
          "metadata": {},
          "execution_count": 41
        }
      ],
      "source": [
        "mean_absolute_error(y_test, results)"
      ]
    },
    {
      "cell_type": "code",
      "execution_count": 42,
      "metadata": {
        "colab": {
          "base_uri": "https://localhost:8080/"
        },
        "id": "Vl_DKZIpuX3s",
        "outputId": "f34430e5-8f0c-417b-8155-63b39bf41852"
      },
      "outputs": [
        {
          "output_type": "execute_result",
          "data": {
            "text/plain": [
              "332.8118059864717"
            ]
          },
          "metadata": {},
          "execution_count": 42
        }
      ],
      "source": [
        "np.sqrt(mean_squared_error(y_test, results))"
      ]
    },
    {
      "cell_type": "code",
      "execution_count": 43,
      "metadata": {
        "colab": {
          "base_uri": "https://localhost:8080/"
        },
        "id": "m0Za_sQNuX3s",
        "outputId": "0cbe7c4b-2acb-4b3d-8cdb-1c97af1e1f5b"
      },
      "outputs": [
        {
          "output_type": "execute_result",
          "data": {
            "text/plain": [
              "-0.12796277583758542"
            ]
          },
          "metadata": {},
          "execution_count": 43
        }
      ],
      "source": [
        "r2_score(y_test, results)"
      ]
    },
    {
      "cell_type": "markdown",
      "metadata": {
        "id": "XKBIKrS-uX3s"
      },
      "source": [
        "ElasticNet"
      ]
    },
    {
      "cell_type": "code",
      "execution_count": 44,
      "metadata": {
        "id": "KvTHiEDYuX3t"
      },
      "outputs": [],
      "source": [
        "elastic_net = ElasticNet()\n",
        "elastic_net.fit(X_train, y_train)\n",
        "results = elastic_net.predict(X_test)"
      ]
    },
    {
      "cell_type": "code",
      "execution_count": 45,
      "metadata": {
        "colab": {
          "base_uri": "https://localhost:8080/"
        },
        "id": "TCnzNYyhuX3t",
        "outputId": "8055dbfa-67ce-4669-acb2-1c7c541b1d81"
      },
      "outputs": [
        {
          "output_type": "execute_result",
          "data": {
            "text/plain": [
              "144.03849382971123"
            ]
          },
          "metadata": {},
          "execution_count": 45
        }
      ],
      "source": [
        "mean_absolute_error(y_test, results)"
      ]
    },
    {
      "cell_type": "code",
      "execution_count": 46,
      "metadata": {
        "colab": {
          "base_uri": "https://localhost:8080/"
        },
        "id": "in-F0i0ZuX3t",
        "outputId": "4d865fc3-c69d-4599-d17b-93b693b85e17"
      },
      "outputs": [
        {
          "output_type": "execute_result",
          "data": {
            "text/plain": [
              "233.9209566871839"
            ]
          },
          "metadata": {},
          "execution_count": 46
        }
      ],
      "source": [
        "np.sqrt(mean_squared_error(y_test, results))"
      ]
    },
    {
      "cell_type": "code",
      "execution_count": 47,
      "metadata": {
        "colab": {
          "base_uri": "https://localhost:8080/"
        },
        "id": "Lf3i5uT3uX3t",
        "outputId": "9aafcbc9-4127-480f-c7c6-d13d82bab34e"
      },
      "outputs": [
        {
          "output_type": "execute_result",
          "data": {
            "text/plain": [
              "0.4427685974927017"
            ]
          },
          "metadata": {},
          "execution_count": 47
        }
      ],
      "source": [
        "r2_score(y_test, results)"
      ]
    },
    {
      "cell_type": "markdown",
      "source": [
        "## Redes Neurais"
      ],
      "metadata": {
        "id": "f_f0gRiTv0zY"
      }
    },
    {
      "cell_type": "code",
      "execution_count": 48,
      "metadata": {
        "id": "WrsQ3BZouX3t"
      },
      "outputs": [],
      "source": [
        "from keras.models import Sequential\n",
        "from keras.layers import Dense"
      ]
    },
    {
      "cell_type": "code",
      "source": [
        "X.shape"
      ],
      "metadata": {
        "colab": {
          "base_uri": "https://localhost:8080/"
        },
        "id": "8HXehsTDv4dA",
        "outputId": "d2257d0e-8177-42d2-8b0e-10805aa197d4"
      },
      "execution_count": 49,
      "outputs": [
        {
          "output_type": "execute_result",
          "data": {
            "text/plain": [
              "(12470, 12)"
            ]
          },
          "metadata": {},
          "execution_count": 49
        }
      ]
    },
    {
      "cell_type": "code",
      "execution_count": 50,
      "metadata": {
        "colab": {
          "base_uri": "https://localhost:8080/"
        },
        "id": "_Vvd__3kuX3v",
        "outputId": "675499e1-4077-4375-a89e-e64a526118ad"
      },
      "outputs": [
        {
          "output_type": "stream",
          "name": "stdout",
          "text": [
            "Epoch 1/20\n",
            "4676/4676 [==============================] - 23s 5ms/step - loss: 160.1398 - mean_absolute_error: 160.1398\n",
            "Epoch 2/20\n",
            "4676/4676 [==============================] - 16s 3ms/step - loss: 123.2573 - mean_absolute_error: 123.2573\n",
            "Epoch 3/20\n",
            "4676/4676 [==============================] - 9s 2ms/step - loss: 118.6014 - mean_absolute_error: 118.6014\n",
            "Epoch 4/20\n",
            "4676/4676 [==============================] - 7s 2ms/step - loss: 116.7071 - mean_absolute_error: 116.7071\n",
            "Epoch 5/20\n",
            "4676/4676 [==============================] - 7s 2ms/step - loss: 115.4203 - mean_absolute_error: 115.4203\n",
            "Epoch 6/20\n",
            "4676/4676 [==============================] - 7s 2ms/step - loss: 114.5271 - mean_absolute_error: 114.5271\n",
            "Epoch 7/20\n",
            "4676/4676 [==============================] - 7s 2ms/step - loss: 113.8772 - mean_absolute_error: 113.8772\n",
            "Epoch 8/20\n",
            "4676/4676 [==============================] - 7s 2ms/step - loss: 113.2988 - mean_absolute_error: 113.2988\n",
            "Epoch 9/20\n",
            "4676/4676 [==============================] - 7s 2ms/step - loss: 112.8991 - mean_absolute_error: 112.8991\n",
            "Epoch 10/20\n",
            "4676/4676 [==============================] - 7s 2ms/step - loss: 112.4592 - mean_absolute_error: 112.4592\n",
            "Epoch 11/20\n",
            "4676/4676 [==============================] - 7s 2ms/step - loss: 112.0578 - mean_absolute_error: 112.0578\n",
            "Epoch 12/20\n",
            "4676/4676 [==============================] - 7s 2ms/step - loss: 111.7244 - mean_absolute_error: 111.7244\n",
            "Epoch 13/20\n",
            "4676/4676 [==============================] - 7s 2ms/step - loss: 111.3834 - mean_absolute_error: 111.3834\n",
            "Epoch 14/20\n",
            "4676/4676 [==============================] - 8s 2ms/step - loss: 111.1342 - mean_absolute_error: 111.1342\n",
            "Epoch 15/20\n",
            "4676/4676 [==============================] - 9s 2ms/step - loss: 110.8705 - mean_absolute_error: 110.8705\n",
            "Epoch 16/20\n",
            "4676/4676 [==============================] - 20s 4ms/step - loss: 110.6358 - mean_absolute_error: 110.6358\n",
            "Epoch 17/20\n",
            "4676/4676 [==============================] - 9s 2ms/step - loss: 110.4552 - mean_absolute_error: 110.4552\n",
            "Epoch 18/20\n",
            "4676/4676 [==============================] - 7s 2ms/step - loss: 110.3355 - mean_absolute_error: 110.3355\n",
            "Epoch 19/20\n",
            "4676/4676 [==============================] - 7s 2ms/step - loss: 110.1482 - mean_absolute_error: 110.1482\n",
            "Epoch 20/20\n",
            "4676/4676 [==============================] - 7s 2ms/step - loss: 110.1039 - mean_absolute_error: 110.1039\n"
          ]
        },
        {
          "output_type": "execute_result",
          "data": {
            "text/plain": [
              "<keras.callbacks.History at 0x7f55a079c690>"
            ]
          },
          "metadata": {},
          "execution_count": 50
        }
      ],
      "source": [
        "regressor = Sequential()\n",
        "regressor.add(Dense(units=6, activation= 'relu', input_dim=12))\n",
        "regressor.add(Dense(units=3, activation= 'relu'))\n",
        "regressor.add(Dense(units=1, activation= 'linear'))\n",
        "regressor.compile(optimizer= 'adam', loss= 'mean_absolute_error', metrics= ['mean_absolute_error'])\n",
        "regressor.fit(X_train, y_train, batch_size=2, epochs=20)"
      ]
    },
    {
      "cell_type": "code",
      "source": [
        "results = regressor.predict(X_test)"
      ],
      "metadata": {
        "id": "XwxSs9rMwnMF"
      },
      "execution_count": 51,
      "outputs": []
    },
    {
      "cell_type": "code",
      "source": [
        "mean_absolute_error(y_test, results)"
      ],
      "metadata": {
        "colab": {
          "base_uri": "https://localhost:8080/"
        },
        "id": "T0lRdnJuwsGf",
        "outputId": "e4102fd5-874c-4c35-cb93-cc4581ba7034"
      },
      "execution_count": 52,
      "outputs": [
        {
          "output_type": "execute_result",
          "data": {
            "text/plain": [
              "104.35240284917903"
            ]
          },
          "metadata": {},
          "execution_count": 52
        }
      ]
    },
    {
      "cell_type": "code",
      "source": [
        "np.sqrt(mean_squared_error(y_test, results))"
      ],
      "metadata": {
        "colab": {
          "base_uri": "https://localhost:8080/"
        },
        "id": "TUQtVga8wtWb",
        "outputId": "dc87c36e-3ca0-417e-fc31-b48d6a6d6df7"
      },
      "execution_count": 53,
      "outputs": [
        {
          "output_type": "execute_result",
          "data": {
            "text/plain": [
              "200.84370615084921"
            ]
          },
          "metadata": {},
          "execution_count": 53
        }
      ]
    },
    {
      "cell_type": "code",
      "source": [
        "r2_score(y_test, results)"
      ],
      "metadata": {
        "colab": {
          "base_uri": "https://localhost:8080/"
        },
        "id": "9Z48ENT8wupM",
        "outputId": "87139daf-3371-4fce-9927-7e19925b4417"
      },
      "execution_count": 54,
      "outputs": [
        {
          "output_type": "execute_result",
          "data": {
            "text/plain": [
              "0.5892157597376866"
            ]
          },
          "metadata": {},
          "execution_count": 54
        }
      ]
    }
  ],
  "metadata": {
    "interpreter": {
      "hash": "5eba2f6daac758e0c4eb74cbbf3fd787eaf14bd08a71327f2f2275e3d00aa03b"
    },
    "kernelspec": {
      "display_name": "Python 3.8.8 ('base')",
      "language": "python",
      "name": "python3"
    },
    "language_info": {
      "codemirror_mode": {
        "name": "ipython",
        "version": 3
      },
      "file_extension": ".py",
      "mimetype": "text/x-python",
      "name": "python",
      "nbconvert_exporter": "python",
      "pygments_lexer": "ipython3",
      "version": "3.8.8"
    },
    "orig_nbformat": 4,
    "colab": {
      "name": "modelagem.ipynb",
      "provenance": [],
      "collapsed_sections": []
    }
  },
  "nbformat": 4,
  "nbformat_minor": 0
}