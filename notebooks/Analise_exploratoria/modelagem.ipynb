{
  "cells": [
    {
      "cell_type": "code",
      "execution_count": 445,
      "metadata": {
        "id": "Lm9ErKlkuX3c"
      },
      "outputs": [],
      "source": [
        "import pandas as pd\n",
        "import numpy as np\n",
        "\n",
        "# Modelagem\n",
        "from sklearn.model_selection import train_test_split\n",
        "from sklearn.linear_model import LinearRegression\n",
        "from sklearn.linear_model import Lasso\n",
        "from sklearn.linear_model import RidgeClassifier\n",
        "from sklearn.linear_model import ElasticNet \n",
        "from sklearn.metrics import mean_absolute_error, mean_squared_error, r2_score"
      ]
    },
    {
      "cell_type": "markdown",
      "metadata": {},
      "source": [
        "Carregamento dos Dados"
      ]
    },
    {
      "cell_type": "code",
      "execution_count": 446,
      "metadata": {},
      "outputs": [],
      "source": [
        "path = \"../../data/processed/\"\n",
        "v = pd.read_csv(path + \"V.csv\")\n",
        "fgr = pd.read_csv(path + \"FGR.csv\", decimal=\",\")\n",
        "paradas = pd.read_csv(path + \"paradas.csv\")\n",
        "rota_paradas = pd.read_csv(path + \"rota_paradas.csv\")\n",
        "rotas = pd.read_csv(path + \"rotas.csv\")\n",
        "dados_bairros = pd.read_csv(path + \"dados_bairros.csv\")"
      ]
    },
    {
      "cell_type": "markdown",
      "metadata": {},
      "source": [
        "# Feature Enginerring"
      ]
    },
    {
      "cell_type": "markdown",
      "metadata": {
        "id": "VGJyVdL2uX3g"
      },
      "source": [
        "Construção de variáveis\n",
        "- Demanda\n",
        "- Tamanho da linha\n",
        "- Horario\n",
        "- IDH dos bairros\n",
        "- É domingo?"
      ]
    },
    {
      "cell_type": "code",
      "execution_count": 447,
      "metadata": {
        "id": "L2pkrwmGuX3h"
      },
      "outputs": [],
      "source": [
        "demanda_p_linha_dia = v.groupby([\"linha_numero\", \"movimento_diario_data_mov\"]).count()[\"passageiro_matricula\"].to_frame().reset_index()\n",
        "demanda_p_linha_dia.rename(columns={\"passageiro_matricula\": \"demanda_do_dia\"}, inplace = True)"
      ]
    },
    {
      "cell_type": "code",
      "execution_count": 448,
      "metadata": {
        "colab": {
          "base_uri": "https://localhost:8080/",
          "height": 424
        },
        "id": "Ln8Bg_-QuX3i",
        "outputId": "324e996a-2abc-4f62-98aa-98f2da7eed12"
      },
      "outputs": [
        {
          "data": {
            "text/html": [
              "<div>\n",
              "<style scoped>\n",
              "    .dataframe tbody tr th:only-of-type {\n",
              "        vertical-align: middle;\n",
              "    }\n",
              "\n",
              "    .dataframe tbody tr th {\n",
              "        vertical-align: top;\n",
              "    }\n",
              "\n",
              "    .dataframe thead th {\n",
              "        text-align: right;\n",
              "    }\n",
              "</style>\n",
              "<table border=\"1\" class=\"dataframe\">\n",
              "  <thead>\n",
              "    <tr style=\"text-align: right;\">\n",
              "      <th></th>\n",
              "      <th>linha_numero</th>\n",
              "      <th>movimento_diario_data_mov</th>\n",
              "      <th>demanda_do_dia</th>\n",
              "    </tr>\n",
              "  </thead>\n",
              "  <tbody>\n",
              "    <tr>\n",
              "      <th>0</th>\n",
              "      <td>1</td>\n",
              "      <td>2021-08-29</td>\n",
              "      <td>232</td>\n",
              "    </tr>\n",
              "    <tr>\n",
              "      <th>1</th>\n",
              "      <td>1</td>\n",
              "      <td>2021-08-31</td>\n",
              "      <td>9096</td>\n",
              "    </tr>\n",
              "    <tr>\n",
              "      <th>2</th>\n",
              "      <td>1</td>\n",
              "      <td>2021-09-01</td>\n",
              "      <td>8888</td>\n",
              "    </tr>\n",
              "    <tr>\n",
              "      <th>3</th>\n",
              "      <td>1</td>\n",
              "      <td>2021-09-02</td>\n",
              "      <td>8244</td>\n",
              "    </tr>\n",
              "    <tr>\n",
              "      <th>4</th>\n",
              "      <td>1</td>\n",
              "      <td>2021-09-03</td>\n",
              "      <td>9020</td>\n",
              "    </tr>\n",
              "    <tr>\n",
              "      <th>...</th>\n",
              "      <td>...</td>\n",
              "      <td>...</td>\n",
              "      <td>...</td>\n",
              "    </tr>\n",
              "    <tr>\n",
              "      <th>2078</th>\n",
              "      <td>942</td>\n",
              "      <td>2021-09-05</td>\n",
              "      <td>2</td>\n",
              "    </tr>\n",
              "    <tr>\n",
              "      <th>2079</th>\n",
              "      <td>991</td>\n",
              "      <td>2021-08-31</td>\n",
              "      <td>76</td>\n",
              "    </tr>\n",
              "    <tr>\n",
              "      <th>2080</th>\n",
              "      <td>991</td>\n",
              "      <td>2021-09-01</td>\n",
              "      <td>55</td>\n",
              "    </tr>\n",
              "    <tr>\n",
              "      <th>2081</th>\n",
              "      <td>991</td>\n",
              "      <td>2021-09-02</td>\n",
              "      <td>55</td>\n",
              "    </tr>\n",
              "    <tr>\n",
              "      <th>2082</th>\n",
              "      <td>999</td>\n",
              "      <td>2021-09-05</td>\n",
              "      <td>350</td>\n",
              "    </tr>\n",
              "  </tbody>\n",
              "</table>\n",
              "<p>2083 rows × 3 columns</p>\n",
              "</div>"
            ],
            "text/plain": [
              "      linha_numero movimento_diario_data_mov  demanda_do_dia\n",
              "0                1                2021-08-29             232\n",
              "1                1                2021-08-31            9096\n",
              "2                1                2021-09-01            8888\n",
              "3                1                2021-09-02            8244\n",
              "4                1                2021-09-03            9020\n",
              "...            ...                       ...             ...\n",
              "2078           942                2021-09-05               2\n",
              "2079           991                2021-08-31              76\n",
              "2080           991                2021-09-01              55\n",
              "2081           991                2021-09-02              55\n",
              "2082           999                2021-09-05             350\n",
              "\n",
              "[2083 rows x 3 columns]"
            ]
          },
          "execution_count": 448,
          "metadata": {},
          "output_type": "execute_result"
        }
      ],
      "source": [
        "demanda_p_linha_dia"
      ]
    },
    {
      "cell_type": "code",
      "execution_count": 449,
      "metadata": {
        "id": "FY-N2BKjuX3i"
      },
      "outputs": [],
      "source": [
        "# Demanda por intervalo de tempo\n",
        "v[\"passageiro_data_hora\"] = pd.to_datetime(v[\"passageiro_data_hora\"])\n",
        "v[\"passageiro_hora_entrada\"] = v[\"passageiro_data_hora\"].dt.hour\n",
        "# v[\"passageiro_hora_range\"] = pd.cut(v[\"passageiro_hora_entrada\"], bins=[-1, 4, 6, 9, 12, 15, 18, 21, float('Inf')], labels=['00-3h59', '4-5h59', '6-8h59', '9-11h59', '12-14h59', '15-17h59', '18-20h59', '21-23h59'])\n",
        "v_hora_range = v.groupby([\"linha_numero\", \"movimento_diario_data_mov\", \"passageiro_hora_entrada\"]).count()[\"passageiro_matricula\"].to_frame().reset_index()\n",
        "v_hora_range.dropna(inplace=True)"
      ]
    },
    {
      "cell_type": "code",
      "execution_count": 450,
      "metadata": {
        "colab": {
          "base_uri": "https://localhost:8080/",
          "height": 424
        },
        "id": "6Gx4dGKsuX3j",
        "outputId": "cb247567-2763-4459-d818-b719caf42ec3"
      },
      "outputs": [
        {
          "data": {
            "text/html": [
              "<div>\n",
              "<style scoped>\n",
              "    .dataframe tbody tr th:only-of-type {\n",
              "        vertical-align: middle;\n",
              "    }\n",
              "\n",
              "    .dataframe tbody tr th {\n",
              "        vertical-align: top;\n",
              "    }\n",
              "\n",
              "    .dataframe thead th {\n",
              "        text-align: right;\n",
              "    }\n",
              "</style>\n",
              "<table border=\"1\" class=\"dataframe\">\n",
              "  <thead>\n",
              "    <tr style=\"text-align: right;\">\n",
              "      <th></th>\n",
              "      <th>linha_numero</th>\n",
              "      <th>movimento_diario_data_mov</th>\n",
              "      <th>passageiro_hora_entrada</th>\n",
              "      <th>passageiro_matricula</th>\n",
              "    </tr>\n",
              "  </thead>\n",
              "  <tbody>\n",
              "    <tr>\n",
              "      <th>0</th>\n",
              "      <td>1</td>\n",
              "      <td>2021-08-29</td>\n",
              "      <td>6</td>\n",
              "      <td>4</td>\n",
              "    </tr>\n",
              "    <tr>\n",
              "      <th>1</th>\n",
              "      <td>1</td>\n",
              "      <td>2021-08-29</td>\n",
              "      <td>7</td>\n",
              "      <td>40</td>\n",
              "    </tr>\n",
              "    <tr>\n",
              "      <th>2</th>\n",
              "      <td>1</td>\n",
              "      <td>2021-08-29</td>\n",
              "      <td>8</td>\n",
              "      <td>31</td>\n",
              "    </tr>\n",
              "    <tr>\n",
              "      <th>3</th>\n",
              "      <td>1</td>\n",
              "      <td>2021-08-29</td>\n",
              "      <td>9</td>\n",
              "      <td>3</td>\n",
              "    </tr>\n",
              "    <tr>\n",
              "      <th>4</th>\n",
              "      <td>1</td>\n",
              "      <td>2021-08-29</td>\n",
              "      <td>10</td>\n",
              "      <td>24</td>\n",
              "    </tr>\n",
              "    <tr>\n",
              "      <th>...</th>\n",
              "      <td>...</td>\n",
              "      <td>...</td>\n",
              "      <td>...</td>\n",
              "      <td>...</td>\n",
              "    </tr>\n",
              "    <tr>\n",
              "      <th>37064</th>\n",
              "      <td>999</td>\n",
              "      <td>2021-09-05</td>\n",
              "      <td>14</td>\n",
              "      <td>48</td>\n",
              "    </tr>\n",
              "    <tr>\n",
              "      <th>37065</th>\n",
              "      <td>999</td>\n",
              "      <td>2021-09-05</td>\n",
              "      <td>15</td>\n",
              "      <td>22</td>\n",
              "    </tr>\n",
              "    <tr>\n",
              "      <th>37066</th>\n",
              "      <td>999</td>\n",
              "      <td>2021-09-05</td>\n",
              "      <td>16</td>\n",
              "      <td>59</td>\n",
              "    </tr>\n",
              "    <tr>\n",
              "      <th>37067</th>\n",
              "      <td>999</td>\n",
              "      <td>2021-09-05</td>\n",
              "      <td>17</td>\n",
              "      <td>102</td>\n",
              "    </tr>\n",
              "    <tr>\n",
              "      <th>37068</th>\n",
              "      <td>999</td>\n",
              "      <td>2021-09-05</td>\n",
              "      <td>18</td>\n",
              "      <td>107</td>\n",
              "    </tr>\n",
              "  </tbody>\n",
              "</table>\n",
              "<p>37069 rows × 4 columns</p>\n",
              "</div>"
            ],
            "text/plain": [
              "       linha_numero movimento_diario_data_mov  passageiro_hora_entrada  \\\n",
              "0                 1                2021-08-29                        6   \n",
              "1                 1                2021-08-29                        7   \n",
              "2                 1                2021-08-29                        8   \n",
              "3                 1                2021-08-29                        9   \n",
              "4                 1                2021-08-29                       10   \n",
              "...             ...                       ...                      ...   \n",
              "37064           999                2021-09-05                       14   \n",
              "37065           999                2021-09-05                       15   \n",
              "37066           999                2021-09-05                       16   \n",
              "37067           999                2021-09-05                       17   \n",
              "37068           999                2021-09-05                       18   \n",
              "\n",
              "       passageiro_matricula  \n",
              "0                         4  \n",
              "1                        40  \n",
              "2                        31  \n",
              "3                         3  \n",
              "4                        24  \n",
              "...                     ...  \n",
              "37064                    48  \n",
              "37065                    22  \n",
              "37066                    59  \n",
              "37067                   102  \n",
              "37068                   107  \n",
              "\n",
              "[37069 rows x 4 columns]"
            ]
          },
          "execution_count": 450,
          "metadata": {},
          "output_type": "execute_result"
        }
      ],
      "source": [
        "v_hora_range"
      ]
    },
    {
      "cell_type": "code",
      "execution_count": 451,
      "metadata": {
        "id": "THAG0VyTuX3k"
      },
      "outputs": [],
      "source": [
        "# Dias da semana\n",
        "days_week ={\n",
        "    0: 'Segunda', \n",
        "    1: 'Terça', \n",
        "    2: 'Quarta', \n",
        "    3: 'Quinta', \n",
        "    4: 'Sexta',\n",
        "    5: 'Sábado', \n",
        "    6: 'Domingo'\n",
        "}\n",
        "\n",
        "v_hora_range[\"movimento_diario_data_mov\"] = pd.to_datetime(v_hora_range[\"movimento_diario_data_mov\"])\n",
        "\n",
        "def eh_domingo(dia_semana):\n",
        "    if dia_semana == \"Domingo\":\n",
        "        return 1\n",
        "    else:\n",
        "        return 0\n",
        "\n",
        "v_hora_range[\"Dia_Semana\"] = v_hora_range.movimento_diario_data_mov.dt.weekday\n",
        "v_hora_range[\"Dia_Semana\"] = v_hora_range.Dia_Semana.map(days_week)\n",
        "v_hora_range[\"Domingo\"] = v_hora_range[\"Dia_Semana\"].map(eh_domingo)"
      ]
    },
    {
      "cell_type": "markdown",
      "metadata": {},
      "source": [
        " Variável de km da rota"
      ]
    },
    {
      "cell_type": "code",
      "execution_count": 452,
      "metadata": {
        "id": "XfHv8UQJuX3l"
      },
      "outputs": [],
      "source": [
        "\n",
        "linha_p_km_programado = fgr[[\"fechamento_data\", \"linha_numero\", \"linha_km_programado\"]].drop_duplicates()\n",
        "linha_p_km_programado = linha_p_km_programado[linha_p_km_programado.linha_km_programado != 0]\n",
        "linha_demanda_km = demanda_p_linha_dia.merge(linha_p_km_programado, how=\"inner\", left_on=[\"linha_numero\", \"movimento_diario_data_mov\"], right_on=[\"linha_numero\",\"fechamento_data\"])\n",
        "linha_demanda_km.drop(columns=[\"fechamento_data\"], inplace=True)\n",
        "linha_demanda_km = linha_demanda_km.groupby([\"linha_numero\"]).mean()[[\"linha_km_programado\"]].reset_index()\n",
        "dataset_model = v_hora_range.merge(linha_demanda_km, how=\"inner\", on=\"linha_numero\")"
      ]
    },
    {
      "cell_type": "markdown",
      "metadata": {},
      "source": [
        "Maior IDH de bairro em que a rota passa"
      ]
    },
    {
      "cell_type": "code",
      "execution_count": 453,
      "metadata": {
        "id": "PF3IwqmtuX3m"
      },
      "outputs": [],
      "source": [
        "rota_paradas_merged = rota_paradas.merge(paradas, how=\"inner\", on=\"stop_id\")\n",
        "rota_paradas_merged = rota_paradas_merged.merge(rotas, how=\"inner\", on=\"route_id\")\n",
        "rotas_paradas_clean = rota_paradas_merged[[\"route_id\", \"stop_sequence\", \"district\", \"city\"]]\n",
        "rotas_paradas_demanda = rotas_paradas_clean.merge(demanda_p_linha_dia, how=\"inner\", left_on=\"route_id\", right_on=\"linha_numero\")\n",
        "rotas_paradas_demanda.drop(columns=[\"route_id\", \"stop_sequence\"], inplace=True)\n",
        "rotas_paradas_demanda = rotas_paradas_demanda[rotas_paradas_demanda[\"city\"] == \"Fortaleza\"]"
      ]
    },
    {
      "cell_type": "code",
      "execution_count": 454,
      "metadata": {
        "colab": {
          "base_uri": "https://localhost:8080/"
        },
        "id": "xgJfD2J5vrNr",
        "outputId": "e2d5d937-321e-4884-b039-b6f5a1f6cf19"
      },
      "outputs": [
        {
          "name": "stdout",
          "output_type": "stream",
          "text": [
            "Requirement already satisfied: unidecode in c:\\users\\usuario\\anaconda3\\lib\\site-packages (1.3.4)\n"
          ]
        }
      ],
      "source": [
        "!pip install unidecode"
      ]
    },
    {
      "cell_type": "code",
      "execution_count": 455,
      "metadata": {
        "id": "ZuuGUoXwuX3m"
      },
      "outputs": [],
      "source": [
        "# Retira acentos e barras (/ + termo) dos nomes dos bairros\n",
        "from unidecode import unidecode\n",
        "\n",
        "district = []\n",
        "for index, row in rotas_paradas_demanda.iterrows():\n",
        "  district_without_punt = unidecode(row[\"district\"])\n",
        "  district_without_barra = district_without_punt.split(\"/\")[0]\n",
        "  if district_without_barra.startswith(\"Parque \"):\n",
        "    district_without_barra = district_without_barra.replace(\"Parque \", \"\")\n",
        "  if district_without_barra.startswith(\"Vila \"):\n",
        "    district_without_barra = district_without_barra.replace(\"Vila \", \"\")\n",
        "  if district_without_barra.startswith(\"Prefeito \"):\n",
        "    district_without_barra = district_without_barra.replace(\"Prefeito \", \"\")\n",
        "  district.append(district_without_barra.strip())\n",
        "rotas_paradas_demanda[\"Bairro\"] = district\n",
        "\n",
        "district = []\n",
        "for index, row in dados_bairros.iterrows():\n",
        "  district_without_punt = unidecode(row[\"Bairros\"])\n",
        "  district_without_barra = district_without_punt.split(\"/\")[0]\n",
        "  if district_without_barra.startswith(\"Parque \"):\n",
        "    district_without_barra = district_without_barra.replace(\"Parque \", \"\")\n",
        "  if district_without_barra.startswith(\"Vila \"):\n",
        "    district_without_barra = district_without_barra.replace(\"Vila \", \"\")\n",
        "  if district_without_barra.startswith(\"Prefeito \"):\n",
        "    district_without_barra = district_without_barra.replace(\"Prefeito \", \"\")\n",
        "  district.append(district_without_barra.strip())\n",
        "dados_bairros[\"Bairro\"] = district"
      ]
    },
    {
      "cell_type": "code",
      "execution_count": 456,
      "metadata": {
        "id": "xDap89ELuX3n"
      },
      "outputs": [],
      "source": [
        "rotas_paradas_demanda[\"Bairro\"] = rotas_paradas_demanda[\"Bairro\"].str.lower()\n",
        "rotas_paradas_demanda[\"Bairro\"] = rotas_paradas_demanda[\"Bairro\"].str.replace(\"ç\", \"c\")\n",
        "dados_bairros[\"Bairro\"] = dados_bairros[\"Bairro\"].str.lower()\n",
        "rotas_demanda_bairro = rotas_paradas_demanda.merge(dados_bairros, how=\"inner\", left_on=\"Bairro\", right_on=\"Bairro\")\n",
        "rotas_idh_max = rotas_demanda_bairro.groupby([\"linha_numero\"]).mean()[[\"IDH em 2010[8]\"]].reset_index()\n",
        "dataset_model = dataset_model.merge(rotas_idh_max, how=\"inner\", on=\"linha_numero\")"
      ]
    },
    {
      "cell_type": "markdown",
      "metadata": {
        "id": "E0M4_y-6uX3o"
      },
      "source": [
        "Convertendo Hora Range e Linha Numero para Variavel Numérica"
      ]
    },
    {
      "cell_type": "code",
      "execution_count": 457,
      "metadata": {
        "id": "4RQ5Lk_0uX3o"
      },
      "outputs": [],
      "source": [
        "dataset_model = pd.concat([dataset_model, pd.get_dummies(dataset_model[\"passageiro_hora_entrada\"])], axis = 1)\n",
        "dataset_model = pd.concat([dataset_model, pd.get_dummies(dataset_model[\"linha_numero\"])], axis = 1)"
      ]
    },
    {
      "cell_type": "markdown",
      "metadata": {},
      "source": [
        "Limpeza de colunas"
      ]
    },
    {
      "cell_type": "code",
      "execution_count": 458,
      "metadata": {
        "id": "_R1OhIzCuX3o"
      },
      "outputs": [],
      "source": [
        "dataset_model.drop(columns=[\"Dia_Semana\", \"movimento_diario_data_mov\", \"linha_numero\", \"passageiro_hora_entrada\"], inplace=True)"
      ]
    },
    {
      "cell_type": "markdown",
      "metadata": {},
      "source": [
        "Renomeando colunas para facilitar tratativa"
      ]
    },
    {
      "cell_type": "code",
      "execution_count": 459,
      "metadata": {
        "id": "bp-Rvks-uX3p"
      },
      "outputs": [],
      "source": [
        "dataset_model.rename(columns={\"passageiro_hora_range\": \"hora_range\", \n",
        "                              \"passageiro_matricula\": \"demanda\",\n",
        "                              \"linha_km_programado\": \"linha_km\",\n",
        "                              \"IDH em 2010[8]\": \"idh_max\"}, inplace=True)"
      ]
    },
    {
      "cell_type": "markdown",
      "metadata": {},
      "source": [
        "Removendo valores nulos"
      ]
    },
    {
      "cell_type": "code",
      "execution_count": 460,
      "metadata": {
        "id": "jJlSjF_WuX3p"
      },
      "outputs": [],
      "source": [
        "dataset_model['demanda'] = dataset_model['demanda'].replace(0, np.nan)\n",
        "dataset_model.dropna(inplace=True)"
      ]
    },
    {
      "cell_type": "code",
      "execution_count": 461,
      "metadata": {},
      "outputs": [
        {
          "data": {
            "text/html": [
              "<div>\n",
              "<style scoped>\n",
              "    .dataframe tbody tr th:only-of-type {\n",
              "        vertical-align: middle;\n",
              "    }\n",
              "\n",
              "    .dataframe tbody tr th {\n",
              "        vertical-align: top;\n",
              "    }\n",
              "\n",
              "    .dataframe thead th {\n",
              "        text-align: right;\n",
              "    }\n",
              "</style>\n",
              "<table border=\"1\" class=\"dataframe\">\n",
              "  <thead>\n",
              "    <tr style=\"text-align: right;\">\n",
              "      <th></th>\n",
              "      <th>demanda</th>\n",
              "      <th>Domingo</th>\n",
              "      <th>linha_km</th>\n",
              "      <th>idh_max</th>\n",
              "      <th>0</th>\n",
              "      <th>1</th>\n",
              "      <th>2</th>\n",
              "      <th>3</th>\n",
              "      <th>4</th>\n",
              "      <th>5</th>\n",
              "      <th>...</th>\n",
              "      <th>833</th>\n",
              "      <th>835</th>\n",
              "      <th>836</th>\n",
              "      <th>841</th>\n",
              "      <th>855</th>\n",
              "      <th>901</th>\n",
              "      <th>906</th>\n",
              "      <th>907</th>\n",
              "      <th>913</th>\n",
              "      <th>920</th>\n",
              "    </tr>\n",
              "  </thead>\n",
              "  <tbody>\n",
              "    <tr>\n",
              "      <th>count</th>\n",
              "      <td>31842.000000</td>\n",
              "      <td>31842.000000</td>\n",
              "      <td>31842.000000</td>\n",
              "      <td>31842.000000</td>\n",
              "      <td>31842.000000</td>\n",
              "      <td>31842.000000</td>\n",
              "      <td>31842.000000</td>\n",
              "      <td>31842.000000</td>\n",
              "      <td>31842.000000</td>\n",
              "      <td>31842.000000</td>\n",
              "      <td>...</td>\n",
              "      <td>31842.000000</td>\n",
              "      <td>31842.000000</td>\n",
              "      <td>31842.000000</td>\n",
              "      <td>31842.000000</td>\n",
              "      <td>31842.000000</td>\n",
              "      <td>31842.000000</td>\n",
              "      <td>31842.000000</td>\n",
              "      <td>31842.000000</td>\n",
              "      <td>31842.000000</td>\n",
              "      <td>31842.000000</td>\n",
              "    </tr>\n",
              "    <tr>\n",
              "      <th>mean</th>\n",
              "      <td>91.838547</td>\n",
              "      <td>0.123893</td>\n",
              "      <td>812.732180</td>\n",
              "      <td>0.366907</td>\n",
              "      <td>0.013379</td>\n",
              "      <td>0.001821</td>\n",
              "      <td>0.001696</td>\n",
              "      <td>0.002355</td>\n",
              "      <td>0.032002</td>\n",
              "      <td>0.050845</td>\n",
              "      <td>...</td>\n",
              "      <td>0.002198</td>\n",
              "      <td>0.002198</td>\n",
              "      <td>0.003769</td>\n",
              "      <td>0.004271</td>\n",
              "      <td>0.004460</td>\n",
              "      <td>0.004302</td>\n",
              "      <td>0.004397</td>\n",
              "      <td>0.004177</td>\n",
              "      <td>0.004334</td>\n",
              "      <td>0.004554</td>\n",
              "    </tr>\n",
              "    <tr>\n",
              "      <th>std</th>\n",
              "      <td>122.493081</td>\n",
              "      <td>0.329465</td>\n",
              "      <td>699.700124</td>\n",
              "      <td>0.126333</td>\n",
              "      <td>0.114891</td>\n",
              "      <td>0.042641</td>\n",
              "      <td>0.041147</td>\n",
              "      <td>0.048476</td>\n",
              "      <td>0.176007</td>\n",
              "      <td>0.219684</td>\n",
              "      <td>...</td>\n",
              "      <td>0.046836</td>\n",
              "      <td>0.046836</td>\n",
              "      <td>0.061274</td>\n",
              "      <td>0.065215</td>\n",
              "      <td>0.066632</td>\n",
              "      <td>0.065453</td>\n",
              "      <td>0.066163</td>\n",
              "      <td>0.064495</td>\n",
              "      <td>0.065691</td>\n",
              "      <td>0.067329</td>\n",
              "    </tr>\n",
              "    <tr>\n",
              "      <th>min</th>\n",
              "      <td>1.000000</td>\n",
              "      <td>0.000000</td>\n",
              "      <td>62.360000</td>\n",
              "      <td>0.068821</td>\n",
              "      <td>0.000000</td>\n",
              "      <td>0.000000</td>\n",
              "      <td>0.000000</td>\n",
              "      <td>0.000000</td>\n",
              "      <td>0.000000</td>\n",
              "      <td>0.000000</td>\n",
              "      <td>...</td>\n",
              "      <td>0.000000</td>\n",
              "      <td>0.000000</td>\n",
              "      <td>0.000000</td>\n",
              "      <td>0.000000</td>\n",
              "      <td>0.000000</td>\n",
              "      <td>0.000000</td>\n",
              "      <td>0.000000</td>\n",
              "      <td>0.000000</td>\n",
              "      <td>0.000000</td>\n",
              "      <td>0.000000</td>\n",
              "    </tr>\n",
              "    <tr>\n",
              "      <th>25%</th>\n",
              "      <td>18.000000</td>\n",
              "      <td>0.000000</td>\n",
              "      <td>437.430000</td>\n",
              "      <td>0.277941</td>\n",
              "      <td>0.000000</td>\n",
              "      <td>0.000000</td>\n",
              "      <td>0.000000</td>\n",
              "      <td>0.000000</td>\n",
              "      <td>0.000000</td>\n",
              "      <td>0.000000</td>\n",
              "      <td>...</td>\n",
              "      <td>0.000000</td>\n",
              "      <td>0.000000</td>\n",
              "      <td>0.000000</td>\n",
              "      <td>0.000000</td>\n",
              "      <td>0.000000</td>\n",
              "      <td>0.000000</td>\n",
              "      <td>0.000000</td>\n",
              "      <td>0.000000</td>\n",
              "      <td>0.000000</td>\n",
              "      <td>0.000000</td>\n",
              "    </tr>\n",
              "    <tr>\n",
              "      <th>50%</th>\n",
              "      <td>49.000000</td>\n",
              "      <td>0.000000</td>\n",
              "      <td>603.017778</td>\n",
              "      <td>0.347174</td>\n",
              "      <td>0.000000</td>\n",
              "      <td>0.000000</td>\n",
              "      <td>0.000000</td>\n",
              "      <td>0.000000</td>\n",
              "      <td>0.000000</td>\n",
              "      <td>0.000000</td>\n",
              "      <td>...</td>\n",
              "      <td>0.000000</td>\n",
              "      <td>0.000000</td>\n",
              "      <td>0.000000</td>\n",
              "      <td>0.000000</td>\n",
              "      <td>0.000000</td>\n",
              "      <td>0.000000</td>\n",
              "      <td>0.000000</td>\n",
              "      <td>0.000000</td>\n",
              "      <td>0.000000</td>\n",
              "      <td>0.000000</td>\n",
              "    </tr>\n",
              "    <tr>\n",
              "      <th>75%</th>\n",
              "      <td>110.000000</td>\n",
              "      <td>0.000000</td>\n",
              "      <td>898.020000</td>\n",
              "      <td>0.453955</td>\n",
              "      <td>0.000000</td>\n",
              "      <td>0.000000</td>\n",
              "      <td>0.000000</td>\n",
              "      <td>0.000000</td>\n",
              "      <td>0.000000</td>\n",
              "      <td>0.000000</td>\n",
              "      <td>...</td>\n",
              "      <td>0.000000</td>\n",
              "      <td>0.000000</td>\n",
              "      <td>0.000000</td>\n",
              "      <td>0.000000</td>\n",
              "      <td>0.000000</td>\n",
              "      <td>0.000000</td>\n",
              "      <td>0.000000</td>\n",
              "      <td>0.000000</td>\n",
              "      <td>0.000000</td>\n",
              "      <td>0.000000</td>\n",
              "    </tr>\n",
              "    <tr>\n",
              "      <th>max</th>\n",
              "      <td>1182.000000</td>\n",
              "      <td>1.000000</td>\n",
              "      <td>5895.520000</td>\n",
              "      <td>0.717800</td>\n",
              "      <td>1.000000</td>\n",
              "      <td>1.000000</td>\n",
              "      <td>1.000000</td>\n",
              "      <td>1.000000</td>\n",
              "      <td>1.000000</td>\n",
              "      <td>1.000000</td>\n",
              "      <td>...</td>\n",
              "      <td>1.000000</td>\n",
              "      <td>1.000000</td>\n",
              "      <td>1.000000</td>\n",
              "      <td>1.000000</td>\n",
              "      <td>1.000000</td>\n",
              "      <td>1.000000</td>\n",
              "      <td>1.000000</td>\n",
              "      <td>1.000000</td>\n",
              "      <td>1.000000</td>\n",
              "      <td>1.000000</td>\n",
              "    </tr>\n",
              "  </tbody>\n",
              "</table>\n",
              "<p>8 rows × 291 columns</p>\n",
              "</div>"
            ],
            "text/plain": [
              "            demanda       Domingo      linha_km       idh_max             0  \\\n",
              "count  31842.000000  31842.000000  31842.000000  31842.000000  31842.000000   \n",
              "mean      91.838547      0.123893    812.732180      0.366907      0.013379   \n",
              "std      122.493081      0.329465    699.700124      0.126333      0.114891   \n",
              "min        1.000000      0.000000     62.360000      0.068821      0.000000   \n",
              "25%       18.000000      0.000000    437.430000      0.277941      0.000000   \n",
              "50%       49.000000      0.000000    603.017778      0.347174      0.000000   \n",
              "75%      110.000000      0.000000    898.020000      0.453955      0.000000   \n",
              "max     1182.000000      1.000000   5895.520000      0.717800      1.000000   \n",
              "\n",
              "                  1             2             3             4             5  \\\n",
              "count  31842.000000  31842.000000  31842.000000  31842.000000  31842.000000   \n",
              "mean       0.001821      0.001696      0.002355      0.032002      0.050845   \n",
              "std        0.042641      0.041147      0.048476      0.176007      0.219684   \n",
              "min        0.000000      0.000000      0.000000      0.000000      0.000000   \n",
              "25%        0.000000      0.000000      0.000000      0.000000      0.000000   \n",
              "50%        0.000000      0.000000      0.000000      0.000000      0.000000   \n",
              "75%        0.000000      0.000000      0.000000      0.000000      0.000000   \n",
              "max        1.000000      1.000000      1.000000      1.000000      1.000000   \n",
              "\n",
              "       ...           833           835           836           841  \\\n",
              "count  ...  31842.000000  31842.000000  31842.000000  31842.000000   \n",
              "mean   ...      0.002198      0.002198      0.003769      0.004271   \n",
              "std    ...      0.046836      0.046836      0.061274      0.065215   \n",
              "min    ...      0.000000      0.000000      0.000000      0.000000   \n",
              "25%    ...      0.000000      0.000000      0.000000      0.000000   \n",
              "50%    ...      0.000000      0.000000      0.000000      0.000000   \n",
              "75%    ...      0.000000      0.000000      0.000000      0.000000   \n",
              "max    ...      1.000000      1.000000      1.000000      1.000000   \n",
              "\n",
              "                855           901           906           907           913  \\\n",
              "count  31842.000000  31842.000000  31842.000000  31842.000000  31842.000000   \n",
              "mean       0.004460      0.004302      0.004397      0.004177      0.004334   \n",
              "std        0.066632      0.065453      0.066163      0.064495      0.065691   \n",
              "min        0.000000      0.000000      0.000000      0.000000      0.000000   \n",
              "25%        0.000000      0.000000      0.000000      0.000000      0.000000   \n",
              "50%        0.000000      0.000000      0.000000      0.000000      0.000000   \n",
              "75%        0.000000      0.000000      0.000000      0.000000      0.000000   \n",
              "max        1.000000      1.000000      1.000000      1.000000      1.000000   \n",
              "\n",
              "                920  \n",
              "count  31842.000000  \n",
              "mean       0.004554  \n",
              "std        0.067329  \n",
              "min        0.000000  \n",
              "25%        0.000000  \n",
              "50%        0.000000  \n",
              "75%        0.000000  \n",
              "max        1.000000  \n",
              "\n",
              "[8 rows x 291 columns]"
            ]
          },
          "execution_count": 461,
          "metadata": {},
          "output_type": "execute_result"
        }
      ],
      "source": [
        "dataset_model.describe()"
      ]
    },
    {
      "cell_type": "code",
      "execution_count": 462,
      "metadata": {},
      "outputs": [
        {
          "data": {
            "text/html": [
              "<div>\n",
              "<style scoped>\n",
              "    .dataframe tbody tr th:only-of-type {\n",
              "        vertical-align: middle;\n",
              "    }\n",
              "\n",
              "    .dataframe tbody tr th {\n",
              "        vertical-align: top;\n",
              "    }\n",
              "\n",
              "    .dataframe thead th {\n",
              "        text-align: right;\n",
              "    }\n",
              "</style>\n",
              "<table border=\"1\" class=\"dataframe\">\n",
              "  <thead>\n",
              "    <tr style=\"text-align: right;\">\n",
              "      <th></th>\n",
              "      <th>demanda</th>\n",
              "      <th>Domingo</th>\n",
              "      <th>linha_km</th>\n",
              "      <th>idh_max</th>\n",
              "      <th>0</th>\n",
              "      <th>1</th>\n",
              "      <th>2</th>\n",
              "      <th>3</th>\n",
              "      <th>4</th>\n",
              "      <th>5</th>\n",
              "      <th>...</th>\n",
              "      <th>833</th>\n",
              "      <th>835</th>\n",
              "      <th>836</th>\n",
              "      <th>841</th>\n",
              "      <th>855</th>\n",
              "      <th>901</th>\n",
              "      <th>906</th>\n",
              "      <th>907</th>\n",
              "      <th>913</th>\n",
              "      <th>920</th>\n",
              "    </tr>\n",
              "  </thead>\n",
              "  <tbody>\n",
              "    <tr>\n",
              "      <th>demanda</th>\n",
              "      <td>1.000000</td>\n",
              "      <td>-0.169195</td>\n",
              "      <td>0.505521</td>\n",
              "      <td>0.203646</td>\n",
              "      <td>-0.079537</td>\n",
              "      <td>-0.026773</td>\n",
              "      <td>-0.028877</td>\n",
              "      <td>-0.033812</td>\n",
              "      <td>-0.095272</td>\n",
              "      <td>0.029404</td>\n",
              "      <td>...</td>\n",
              "      <td>-0.009682</td>\n",
              "      <td>-0.032340</td>\n",
              "      <td>-0.023564</td>\n",
              "      <td>-0.014885</td>\n",
              "      <td>0.106432</td>\n",
              "      <td>-0.025677</td>\n",
              "      <td>0.052545</td>\n",
              "      <td>-0.018273</td>\n",
              "      <td>-0.012773</td>\n",
              "      <td>0.014350</td>\n",
              "    </tr>\n",
              "    <tr>\n",
              "      <th>Domingo</th>\n",
              "      <td>-0.169195</td>\n",
              "      <td>1.000000</td>\n",
              "      <td>-0.008584</td>\n",
              "      <td>-0.027303</td>\n",
              "      <td>-0.002305</td>\n",
              "      <td>0.004056</td>\n",
              "      <td>0.003034</td>\n",
              "      <td>-0.000574</td>\n",
              "      <td>-0.007174</td>\n",
              "      <td>-0.005894</td>\n",
              "      <td>...</td>\n",
              "      <td>-0.017651</td>\n",
              "      <td>-0.017651</td>\n",
              "      <td>-0.001349</td>\n",
              "      <td>0.001682</td>\n",
              "      <td>0.004874</td>\n",
              "      <td>0.001495</td>\n",
              "      <td>0.003825</td>\n",
              "      <td>0.003728</td>\n",
              "      <td>0.002761</td>\n",
              "      <td>0.002882</td>\n",
              "    </tr>\n",
              "    <tr>\n",
              "      <th>linha_km</th>\n",
              "      <td>0.505521</td>\n",
              "      <td>-0.008584</td>\n",
              "      <td>1.000000</td>\n",
              "      <td>0.188221</td>\n",
              "      <td>0.006493</td>\n",
              "      <td>-0.030776</td>\n",
              "      <td>-0.040803</td>\n",
              "      <td>-0.029951</td>\n",
              "      <td>0.008936</td>\n",
              "      <td>0.000090</td>\n",
              "      <td>...</td>\n",
              "      <td>-0.028333</td>\n",
              "      <td>-0.040021</td>\n",
              "      <td>-0.050785</td>\n",
              "      <td>-0.037885</td>\n",
              "      <td>0.071766</td>\n",
              "      <td>-0.028988</td>\n",
              "      <td>0.140350</td>\n",
              "      <td>-0.029527</td>\n",
              "      <td>-0.016419</td>\n",
              "      <td>0.033296</td>\n",
              "    </tr>\n",
              "    <tr>\n",
              "      <th>idh_max</th>\n",
              "      <td>0.203646</td>\n",
              "      <td>-0.027303</td>\n",
              "      <td>0.188221</td>\n",
              "      <td>1.000000</td>\n",
              "      <td>0.009836</td>\n",
              "      <td>0.006566</td>\n",
              "      <td>0.005117</td>\n",
              "      <td>-0.001372</td>\n",
              "      <td>-0.038413</td>\n",
              "      <td>-0.003656</td>\n",
              "      <td>...</td>\n",
              "      <td>0.083642</td>\n",
              "      <td>0.095894</td>\n",
              "      <td>-0.008232</td>\n",
              "      <td>0.084552</td>\n",
              "      <td>0.067212</td>\n",
              "      <td>0.182583</td>\n",
              "      <td>0.043855</td>\n",
              "      <td>0.139437</td>\n",
              "      <td>0.013225</td>\n",
              "      <td>-0.040525</td>\n",
              "    </tr>\n",
              "    <tr>\n",
              "      <th>0</th>\n",
              "      <td>-0.079537</td>\n",
              "      <td>-0.002305</td>\n",
              "      <td>0.006493</td>\n",
              "      <td>0.009836</td>\n",
              "      <td>1.000000</td>\n",
              "      <td>-0.004974</td>\n",
              "      <td>-0.004799</td>\n",
              "      <td>-0.005658</td>\n",
              "      <td>-0.021173</td>\n",
              "      <td>-0.026952</td>\n",
              "      <td>...</td>\n",
              "      <td>-0.005466</td>\n",
              "      <td>-0.005466</td>\n",
              "      <td>-0.007162</td>\n",
              "      <td>0.009140</td>\n",
              "      <td>0.008616</td>\n",
              "      <td>0.013227</td>\n",
              "      <td>-0.007738</td>\n",
              "      <td>-0.007542</td>\n",
              "      <td>-0.007683</td>\n",
              "      <td>0.020544</td>\n",
              "    </tr>\n",
              "    <tr>\n",
              "      <th>...</th>\n",
              "      <td>...</td>\n",
              "      <td>...</td>\n",
              "      <td>...</td>\n",
              "      <td>...</td>\n",
              "      <td>...</td>\n",
              "      <td>...</td>\n",
              "      <td>...</td>\n",
              "      <td>...</td>\n",
              "      <td>...</td>\n",
              "      <td>...</td>\n",
              "      <td>...</td>\n",
              "      <td>...</td>\n",
              "      <td>...</td>\n",
              "      <td>...</td>\n",
              "      <td>...</td>\n",
              "      <td>...</td>\n",
              "      <td>...</td>\n",
              "      <td>...</td>\n",
              "      <td>...</td>\n",
              "      <td>...</td>\n",
              "      <td>...</td>\n",
              "    </tr>\n",
              "    <tr>\n",
              "      <th>901</th>\n",
              "      <td>-0.025677</td>\n",
              "      <td>0.001495</td>\n",
              "      <td>-0.028988</td>\n",
              "      <td>0.182583</td>\n",
              "      <td>0.013227</td>\n",
              "      <td>-0.002808</td>\n",
              "      <td>-0.002709</td>\n",
              "      <td>-0.003194</td>\n",
              "      <td>-0.011952</td>\n",
              "      <td>0.000075</td>\n",
              "      <td>...</td>\n",
              "      <td>-0.003085</td>\n",
              "      <td>-0.003085</td>\n",
              "      <td>-0.004043</td>\n",
              "      <td>-0.004305</td>\n",
              "      <td>-0.004400</td>\n",
              "      <td>1.000000</td>\n",
              "      <td>-0.004368</td>\n",
              "      <td>-0.004257</td>\n",
              "      <td>-0.004337</td>\n",
              "      <td>-0.004446</td>\n",
              "    </tr>\n",
              "    <tr>\n",
              "      <th>906</th>\n",
              "      <td>0.052545</td>\n",
              "      <td>0.003825</td>\n",
              "      <td>0.140350</td>\n",
              "      <td>0.043855</td>\n",
              "      <td>-0.007738</td>\n",
              "      <td>-0.002839</td>\n",
              "      <td>-0.002739</td>\n",
              "      <td>-0.003229</td>\n",
              "      <td>0.006796</td>\n",
              "      <td>-0.000256</td>\n",
              "      <td>...</td>\n",
              "      <td>-0.003119</td>\n",
              "      <td>-0.003119</td>\n",
              "      <td>-0.004087</td>\n",
              "      <td>-0.004352</td>\n",
              "      <td>-0.004448</td>\n",
              "      <td>-0.004368</td>\n",
              "      <td>1.000000</td>\n",
              "      <td>-0.004304</td>\n",
              "      <td>-0.004384</td>\n",
              "      <td>-0.004495</td>\n",
              "    </tr>\n",
              "    <tr>\n",
              "      <th>907</th>\n",
              "      <td>-0.018273</td>\n",
              "      <td>0.003728</td>\n",
              "      <td>-0.029527</td>\n",
              "      <td>0.139437</td>\n",
              "      <td>-0.007542</td>\n",
              "      <td>-0.002767</td>\n",
              "      <td>-0.002669</td>\n",
              "      <td>-0.003147</td>\n",
              "      <td>-0.011776</td>\n",
              "      <td>0.000527</td>\n",
              "      <td>...</td>\n",
              "      <td>-0.003040</td>\n",
              "      <td>-0.003040</td>\n",
              "      <td>-0.003983</td>\n",
              "      <td>-0.004242</td>\n",
              "      <td>-0.004335</td>\n",
              "      <td>-0.004257</td>\n",
              "      <td>-0.004304</td>\n",
              "      <td>1.000000</td>\n",
              "      <td>-0.004273</td>\n",
              "      <td>-0.004380</td>\n",
              "    </tr>\n",
              "    <tr>\n",
              "      <th>913</th>\n",
              "      <td>-0.012773</td>\n",
              "      <td>0.002761</td>\n",
              "      <td>-0.016419</td>\n",
              "      <td>0.013225</td>\n",
              "      <td>-0.007683</td>\n",
              "      <td>-0.002818</td>\n",
              "      <td>-0.002719</td>\n",
              "      <td>-0.003206</td>\n",
              "      <td>0.001586</td>\n",
              "      <td>-0.000036</td>\n",
              "      <td>...</td>\n",
              "      <td>-0.003097</td>\n",
              "      <td>-0.003097</td>\n",
              "      <td>-0.004058</td>\n",
              "      <td>-0.004321</td>\n",
              "      <td>-0.004416</td>\n",
              "      <td>-0.004337</td>\n",
              "      <td>-0.004384</td>\n",
              "      <td>-0.004273</td>\n",
              "      <td>1.000000</td>\n",
              "      <td>-0.004462</td>\n",
              "    </tr>\n",
              "    <tr>\n",
              "      <th>920</th>\n",
              "      <td>0.014350</td>\n",
              "      <td>0.002882</td>\n",
              "      <td>0.033296</td>\n",
              "      <td>-0.040525</td>\n",
              "      <td>0.020544</td>\n",
              "      <td>-0.002889</td>\n",
              "      <td>-0.002788</td>\n",
              "      <td>-0.003286</td>\n",
              "      <td>0.000953</td>\n",
              "      <td>-0.000791</td>\n",
              "      <td>...</td>\n",
              "      <td>-0.003175</td>\n",
              "      <td>-0.003175</td>\n",
              "      <td>-0.004160</td>\n",
              "      <td>-0.004430</td>\n",
              "      <td>-0.004527</td>\n",
              "      <td>-0.004446</td>\n",
              "      <td>-0.004495</td>\n",
              "      <td>-0.004380</td>\n",
              "      <td>-0.004462</td>\n",
              "      <td>1.000000</td>\n",
              "    </tr>\n",
              "  </tbody>\n",
              "</table>\n",
              "<p>291 rows × 291 columns</p>\n",
              "</div>"
            ],
            "text/plain": [
              "           demanda   Domingo  linha_km   idh_max         0         1  \\\n",
              "demanda   1.000000 -0.169195  0.505521  0.203646 -0.079537 -0.026773   \n",
              "Domingo  -0.169195  1.000000 -0.008584 -0.027303 -0.002305  0.004056   \n",
              "linha_km  0.505521 -0.008584  1.000000  0.188221  0.006493 -0.030776   \n",
              "idh_max   0.203646 -0.027303  0.188221  1.000000  0.009836  0.006566   \n",
              "0        -0.079537 -0.002305  0.006493  0.009836  1.000000 -0.004974   \n",
              "...            ...       ...       ...       ...       ...       ...   \n",
              "901      -0.025677  0.001495 -0.028988  0.182583  0.013227 -0.002808   \n",
              "906       0.052545  0.003825  0.140350  0.043855 -0.007738 -0.002839   \n",
              "907      -0.018273  0.003728 -0.029527  0.139437 -0.007542 -0.002767   \n",
              "913      -0.012773  0.002761 -0.016419  0.013225 -0.007683 -0.002818   \n",
              "920       0.014350  0.002882  0.033296 -0.040525  0.020544 -0.002889   \n",
              "\n",
              "                 2         3         4         5  ...       833       835  \\\n",
              "demanda  -0.028877 -0.033812 -0.095272  0.029404  ... -0.009682 -0.032340   \n",
              "Domingo   0.003034 -0.000574 -0.007174 -0.005894  ... -0.017651 -0.017651   \n",
              "linha_km -0.040803 -0.029951  0.008936  0.000090  ... -0.028333 -0.040021   \n",
              "idh_max   0.005117 -0.001372 -0.038413 -0.003656  ...  0.083642  0.095894   \n",
              "0        -0.004799 -0.005658 -0.021173 -0.026952  ... -0.005466 -0.005466   \n",
              "...            ...       ...       ...       ...  ...       ...       ...   \n",
              "901      -0.002709 -0.003194 -0.011952  0.000075  ... -0.003085 -0.003085   \n",
              "906      -0.002739 -0.003229  0.006796 -0.000256  ... -0.003119 -0.003119   \n",
              "907      -0.002669 -0.003147 -0.011776  0.000527  ... -0.003040 -0.003040   \n",
              "913      -0.002719 -0.003206  0.001586 -0.000036  ... -0.003097 -0.003097   \n",
              "920      -0.002788 -0.003286  0.000953 -0.000791  ... -0.003175 -0.003175   \n",
              "\n",
              "               836       841       855       901       906       907  \\\n",
              "demanda  -0.023564 -0.014885  0.106432 -0.025677  0.052545 -0.018273   \n",
              "Domingo  -0.001349  0.001682  0.004874  0.001495  0.003825  0.003728   \n",
              "linha_km -0.050785 -0.037885  0.071766 -0.028988  0.140350 -0.029527   \n",
              "idh_max  -0.008232  0.084552  0.067212  0.182583  0.043855  0.139437   \n",
              "0        -0.007162  0.009140  0.008616  0.013227 -0.007738 -0.007542   \n",
              "...            ...       ...       ...       ...       ...       ...   \n",
              "901      -0.004043 -0.004305 -0.004400  1.000000 -0.004368 -0.004257   \n",
              "906      -0.004087 -0.004352 -0.004448 -0.004368  1.000000 -0.004304   \n",
              "907      -0.003983 -0.004242 -0.004335 -0.004257 -0.004304  1.000000   \n",
              "913      -0.004058 -0.004321 -0.004416 -0.004337 -0.004384 -0.004273   \n",
              "920      -0.004160 -0.004430 -0.004527 -0.004446 -0.004495 -0.004380   \n",
              "\n",
              "               913       920  \n",
              "demanda  -0.012773  0.014350  \n",
              "Domingo   0.002761  0.002882  \n",
              "linha_km -0.016419  0.033296  \n",
              "idh_max   0.013225 -0.040525  \n",
              "0        -0.007683  0.020544  \n",
              "...            ...       ...  \n",
              "901      -0.004337 -0.004446  \n",
              "906      -0.004384 -0.004495  \n",
              "907      -0.004273 -0.004380  \n",
              "913       1.000000 -0.004462  \n",
              "920      -0.004462  1.000000  \n",
              "\n",
              "[291 rows x 291 columns]"
            ]
          },
          "execution_count": 462,
          "metadata": {},
          "output_type": "execute_result"
        }
      ],
      "source": [
        "dataset_model.corr()"
      ]
    },
    {
      "cell_type": "markdown",
      "metadata": {
        "id": "_Pp7eEjtuX3p"
      },
      "source": [
        "# Pre Processamento"
      ]
    },
    {
      "cell_type": "code",
      "execution_count": 463,
      "metadata": {
        "id": "dvGzu_KguX3p"
      },
      "outputs": [],
      "source": [
        "X = dataset_model.drop(columns=[\"demanda\"]).values\n",
        "Y = dataset_model[\"demanda\"].values"
      ]
    },
    {
      "cell_type": "markdown",
      "metadata": {},
      "source": [
        "Normalização dos Dados"
      ]
    },
    {
      "cell_type": "code",
      "execution_count": 464,
      "metadata": {
        "id": "fvvpuWPPuX3q"
      },
      "outputs": [],
      "source": [
        "from sklearn.preprocessing import StandardScaler\n",
        "# from sklearn.preprocessing import Normalizer\n",
        "\n",
        "standard = StandardScaler()\n",
        "\n",
        "X = standard.fit_transform(X)"
      ]
    },
    {
      "cell_type": "code",
      "execution_count": 465,
      "metadata": {
        "colab": {
          "base_uri": "https://localhost:8080/"
        },
        "id": "hhq4XFg-uX3q",
        "outputId": "a0d00a82-674e-444a-9c1e-93e36c1953fa"
      },
      "outputs": [
        {
          "data": {
            "text/plain": [
              "array([[-0.37604927,  0.50363483,  0.78169483, ..., -0.06476413,\n",
              "        -0.06597547, -0.06763553],\n",
              "       [-0.37604927,  0.50363483,  0.78169483, ..., -0.06476413,\n",
              "        -0.06597547, -0.06763553],\n",
              "       [-0.37604927,  0.50363483,  0.78169483, ..., -0.06476413,\n",
              "        -0.06597547, -0.06763553],\n",
              "       ...,\n",
              "       [-0.37604927,  0.49227979, -0.59916705, ..., -0.06476413,\n",
              "        -0.06597547, 14.78512766],\n",
              "       [-0.37604927,  0.49227979, -0.59916705, ..., -0.06476413,\n",
              "        -0.06597547, 14.78512766],\n",
              "       [-0.37604927,  0.49227979, -0.59916705, ..., -0.06476413,\n",
              "        -0.06597547, 14.78512766]])"
            ]
          },
          "execution_count": 465,
          "metadata": {},
          "output_type": "execute_result"
        }
      ],
      "source": [
        "X"
      ]
    },
    {
      "cell_type": "code",
      "execution_count": 466,
      "metadata": {
        "id": "L000h3j5uX3q"
      },
      "outputs": [],
      "source": [
        "X_train, X_test, y_train, y_test = train_test_split(X, Y, train_size=0.75, test_size=0.25, random_state=123)"
      ]
    },
    {
      "cell_type": "markdown",
      "metadata": {},
      "source": [
        "# Modelagem"
      ]
    },
    {
      "cell_type": "markdown",
      "metadata": {},
      "source": [
        "Linear Regression "
      ]
    },
    {
      "cell_type": "code",
      "execution_count": 467,
      "metadata": {
        "id": "0188w4-xuX3q"
      },
      "outputs": [],
      "source": [
        "linear_regression = LinearRegression()\n",
        "linear_regression.fit(X_train, y_train)\n",
        "results = linear_regression.predict(X_test)"
      ]
    },
    {
      "cell_type": "code",
      "execution_count": 468,
      "metadata": {
        "colab": {
          "base_uri": "https://localhost:8080/"
        },
        "id": "tJXVKHD7uX3q",
        "outputId": "d0315a25-0fcc-4916-9f30-c0b60d9d5866"
      },
      "outputs": [
        {
          "data": {
            "text/plain": [
              "array([ 74.32733462, 422.20233462,  19.54608462, ...,  38.45233462,\n",
              "       209.39764712,  57.45233462])"
            ]
          },
          "execution_count": 468,
          "metadata": {},
          "output_type": "execute_result"
        }
      ],
      "source": [
        "results"
      ]
    },
    {
      "cell_type": "code",
      "execution_count": 469,
      "metadata": {
        "colab": {
          "base_uri": "https://localhost:8080/"
        },
        "id": "-8lh2RB7uX3q",
        "outputId": "b332b201-6016-466a-f961-df63aab55a0f"
      },
      "outputs": [
        {
          "data": {
            "text/plain": [
              "45.99514695727503"
            ]
          },
          "execution_count": 469,
          "metadata": {},
          "output_type": "execute_result"
        }
      ],
      "source": [
        "mean_absolute_error(y_test, results)"
      ]
    },
    {
      "cell_type": "code",
      "execution_count": 470,
      "metadata": {
        "colab": {
          "base_uri": "https://localhost:8080/"
        },
        "id": "NbY_lWy8uX3r",
        "outputId": "ec2bf683-7e21-47db-8a82-1a399f5df145"
      },
      "outputs": [
        {
          "data": {
            "text/plain": [
              "73.32281670023787"
            ]
          },
          "execution_count": 470,
          "metadata": {},
          "output_type": "execute_result"
        }
      ],
      "source": [
        "np.sqrt(mean_squared_error(y_test, results))"
      ]
    },
    {
      "cell_type": "code",
      "execution_count": 471,
      "metadata": {
        "colab": {
          "base_uri": "https://localhost:8080/"
        },
        "id": "QjBU-MOSuX3r",
        "outputId": "7f4b0bde-3559-49a0-b0f5-4680b1f7b088"
      },
      "outputs": [
        {
          "data": {
            "text/plain": [
              "0.6522706166129528"
            ]
          },
          "execution_count": 471,
          "metadata": {},
          "output_type": "execute_result"
        }
      ],
      "source": [
        "r2_score(y_test, results)"
      ]
    },
    {
      "cell_type": "markdown",
      "metadata": {
        "id": "8MjjcgiyuX3r"
      },
      "source": [
        "Lasso"
      ]
    },
    {
      "cell_type": "code",
      "execution_count": 472,
      "metadata": {
        "id": "vgQMJtDpuX3r"
      },
      "outputs": [],
      "source": [
        "lasso = Lasso()\n",
        "lasso.fit(X_train, y_train)\n",
        "results = lasso.predict(X_test)"
      ]
    },
    {
      "cell_type": "code",
      "execution_count": 473,
      "metadata": {
        "colab": {
          "base_uri": "https://localhost:8080/"
        },
        "id": "vK_CYk7NuX3r",
        "outputId": "db8c532a-1857-4be2-8786-884c771bdebb"
      },
      "outputs": [
        {
          "data": {
            "text/plain": [
              "46.09621877285122"
            ]
          },
          "execution_count": 473,
          "metadata": {},
          "output_type": "execute_result"
        }
      ],
      "source": [
        "mean_absolute_error(y_test, results)"
      ]
    },
    {
      "cell_type": "code",
      "execution_count": 474,
      "metadata": {
        "colab": {
          "base_uri": "https://localhost:8080/"
        },
        "id": "5tD36P2UuX3s",
        "outputId": "bcd41585-a479-484c-8e2f-5fc99371b71f"
      },
      "outputs": [
        {
          "data": {
            "text/plain": [
              "74.65387093722177"
            ]
          },
          "execution_count": 474,
          "metadata": {},
          "output_type": "execute_result"
        }
      ],
      "source": [
        "np.sqrt(mean_squared_error(y_test, results))"
      ]
    },
    {
      "cell_type": "code",
      "execution_count": 475,
      "metadata": {
        "colab": {
          "base_uri": "https://localhost:8080/"
        },
        "id": "bwxjXPMiuX3s",
        "outputId": "14987be1-d484-43a6-d5e6-f4fcc344b027"
      },
      "outputs": [
        {
          "data": {
            "text/plain": [
              "0.6395311230349284"
            ]
          },
          "execution_count": 475,
          "metadata": {},
          "output_type": "execute_result"
        }
      ],
      "source": [
        "r2_score(y_test, results)"
      ]
    },
    {
      "cell_type": "markdown",
      "metadata": {
        "id": "6aInUl7iuX3s"
      },
      "source": [
        "Ridge"
      ]
    },
    {
      "cell_type": "code",
      "execution_count": 476,
      "metadata": {
        "id": "ntSRBYGduX3s"
      },
      "outputs": [],
      "source": [
        "ridge_classifier = RidgeClassifier()\n",
        "ridge_classifier.fit(X_train, y_train)\n",
        "results = ridge_classifier.predict(X_test)"
      ]
    },
    {
      "cell_type": "code",
      "execution_count": 477,
      "metadata": {
        "colab": {
          "base_uri": "https://localhost:8080/"
        },
        "id": "zzX1lZH8uX3s",
        "outputId": "fdb55727-7c40-4576-dd78-651e8b3281c9"
      },
      "outputs": [
        {
          "data": {
            "text/plain": [
              "55.12787338274086"
            ]
          },
          "execution_count": 477,
          "metadata": {},
          "output_type": "execute_result"
        }
      ],
      "source": [
        "mean_absolute_error(y_test, results)"
      ]
    },
    {
      "cell_type": "code",
      "execution_count": 478,
      "metadata": {
        "colab": {
          "base_uri": "https://localhost:8080/"
        },
        "id": "Vl_DKZIpuX3s",
        "outputId": "f34430e5-8f0c-417b-8155-63b39bf41852"
      },
      "outputs": [
        {
          "data": {
            "text/plain": [
              "104.61194704665115"
            ]
          },
          "execution_count": 478,
          "metadata": {},
          "output_type": "execute_result"
        }
      ],
      "source": [
        "np.sqrt(mean_squared_error(y_test, results))"
      ]
    },
    {
      "cell_type": "code",
      "execution_count": 479,
      "metadata": {
        "colab": {
          "base_uri": "https://localhost:8080/"
        },
        "id": "m0Za_sQNuX3s",
        "outputId": "0cbe7c4b-2acb-4b3d-8cdb-1c97af1e1f5b"
      },
      "outputs": [
        {
          "data": {
            "text/plain": [
              "0.2921753531955599"
            ]
          },
          "execution_count": 479,
          "metadata": {},
          "output_type": "execute_result"
        }
      ],
      "source": [
        "r2_score(y_test, results)"
      ]
    },
    {
      "cell_type": "markdown",
      "metadata": {
        "id": "XKBIKrS-uX3s"
      },
      "source": [
        "ElasticNet"
      ]
    },
    {
      "cell_type": "code",
      "execution_count": 480,
      "metadata": {
        "id": "KvTHiEDYuX3t"
      },
      "outputs": [],
      "source": [
        "elastic_net = ElasticNet()\n",
        "elastic_net.fit(X_train, y_train)\n",
        "results = elastic_net.predict(X_test)"
      ]
    },
    {
      "cell_type": "code",
      "execution_count": 481,
      "metadata": {
        "colab": {
          "base_uri": "https://localhost:8080/"
        },
        "id": "TCnzNYyhuX3t",
        "outputId": "8055dbfa-67ce-4669-acb2-1c7c541b1d81"
      },
      "outputs": [
        {
          "data": {
            "text/plain": [
              "47.272592462491666"
            ]
          },
          "execution_count": 481,
          "metadata": {},
          "output_type": "execute_result"
        }
      ],
      "source": [
        "mean_absolute_error(y_test, results)"
      ]
    },
    {
      "cell_type": "code",
      "execution_count": 482,
      "metadata": {
        "colab": {
          "base_uri": "https://localhost:8080/"
        },
        "id": "in-F0i0ZuX3t",
        "outputId": "4d865fc3-c69d-4599-d17b-93b693b85e17"
      },
      "outputs": [
        {
          "data": {
            "text/plain": [
              "80.75118156158769"
            ]
          },
          "execution_count": 482,
          "metadata": {},
          "output_type": "execute_result"
        }
      ],
      "source": [
        "np.sqrt(mean_squared_error(y_test, results))"
      ]
    },
    {
      "cell_type": "code",
      "execution_count": 483,
      "metadata": {
        "colab": {
          "base_uri": "https://localhost:8080/"
        },
        "id": "Lf3i5uT3uX3t",
        "outputId": "9aafcbc9-4127-480f-c7c6-d13d82bab34e"
      },
      "outputs": [
        {
          "data": {
            "text/plain": [
              "0.5782443767573351"
            ]
          },
          "execution_count": 483,
          "metadata": {},
          "output_type": "execute_result"
        }
      ],
      "source": [
        "r2_score(y_test, results)"
      ]
    }
  ],
  "metadata": {
    "colab": {
      "collapsed_sections": [],
      "name": "modelagem.ipynb",
      "provenance": []
    },
    "interpreter": {
      "hash": "5eba2f6daac758e0c4eb74cbbf3fd787eaf14bd08a71327f2f2275e3d00aa03b"
    },
    "kernelspec": {
      "display_name": "Python 3.8.8 ('base')",
      "language": "python",
      "name": "python3"
    },
    "language_info": {
      "codemirror_mode": {
        "name": "ipython",
        "version": 3
      },
      "file_extension": ".py",
      "mimetype": "text/x-python",
      "name": "python",
      "nbconvert_exporter": "python",
      "pygments_lexer": "ipython3",
      "version": "3.8.8"
    },
    "orig_nbformat": 4
  },
  "nbformat": 4,
  "nbformat_minor": 0
}
