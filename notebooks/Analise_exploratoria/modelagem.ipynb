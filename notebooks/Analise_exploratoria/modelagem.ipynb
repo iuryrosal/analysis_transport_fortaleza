{
  "cells": [
    {
      "cell_type": "code",
      "execution_count": 1,
      "metadata": {
        "id": "Lm9ErKlkuX3c"
      },
      "outputs": [],
      "source": [
        "import pandas as pd\n",
        "import numpy as np\n",
        "\n",
        "# Modelagem\n",
        "from sklearn.model_selection import train_test_split\n",
        "from sklearn.linear_model import LinearRegression\n",
        "from sklearn.linear_model import Lasso\n",
        "from sklearn.linear_model import RidgeClassifier\n",
        "from sklearn.linear_model import ElasticNet \n",
        "from sklearn.metrics import mean_absolute_error, mean_squared_error, r2_score"
      ]
    },
    {
      "cell_type": "markdown",
      "metadata": {},
      "source": [
        "Carregamento dos Dados"
      ]
    },
    {
      "cell_type": "code",
      "execution_count": 2,
      "metadata": {},
      "outputs": [],
      "source": [
        "path = \"../../data/processed/\"\n",
        "v = pd.read_csv(path + \"V.csv\")\n",
        "fgr = pd.read_csv(path + \"FGR.csv\", decimal=\",\")\n",
        "paradas = pd.read_csv(path + \"paradas.csv\")\n",
        "rota_paradas = pd.read_csv(path + \"rota_paradas.csv\")\n",
        "rotas = pd.read_csv(path + \"rotas.csv\")\n",
        "dados_bairros = pd.read_csv(path + \"dados_bairros.csv\")"
      ]
    },
    {
      "cell_type": "markdown",
      "metadata": {},
      "source": [
        "# Feature Enginerring"
      ]
    },
    {
      "cell_type": "markdown",
      "metadata": {
        "id": "VGJyVdL2uX3g"
      },
      "source": [
        "Construção de variáveis\n",
        "- Demanda\n",
        "- Tamanho da linha\n",
        "- Horario\n",
        "- IDH dos bairros\n",
        "- É domingo?"
      ]
    },
    {
      "cell_type": "code",
      "execution_count": 3,
      "metadata": {
        "id": "L2pkrwmGuX3h"
      },
      "outputs": [],
      "source": [
        "demanda_p_linha_dia = v.groupby([\"linha_numero\", \"movimento_diario_data_mov\"]).count()[\"passageiro_matricula\"].to_frame().reset_index()\n",
        "demanda_p_linha_dia.rename(columns={\"passageiro_matricula\": \"demanda_do_dia\"}, inplace = True)"
      ]
    },
    {
      "cell_type": "code",
      "execution_count": 4,
      "metadata": {
        "colab": {
          "base_uri": "https://localhost:8080/",
          "height": 424
        },
        "id": "Ln8Bg_-QuX3i",
        "outputId": "324e996a-2abc-4f62-98aa-98f2da7eed12"
      },
      "outputs": [
        {
          "data": {
            "text/html": [
              "<div>\n",
              "<style scoped>\n",
              "    .dataframe tbody tr th:only-of-type {\n",
              "        vertical-align: middle;\n",
              "    }\n",
              "\n",
              "    .dataframe tbody tr th {\n",
              "        vertical-align: top;\n",
              "    }\n",
              "\n",
              "    .dataframe thead th {\n",
              "        text-align: right;\n",
              "    }\n",
              "</style>\n",
              "<table border=\"1\" class=\"dataframe\">\n",
              "  <thead>\n",
              "    <tr style=\"text-align: right;\">\n",
              "      <th></th>\n",
              "      <th>linha_numero</th>\n",
              "      <th>movimento_diario_data_mov</th>\n",
              "      <th>demanda_do_dia</th>\n",
              "    </tr>\n",
              "  </thead>\n",
              "  <tbody>\n",
              "    <tr>\n",
              "      <th>0</th>\n",
              "      <td>1</td>\n",
              "      <td>2021-08-29</td>\n",
              "      <td>232</td>\n",
              "    </tr>\n",
              "    <tr>\n",
              "      <th>1</th>\n",
              "      <td>1</td>\n",
              "      <td>2021-08-31</td>\n",
              "      <td>9096</td>\n",
              "    </tr>\n",
              "    <tr>\n",
              "      <th>2</th>\n",
              "      <td>1</td>\n",
              "      <td>2021-09-01</td>\n",
              "      <td>8888</td>\n",
              "    </tr>\n",
              "    <tr>\n",
              "      <th>3</th>\n",
              "      <td>1</td>\n",
              "      <td>2021-09-02</td>\n",
              "      <td>8244</td>\n",
              "    </tr>\n",
              "    <tr>\n",
              "      <th>4</th>\n",
              "      <td>1</td>\n",
              "      <td>2021-09-03</td>\n",
              "      <td>9020</td>\n",
              "    </tr>\n",
              "    <tr>\n",
              "      <th>...</th>\n",
              "      <td>...</td>\n",
              "      <td>...</td>\n",
              "      <td>...</td>\n",
              "    </tr>\n",
              "    <tr>\n",
              "      <th>2078</th>\n",
              "      <td>942</td>\n",
              "      <td>2021-09-05</td>\n",
              "      <td>2</td>\n",
              "    </tr>\n",
              "    <tr>\n",
              "      <th>2079</th>\n",
              "      <td>991</td>\n",
              "      <td>2021-08-31</td>\n",
              "      <td>76</td>\n",
              "    </tr>\n",
              "    <tr>\n",
              "      <th>2080</th>\n",
              "      <td>991</td>\n",
              "      <td>2021-09-01</td>\n",
              "      <td>55</td>\n",
              "    </tr>\n",
              "    <tr>\n",
              "      <th>2081</th>\n",
              "      <td>991</td>\n",
              "      <td>2021-09-02</td>\n",
              "      <td>55</td>\n",
              "    </tr>\n",
              "    <tr>\n",
              "      <th>2082</th>\n",
              "      <td>999</td>\n",
              "      <td>2021-09-05</td>\n",
              "      <td>350</td>\n",
              "    </tr>\n",
              "  </tbody>\n",
              "</table>\n",
              "<p>2083 rows × 3 columns</p>\n",
              "</div>"
            ],
            "text/plain": [
              "      linha_numero movimento_diario_data_mov  demanda_do_dia\n",
              "0                1                2021-08-29             232\n",
              "1                1                2021-08-31            9096\n",
              "2                1                2021-09-01            8888\n",
              "3                1                2021-09-02            8244\n",
              "4                1                2021-09-03            9020\n",
              "...            ...                       ...             ...\n",
              "2078           942                2021-09-05               2\n",
              "2079           991                2021-08-31              76\n",
              "2080           991                2021-09-01              55\n",
              "2081           991                2021-09-02              55\n",
              "2082           999                2021-09-05             350\n",
              "\n",
              "[2083 rows x 3 columns]"
            ]
          },
          "execution_count": 4,
          "metadata": {},
          "output_type": "execute_result"
        }
      ],
      "source": [
        "demanda_p_linha_dia"
      ]
    },
    {
      "cell_type": "code",
      "execution_count": 5,
      "metadata": {
        "id": "FY-N2BKjuX3i"
      },
      "outputs": [],
      "source": [
        "# Demanda por intervalo de tempo\n",
        "v[\"passageiro_data_hora\"] = pd.to_datetime(v[\"passageiro_data_hora\"])\n",
        "v[\"passageiro_hora_entrada\"] = v[\"passageiro_data_hora\"].dt.hour\n",
        "v[\"passageiro_hora_range\"] = pd.cut(v[\"passageiro_hora_entrada\"], bins=[-1, 4, 6, 9, 12, 15, 18, 21, float('Inf')], labels=['00-3h59', '4-5h59', '6-8h59', '9-11h59', '12-14h59', '15-17h59', '18-20h59', '21-23h59'])\n",
        "v_hora_range = v.groupby([\"linha_numero\", \"movimento_diario_data_mov\", \"passageiro_hora_range\"]).count()[\"passageiro_matricula\"].to_frame().reset_index()\n",
        "v_hora_range.dropna(inplace=True)"
      ]
    },
    {
      "cell_type": "code",
      "execution_count": 6,
      "metadata": {
        "colab": {
          "base_uri": "https://localhost:8080/",
          "height": 424
        },
        "id": "6Gx4dGKsuX3j",
        "outputId": "cb247567-2763-4459-d818-b719caf42ec3"
      },
      "outputs": [
        {
          "data": {
            "text/html": [
              "<div>\n",
              "<style scoped>\n",
              "    .dataframe tbody tr th:only-of-type {\n",
              "        vertical-align: middle;\n",
              "    }\n",
              "\n",
              "    .dataframe tbody tr th {\n",
              "        vertical-align: top;\n",
              "    }\n",
              "\n",
              "    .dataframe thead th {\n",
              "        text-align: right;\n",
              "    }\n",
              "</style>\n",
              "<table border=\"1\" class=\"dataframe\">\n",
              "  <thead>\n",
              "    <tr style=\"text-align: right;\">\n",
              "      <th></th>\n",
              "      <th>linha_numero</th>\n",
              "      <th>movimento_diario_data_mov</th>\n",
              "      <th>passageiro_hora_range</th>\n",
              "      <th>passageiro_matricula</th>\n",
              "    </tr>\n",
              "  </thead>\n",
              "  <tbody>\n",
              "    <tr>\n",
              "      <th>73</th>\n",
              "      <td>1</td>\n",
              "      <td>2021-08-29</td>\n",
              "      <td>4-5h59</td>\n",
              "      <td>4.0</td>\n",
              "    </tr>\n",
              "    <tr>\n",
              "      <th>74</th>\n",
              "      <td>1</td>\n",
              "      <td>2021-08-29</td>\n",
              "      <td>6-8h59</td>\n",
              "      <td>74.0</td>\n",
              "    </tr>\n",
              "    <tr>\n",
              "      <th>75</th>\n",
              "      <td>1</td>\n",
              "      <td>2021-08-29</td>\n",
              "      <td>9-11h59</td>\n",
              "      <td>97.0</td>\n",
              "    </tr>\n",
              "    <tr>\n",
              "      <th>76</th>\n",
              "      <td>1</td>\n",
              "      <td>2021-08-29</td>\n",
              "      <td>12-14h59</td>\n",
              "      <td>57.0</td>\n",
              "    </tr>\n",
              "    <tr>\n",
              "      <th>88</th>\n",
              "      <td>1</td>\n",
              "      <td>2021-08-31</td>\n",
              "      <td>00-3h59</td>\n",
              "      <td>150.0</td>\n",
              "    </tr>\n",
              "    <tr>\n",
              "      <th>...</th>\n",
              "      <td>...</td>\n",
              "      <td>...</td>\n",
              "      <td>...</td>\n",
              "      <td>...</td>\n",
              "    </tr>\n",
              "    <tr>\n",
              "      <th>47973</th>\n",
              "      <td>991</td>\n",
              "      <td>2021-08-31</td>\n",
              "      <td>15-17h59</td>\n",
              "      <td>75.0</td>\n",
              "    </tr>\n",
              "    <tr>\n",
              "      <th>47981</th>\n",
              "      <td>991</td>\n",
              "      <td>2021-09-01</td>\n",
              "      <td>15-17h59</td>\n",
              "      <td>55.0</td>\n",
              "    </tr>\n",
              "    <tr>\n",
              "      <th>47989</th>\n",
              "      <td>991</td>\n",
              "      <td>2021-09-02</td>\n",
              "      <td>15-17h59</td>\n",
              "      <td>55.0</td>\n",
              "    </tr>\n",
              "    <tr>\n",
              "      <th>48164</th>\n",
              "      <td>999</td>\n",
              "      <td>2021-09-05</td>\n",
              "      <td>12-14h59</td>\n",
              "      <td>82.0</td>\n",
              "    </tr>\n",
              "    <tr>\n",
              "      <th>48165</th>\n",
              "      <td>999</td>\n",
              "      <td>2021-09-05</td>\n",
              "      <td>15-17h59</td>\n",
              "      <td>268.0</td>\n",
              "    </tr>\n",
              "  </tbody>\n",
              "</table>\n",
              "<p>14495 rows × 4 columns</p>\n",
              "</div>"
            ],
            "text/plain": [
              "       linha_numero movimento_diario_data_mov passageiro_hora_range  \\\n",
              "73                1                2021-08-29                4-5h59   \n",
              "74                1                2021-08-29                6-8h59   \n",
              "75                1                2021-08-29               9-11h59   \n",
              "76                1                2021-08-29              12-14h59   \n",
              "88                1                2021-08-31               00-3h59   \n",
              "...             ...                       ...                   ...   \n",
              "47973           991                2021-08-31              15-17h59   \n",
              "47981           991                2021-09-01              15-17h59   \n",
              "47989           991                2021-09-02              15-17h59   \n",
              "48164           999                2021-09-05              12-14h59   \n",
              "48165           999                2021-09-05              15-17h59   \n",
              "\n",
              "       passageiro_matricula  \n",
              "73                      4.0  \n",
              "74                     74.0  \n",
              "75                     97.0  \n",
              "76                     57.0  \n",
              "88                    150.0  \n",
              "...                     ...  \n",
              "47973                  75.0  \n",
              "47981                  55.0  \n",
              "47989                  55.0  \n",
              "48164                  82.0  \n",
              "48165                 268.0  \n",
              "\n",
              "[14495 rows x 4 columns]"
            ]
          },
          "execution_count": 6,
          "metadata": {},
          "output_type": "execute_result"
        }
      ],
      "source": [
        "v_hora_range"
      ]
    },
    {
      "cell_type": "code",
      "execution_count": 7,
      "metadata": {
        "id": "THAG0VyTuX3k"
      },
      "outputs": [],
      "source": [
        "# Dias da semana\n",
        "days_week ={\n",
        "    0: 'Segunda', \n",
        "    1: 'Terça', \n",
        "    2: 'Quarta', \n",
        "    3: 'Quinta', \n",
        "    4: 'Sexta',\n",
        "    5: 'Sábado', \n",
        "    6: 'Domingo'\n",
        "}\n",
        "\n",
        "v_hora_range[\"movimento_diario_data_mov\"] = pd.to_datetime(v_hora_range[\"movimento_diario_data_mov\"])\n",
        "\n",
        "def eh_domingo(dia_semana):\n",
        "    if dia_semana == \"Domingo\":\n",
        "        return 1\n",
        "    else:\n",
        "        return 0\n",
        "\n",
        "v_hora_range[\"Dia_Semana\"] = v_hora_range.movimento_diario_data_mov.dt.weekday\n",
        "v_hora_range[\"Dia_Semana\"] = v_hora_range.Dia_Semana.map(days_week)\n",
        "v_hora_range[\"Domingo\"] = v_hora_range[\"Dia_Semana\"].map(eh_domingo)"
      ]
    },
    {
      "cell_type": "markdown",
      "metadata": {},
      "source": [
        " Variável de km da rota"
      ]
    },
    {
      "cell_type": "code",
      "execution_count": 8,
      "metadata": {
        "id": "XfHv8UQJuX3l"
      },
      "outputs": [],
      "source": [
        "\n",
        "linha_p_km_programado = fgr[[\"fechamento_data\", \"linha_numero\", \"linha_km_programado\"]].drop_duplicates()\n",
        "linha_p_km_programado = linha_p_km_programado[linha_p_km_programado.linha_km_programado != 0]\n",
        "linha_demanda_km = demanda_p_linha_dia.merge(linha_p_km_programado, how=\"inner\", left_on=[\"linha_numero\", \"movimento_diario_data_mov\"], right_on=[\"linha_numero\",\"fechamento_data\"])\n",
        "linha_demanda_km.drop(columns=[\"fechamento_data\"], inplace=True)\n",
        "linha_demanda_km = linha_demanda_km.groupby([\"linha_numero\"]).mean()[[\"linha_km_programado\"]].reset_index()\n",
        "dataset_model = v_hora_range.merge(linha_demanda_km, how=\"inner\", on=\"linha_numero\")"
      ]
    },
    {
      "cell_type": "markdown",
      "metadata": {},
      "source": [
        "Maior IDH de bairro em que a rota passa"
      ]
    },
    {
      "cell_type": "code",
      "execution_count": 9,
      "metadata": {
        "id": "PF3IwqmtuX3m"
      },
      "outputs": [],
      "source": [
        "rota_paradas_merged = rota_paradas.merge(paradas, how=\"inner\", on=\"stop_id\")\n",
        "rota_paradas_merged = rota_paradas_merged.merge(rotas, how=\"inner\", on=\"route_id\")\n",
        "rotas_paradas_clean = rota_paradas_merged[[\"route_id\", \"stop_sequence\", \"district\", \"city\"]]\n",
        "rotas_paradas_demanda = rotas_paradas_clean.merge(demanda_p_linha_dia, how=\"inner\", left_on=\"route_id\", right_on=\"linha_numero\")\n",
        "rotas_paradas_demanda.drop(columns=[\"route_id\", \"stop_sequence\"], inplace=True)\n",
        "rotas_paradas_demanda = rotas_paradas_demanda[rotas_paradas_demanda[\"city\"] == \"Fortaleza\"]"
      ]
    },
    {
      "cell_type": "code",
      "execution_count": 10,
      "metadata": {
        "colab": {
          "base_uri": "https://localhost:8080/"
        },
        "id": "xgJfD2J5vrNr",
        "outputId": "e2d5d937-321e-4884-b039-b6f5a1f6cf19"
      },
      "outputs": [
        {
          "name": "stdout",
          "output_type": "stream",
          "text": [
            "Requirement already satisfied: unidecode in c:\\users\\usuario\\anaconda3\\lib\\site-packages (1.3.4)\n"
          ]
        }
      ],
      "source": [
        "!pip install unidecode"
      ]
    },
    {
      "cell_type": "code",
      "execution_count": 11,
      "metadata": {
        "id": "ZuuGUoXwuX3m"
      },
      "outputs": [],
      "source": [
        "# Retira acentos e barras (/ + termo) dos nomes dos bairros\n",
        "from unidecode import unidecode\n",
        "\n",
        "district = []\n",
        "for index, row in rotas_paradas_demanda.iterrows():\n",
        "  district_without_punt = unidecode(row[\"district\"])\n",
        "  district_without_barra = district_without_punt.split(\"/\")[0]\n",
        "  if district_without_barra.startswith(\"Parque \"):\n",
        "    district_without_barra = district_without_barra.replace(\"Parque \", \"\")\n",
        "  if district_without_barra.startswith(\"Vila \"):\n",
        "    district_without_barra = district_without_barra.replace(\"Vila \", \"\")\n",
        "  if district_without_barra.startswith(\"Prefeito \"):\n",
        "    district_without_barra = district_without_barra.replace(\"Prefeito \", \"\")\n",
        "  district.append(district_without_barra.strip())\n",
        "rotas_paradas_demanda[\"Bairro\"] = district\n",
        "\n",
        "district = []\n",
        "for index, row in dados_bairros.iterrows():\n",
        "  district_without_punt = unidecode(row[\"Bairros\"])\n",
        "  district_without_barra = district_without_punt.split(\"/\")[0]\n",
        "  if district_without_barra.startswith(\"Parque \"):\n",
        "    district_without_barra = district_without_barra.replace(\"Parque \", \"\")\n",
        "  if district_without_barra.startswith(\"Vila \"):\n",
        "    district_without_barra = district_without_barra.replace(\"Vila \", \"\")\n",
        "  if district_without_barra.startswith(\"Prefeito \"):\n",
        "    district_without_barra = district_without_barra.replace(\"Prefeito \", \"\")\n",
        "  district.append(district_without_barra.strip())\n",
        "dados_bairros[\"Bairro\"] = district"
      ]
    },
    {
      "cell_type": "code",
      "execution_count": 12,
      "metadata": {
        "id": "xDap89ELuX3n"
      },
      "outputs": [],
      "source": [
        "rotas_paradas_demanda[\"Bairro\"] = rotas_paradas_demanda[\"Bairro\"].str.lower()\n",
        "rotas_paradas_demanda[\"Bairro\"] = rotas_paradas_demanda[\"Bairro\"].str.replace(\"ç\", \"c\")\n",
        "dados_bairros[\"Bairro\"] = dados_bairros[\"Bairro\"].str.lower()\n",
        "rotas_demanda_bairro = rotas_paradas_demanda.merge(dados_bairros, how=\"inner\", left_on=\"Bairro\", right_on=\"Bairro\")\n",
        "rotas_idh_max = rotas_demanda_bairro.groupby([\"linha_numero\"]).max()[[\"IDH em 2010[8]\"]].reset_index()\n",
        "dataset_model = dataset_model.merge(rotas_idh_max, how=\"inner\", on=\"linha_numero\")"
      ]
    },
    {
      "cell_type": "markdown",
      "metadata": {
        "id": "E0M4_y-6uX3o"
      },
      "source": [
        "Convertendo Hora Range e Linha Numero para Variavel Numérica"
      ]
    },
    {
      "cell_type": "code",
      "execution_count": 13,
      "metadata": {
        "id": "4RQ5Lk_0uX3o"
      },
      "outputs": [],
      "source": [
        "dataset_model = pd.concat([dataset_model, pd.get_dummies(dataset_model[\"passageiro_hora_range\"])], axis = 1)\n",
        "dataset_model = pd.concat([dataset_model, pd.get_dummies(dataset_model[\"linha_numero\"])], axis = 1)"
      ]
    },
    {
      "cell_type": "markdown",
      "metadata": {},
      "source": [
        "Limpeza de colunas"
      ]
    },
    {
      "cell_type": "code",
      "execution_count": 14,
      "metadata": {
        "id": "_R1OhIzCuX3o"
      },
      "outputs": [],
      "source": [
        "dataset_model.drop(columns=[\"Dia_Semana\", \"movimento_diario_data_mov\", \"linha_numero\", \"passageiro_hora_range\"], inplace=True)"
      ]
    },
    {
      "cell_type": "markdown",
      "metadata": {},
      "source": [
        "Renomeando colunas para facilitar tratativa"
      ]
    },
    {
      "cell_type": "code",
      "execution_count": 39,
      "metadata": {
        "id": "bp-Rvks-uX3p"
      },
      "outputs": [],
      "source": [
        "dataset_model.rename(columns={\"passageiro_hora_range\": \"hora_range\", \n",
        "                              \"passageiro_matricula\": \"demanda\",\n",
        "                              \"linha_km_programado\": \"linha_km\",\n",
        "                              \"IDH em 2010[8]\": \"idh_max\"}, inplace=True)"
      ]
    },
    {
      "cell_type": "markdown",
      "metadata": {},
      "source": [
        "Removendo valores nulos"
      ]
    },
    {
      "cell_type": "code",
      "execution_count": 16,
      "metadata": {
        "id": "jJlSjF_WuX3p"
      },
      "outputs": [],
      "source": [
        "dataset_model['demanda'] = dataset_model['demanda'].replace(0, np.nan)\n",
        "dataset_model.dropna(inplace=True)"
      ]
    },
    {
      "cell_type": "code",
      "execution_count": 40,
      "metadata": {},
      "outputs": [
        {
          "data": {
            "text/html": [
              "<div>\n",
              "<style scoped>\n",
              "    .dataframe tbody tr th:only-of-type {\n",
              "        vertical-align: middle;\n",
              "    }\n",
              "\n",
              "    .dataframe tbody tr th {\n",
              "        vertical-align: top;\n",
              "    }\n",
              "\n",
              "    .dataframe thead th {\n",
              "        text-align: right;\n",
              "    }\n",
              "</style>\n",
              "<table border=\"1\" class=\"dataframe\">\n",
              "  <thead>\n",
              "    <tr style=\"text-align: right;\">\n",
              "      <th></th>\n",
              "      <th>demanda</th>\n",
              "      <th>Domingo</th>\n",
              "      <th>linha_km</th>\n",
              "      <th>idh_max</th>\n",
              "      <th>00-3h59</th>\n",
              "      <th>4-5h59</th>\n",
              "      <th>6-8h59</th>\n",
              "      <th>9-11h59</th>\n",
              "      <th>12-14h59</th>\n",
              "      <th>15-17h59</th>\n",
              "      <th>...</th>\n",
              "      <th>833</th>\n",
              "      <th>835</th>\n",
              "      <th>836</th>\n",
              "      <th>841</th>\n",
              "      <th>855</th>\n",
              "      <th>901</th>\n",
              "      <th>906</th>\n",
              "      <th>907</th>\n",
              "      <th>913</th>\n",
              "      <th>920</th>\n",
              "    </tr>\n",
              "  </thead>\n",
              "  <tbody>\n",
              "    <tr>\n",
              "      <th>0</th>\n",
              "      <td>319.0</td>\n",
              "      <td>0</td>\n",
              "      <td>1165.120</td>\n",
              "      <td>0.762</td>\n",
              "      <td>0</td>\n",
              "      <td>0</td>\n",
              "      <td>1</td>\n",
              "      <td>0</td>\n",
              "      <td>0</td>\n",
              "      <td>0</td>\n",
              "      <td>...</td>\n",
              "      <td>0</td>\n",
              "      <td>0</td>\n",
              "      <td>0</td>\n",
              "      <td>0</td>\n",
              "      <td>0</td>\n",
              "      <td>0</td>\n",
              "      <td>0</td>\n",
              "      <td>0</td>\n",
              "      <td>0</td>\n",
              "      <td>0</td>\n",
              "    </tr>\n",
              "    <tr>\n",
              "      <th>1</th>\n",
              "      <td>398.0</td>\n",
              "      <td>0</td>\n",
              "      <td>1165.120</td>\n",
              "      <td>0.762</td>\n",
              "      <td>0</td>\n",
              "      <td>0</td>\n",
              "      <td>0</td>\n",
              "      <td>1</td>\n",
              "      <td>0</td>\n",
              "      <td>0</td>\n",
              "      <td>...</td>\n",
              "      <td>0</td>\n",
              "      <td>0</td>\n",
              "      <td>0</td>\n",
              "      <td>0</td>\n",
              "      <td>0</td>\n",
              "      <td>0</td>\n",
              "      <td>0</td>\n",
              "      <td>0</td>\n",
              "      <td>0</td>\n",
              "      <td>0</td>\n",
              "    </tr>\n",
              "    <tr>\n",
              "      <th>2</th>\n",
              "      <td>557.0</td>\n",
              "      <td>0</td>\n",
              "      <td>1165.120</td>\n",
              "      <td>0.762</td>\n",
              "      <td>0</td>\n",
              "      <td>0</td>\n",
              "      <td>0</td>\n",
              "      <td>0</td>\n",
              "      <td>1</td>\n",
              "      <td>0</td>\n",
              "      <td>...</td>\n",
              "      <td>0</td>\n",
              "      <td>0</td>\n",
              "      <td>0</td>\n",
              "      <td>0</td>\n",
              "      <td>0</td>\n",
              "      <td>0</td>\n",
              "      <td>0</td>\n",
              "      <td>0</td>\n",
              "      <td>0</td>\n",
              "      <td>0</td>\n",
              "    </tr>\n",
              "    <tr>\n",
              "      <th>3</th>\n",
              "      <td>979.0</td>\n",
              "      <td>0</td>\n",
              "      <td>1165.120</td>\n",
              "      <td>0.762</td>\n",
              "      <td>0</td>\n",
              "      <td>0</td>\n",
              "      <td>0</td>\n",
              "      <td>0</td>\n",
              "      <td>0</td>\n",
              "      <td>1</td>\n",
              "      <td>...</td>\n",
              "      <td>0</td>\n",
              "      <td>0</td>\n",
              "      <td>0</td>\n",
              "      <td>0</td>\n",
              "      <td>0</td>\n",
              "      <td>0</td>\n",
              "      <td>0</td>\n",
              "      <td>0</td>\n",
              "      <td>0</td>\n",
              "      <td>0</td>\n",
              "    </tr>\n",
              "    <tr>\n",
              "      <th>4</th>\n",
              "      <td>76.0</td>\n",
              "      <td>0</td>\n",
              "      <td>1165.120</td>\n",
              "      <td>0.762</td>\n",
              "      <td>0</td>\n",
              "      <td>0</td>\n",
              "      <td>0</td>\n",
              "      <td>0</td>\n",
              "      <td>0</td>\n",
              "      <td>0</td>\n",
              "      <td>...</td>\n",
              "      <td>0</td>\n",
              "      <td>0</td>\n",
              "      <td>0</td>\n",
              "      <td>0</td>\n",
              "      <td>0</td>\n",
              "      <td>0</td>\n",
              "      <td>0</td>\n",
              "      <td>0</td>\n",
              "      <td>0</td>\n",
              "      <td>0</td>\n",
              "    </tr>\n",
              "    <tr>\n",
              "      <th>...</th>\n",
              "      <td>...</td>\n",
              "      <td>...</td>\n",
              "      <td>...</td>\n",
              "      <td>...</td>\n",
              "      <td>...</td>\n",
              "      <td>...</td>\n",
              "      <td>...</td>\n",
              "      <td>...</td>\n",
              "      <td>...</td>\n",
              "      <td>...</td>\n",
              "      <td>...</td>\n",
              "      <td>...</td>\n",
              "      <td>...</td>\n",
              "      <td>...</td>\n",
              "      <td>...</td>\n",
              "      <td>...</td>\n",
              "      <td>...</td>\n",
              "      <td>...</td>\n",
              "      <td>...</td>\n",
              "      <td>...</td>\n",
              "      <td>...</td>\n",
              "    </tr>\n",
              "    <tr>\n",
              "      <th>12465</th>\n",
              "      <td>282.0</td>\n",
              "      <td>0</td>\n",
              "      <td>1157.175</td>\n",
              "      <td>0.530</td>\n",
              "      <td>0</td>\n",
              "      <td>0</td>\n",
              "      <td>0</td>\n",
              "      <td>1</td>\n",
              "      <td>0</td>\n",
              "      <td>0</td>\n",
              "      <td>...</td>\n",
              "      <td>0</td>\n",
              "      <td>0</td>\n",
              "      <td>0</td>\n",
              "      <td>0</td>\n",
              "      <td>0</td>\n",
              "      <td>0</td>\n",
              "      <td>0</td>\n",
              "      <td>0</td>\n",
              "      <td>0</td>\n",
              "      <td>1</td>\n",
              "    </tr>\n",
              "    <tr>\n",
              "      <th>12466</th>\n",
              "      <td>352.0</td>\n",
              "      <td>0</td>\n",
              "      <td>1157.175</td>\n",
              "      <td>0.530</td>\n",
              "      <td>0</td>\n",
              "      <td>0</td>\n",
              "      <td>0</td>\n",
              "      <td>0</td>\n",
              "      <td>1</td>\n",
              "      <td>0</td>\n",
              "      <td>...</td>\n",
              "      <td>0</td>\n",
              "      <td>0</td>\n",
              "      <td>0</td>\n",
              "      <td>0</td>\n",
              "      <td>0</td>\n",
              "      <td>0</td>\n",
              "      <td>0</td>\n",
              "      <td>0</td>\n",
              "      <td>0</td>\n",
              "      <td>1</td>\n",
              "    </tr>\n",
              "    <tr>\n",
              "      <th>12467</th>\n",
              "      <td>614.0</td>\n",
              "      <td>0</td>\n",
              "      <td>1157.175</td>\n",
              "      <td>0.530</td>\n",
              "      <td>0</td>\n",
              "      <td>0</td>\n",
              "      <td>0</td>\n",
              "      <td>0</td>\n",
              "      <td>0</td>\n",
              "      <td>1</td>\n",
              "      <td>...</td>\n",
              "      <td>0</td>\n",
              "      <td>0</td>\n",
              "      <td>0</td>\n",
              "      <td>0</td>\n",
              "      <td>0</td>\n",
              "      <td>0</td>\n",
              "      <td>0</td>\n",
              "      <td>0</td>\n",
              "      <td>0</td>\n",
              "      <td>1</td>\n",
              "    </tr>\n",
              "    <tr>\n",
              "      <th>12468</th>\n",
              "      <td>185.0</td>\n",
              "      <td>0</td>\n",
              "      <td>1157.175</td>\n",
              "      <td>0.530</td>\n",
              "      <td>0</td>\n",
              "      <td>0</td>\n",
              "      <td>0</td>\n",
              "      <td>0</td>\n",
              "      <td>0</td>\n",
              "      <td>0</td>\n",
              "      <td>...</td>\n",
              "      <td>0</td>\n",
              "      <td>0</td>\n",
              "      <td>0</td>\n",
              "      <td>0</td>\n",
              "      <td>0</td>\n",
              "      <td>0</td>\n",
              "      <td>0</td>\n",
              "      <td>0</td>\n",
              "      <td>0</td>\n",
              "      <td>1</td>\n",
              "    </tr>\n",
              "    <tr>\n",
              "      <th>12469</th>\n",
              "      <td>36.0</td>\n",
              "      <td>0</td>\n",
              "      <td>1157.175</td>\n",
              "      <td>0.530</td>\n",
              "      <td>0</td>\n",
              "      <td>0</td>\n",
              "      <td>0</td>\n",
              "      <td>0</td>\n",
              "      <td>0</td>\n",
              "      <td>0</td>\n",
              "      <td>...</td>\n",
              "      <td>0</td>\n",
              "      <td>0</td>\n",
              "      <td>0</td>\n",
              "      <td>0</td>\n",
              "      <td>0</td>\n",
              "      <td>0</td>\n",
              "      <td>0</td>\n",
              "      <td>0</td>\n",
              "      <td>0</td>\n",
              "      <td>1</td>\n",
              "    </tr>\n",
              "  </tbody>\n",
              "</table>\n",
              "<p>12470 rows × 275 columns</p>\n",
              "</div>"
            ],
            "text/plain": [
              "       demanda  Domingo  linha_km  idh_max  00-3h59  4-5h59  6-8h59  9-11h59  \\\n",
              "0        319.0        0  1165.120    0.762        0       0       1        0   \n",
              "1        398.0        0  1165.120    0.762        0       0       0        1   \n",
              "2        557.0        0  1165.120    0.762        0       0       0        0   \n",
              "3        979.0        0  1165.120    0.762        0       0       0        0   \n",
              "4         76.0        0  1165.120    0.762        0       0       0        0   \n",
              "...        ...      ...       ...      ...      ...     ...     ...      ...   \n",
              "12465    282.0        0  1157.175    0.530        0       0       0        1   \n",
              "12466    352.0        0  1157.175    0.530        0       0       0        0   \n",
              "12467    614.0        0  1157.175    0.530        0       0       0        0   \n",
              "12468    185.0        0  1157.175    0.530        0       0       0        0   \n",
              "12469     36.0        0  1157.175    0.530        0       0       0        0   \n",
              "\n",
              "       12-14h59  15-17h59  ...  833  835  836  841  855  901  906  907  913  \\\n",
              "0             0         0  ...    0    0    0    0    0    0    0    0    0   \n",
              "1             0         0  ...    0    0    0    0    0    0    0    0    0   \n",
              "2             1         0  ...    0    0    0    0    0    0    0    0    0   \n",
              "3             0         1  ...    0    0    0    0    0    0    0    0    0   \n",
              "4             0         0  ...    0    0    0    0    0    0    0    0    0   \n",
              "...         ...       ...  ...  ...  ...  ...  ...  ...  ...  ...  ...  ...   \n",
              "12465         0         0  ...    0    0    0    0    0    0    0    0    0   \n",
              "12466         1         0  ...    0    0    0    0    0    0    0    0    0   \n",
              "12467         0         1  ...    0    0    0    0    0    0    0    0    0   \n",
              "12468         0         0  ...    0    0    0    0    0    0    0    0    0   \n",
              "12469         0         0  ...    0    0    0    0    0    0    0    0    0   \n",
              "\n",
              "       920  \n",
              "0        0  \n",
              "1        0  \n",
              "2        0  \n",
              "3        0  \n",
              "4        0  \n",
              "...    ...  \n",
              "12465    1  \n",
              "12466    1  \n",
              "12467    1  \n",
              "12468    1  \n",
              "12469    1  \n",
              "\n",
              "[12470 rows x 275 columns]"
            ]
          },
          "execution_count": 40,
          "metadata": {},
          "output_type": "execute_result"
        }
      ],
      "source": [
        "dataset_model"
      ]
    },
    {
      "cell_type": "markdown",
      "metadata": {
        "id": "_Pp7eEjtuX3p"
      },
      "source": [
        "# Pre Processamento"
      ]
    },
    {
      "cell_type": "code",
      "execution_count": 17,
      "metadata": {
        "id": "dvGzu_KguX3p"
      },
      "outputs": [],
      "source": [
        "X = dataset_model.drop(columns=[\"demanda\"]).values\n",
        "Y = dataset_model[\"demanda\"].values"
      ]
    },
    {
      "cell_type": "markdown",
      "metadata": {},
      "source": [
        "Normalização dos Dados"
      ]
    },
    {
      "cell_type": "code",
      "execution_count": 18,
      "metadata": {
        "id": "fvvpuWPPuX3q"
      },
      "outputs": [],
      "source": [
        "from sklearn.preprocessing import StandardScaler\n",
        "standard = StandardScaler()\n",
        "\n",
        "X = standard.fit_transform(X)"
      ]
    },
    {
      "cell_type": "code",
      "execution_count": 19,
      "metadata": {
        "colab": {
          "base_uri": "https://localhost:8080/"
        },
        "id": "hhq4XFg-uX3q",
        "outputId": "a0d00a82-674e-444a-9c1e-93e36c1953fa"
      },
      "outputs": [
        {
          "data": {
            "text/plain": [
              "array([[-0.37452726,  0.50449666,  1.0069873 , ..., -0.06280869,\n",
              "        -0.06594867, -0.06716425],\n",
              "       [-0.37452726,  0.50449666,  1.0069873 , ..., -0.06280869,\n",
              "        -0.06594867, -0.06716425],\n",
              "       [-0.37452726,  0.50449666,  1.0069873 , ..., -0.06280869,\n",
              "        -0.06594867, -0.06716425],\n",
              "       ...,\n",
              "       [-0.37452726,  0.49316187, -0.15392117, ..., -0.06280869,\n",
              "        -0.06594867, 14.88887408],\n",
              "       [-0.37452726,  0.49316187, -0.15392117, ..., -0.06280869,\n",
              "        -0.06594867, 14.88887408],\n",
              "       [-0.37452726,  0.49316187, -0.15392117, ..., -0.06280869,\n",
              "        -0.06594867, 14.88887408]])"
            ]
          },
          "execution_count": 19,
          "metadata": {},
          "output_type": "execute_result"
        }
      ],
      "source": [
        "X"
      ]
    },
    {
      "cell_type": "code",
      "execution_count": 20,
      "metadata": {
        "id": "L000h3j5uX3q"
      },
      "outputs": [],
      "source": [
        "X_train, X_test, y_train, y_test = train_test_split(X, Y, train_size=0.75, test_size=0.25, random_state=123)"
      ]
    },
    {
      "cell_type": "markdown",
      "metadata": {},
      "source": [
        "# Modelagem"
      ]
    },
    {
      "cell_type": "markdown",
      "metadata": {},
      "source": [
        "Linear Regression "
      ]
    },
    {
      "cell_type": "code",
      "execution_count": 21,
      "metadata": {
        "id": "0188w4-xuX3q"
      },
      "outputs": [],
      "source": [
        "linear_regression = LinearRegression()\n",
        "linear_regression.fit(X_train, y_train)\n",
        "results = linear_regression.predict(X_test)"
      ]
    },
    {
      "cell_type": "code",
      "execution_count": 22,
      "metadata": {
        "colab": {
          "base_uri": "https://localhost:8080/"
        },
        "id": "tJXVKHD7uX3q",
        "outputId": "d0315a25-0fcc-4916-9f30-c0b60d9d5866"
      },
      "outputs": [
        {
          "data": {
            "text/plain": [
              "array([ 390.79321447, -254.18334803,   28.76587072, ...,   15.42993322,\n",
              "         98.34008947,  286.45727697])"
            ]
          },
          "execution_count": 22,
          "metadata": {},
          "output_type": "execute_result"
        }
      ],
      "source": [
        "results"
      ]
    },
    {
      "cell_type": "code",
      "execution_count": 23,
      "metadata": {
        "colab": {
          "base_uri": "https://localhost:8080/"
        },
        "id": "-8lh2RB7uX3q",
        "outputId": "b332b201-6016-466a-f961-df63aab55a0f"
      },
      "outputs": [
        {
          "data": {
            "text/plain": [
              "124.4057992931102"
            ]
          },
          "execution_count": 23,
          "metadata": {},
          "output_type": "execute_result"
        }
      ],
      "source": [
        "mean_absolute_error(y_test, results)"
      ]
    },
    {
      "cell_type": "code",
      "execution_count": 24,
      "metadata": {
        "colab": {
          "base_uri": "https://localhost:8080/"
        },
        "id": "NbY_lWy8uX3r",
        "outputId": "ec2bf683-7e21-47db-8a82-1a399f5df145"
      },
      "outputs": [
        {
          "data": {
            "text/plain": [
              "191.6927198648643"
            ]
          },
          "execution_count": 24,
          "metadata": {},
          "output_type": "execute_result"
        }
      ],
      "source": [
        "np.sqrt(mean_squared_error(y_test, results))"
      ]
    },
    {
      "cell_type": "code",
      "execution_count": 25,
      "metadata": {
        "colab": {
          "base_uri": "https://localhost:8080/"
        },
        "id": "QjBU-MOSuX3r",
        "outputId": "7f4b0bde-3559-49a0-b0f5-4680b1f7b088"
      },
      "outputs": [
        {
          "data": {
            "text/plain": [
              "0.625795885012751"
            ]
          },
          "execution_count": 25,
          "metadata": {},
          "output_type": "execute_result"
        }
      ],
      "source": [
        "r2_score(y_test, results)"
      ]
    },
    {
      "cell_type": "markdown",
      "metadata": {
        "id": "8MjjcgiyuX3r"
      },
      "source": [
        "Lasso"
      ]
    },
    {
      "cell_type": "code",
      "execution_count": 26,
      "metadata": {
        "id": "vgQMJtDpuX3r"
      },
      "outputs": [],
      "source": [
        "lasso = Lasso()\n",
        "lasso.fit(X_train, y_train)\n",
        "results = lasso.predict(X_test)"
      ]
    },
    {
      "cell_type": "code",
      "execution_count": 27,
      "metadata": {
        "colab": {
          "base_uri": "https://localhost:8080/"
        },
        "id": "vK_CYk7NuX3r",
        "outputId": "db8c532a-1857-4be2-8786-884c771bdebb"
      },
      "outputs": [
        {
          "data": {
            "text/plain": [
              "123.35784751326581"
            ]
          },
          "execution_count": 27,
          "metadata": {},
          "output_type": "execute_result"
        }
      ],
      "source": [
        "mean_absolute_error(y_test, results)"
      ]
    },
    {
      "cell_type": "code",
      "execution_count": 28,
      "metadata": {
        "colab": {
          "base_uri": "https://localhost:8080/"
        },
        "id": "5tD36P2UuX3s",
        "outputId": "bcd41585-a479-484c-8e2f-5fc99371b71f"
      },
      "outputs": [
        {
          "data": {
            "text/plain": [
              "191.41671716113615"
            ]
          },
          "execution_count": 28,
          "metadata": {},
          "output_type": "execute_result"
        }
      ],
      "source": [
        "np.sqrt(mean_squared_error(y_test, results))"
      ]
    },
    {
      "cell_type": "code",
      "execution_count": 29,
      "metadata": {
        "colab": {
          "base_uri": "https://localhost:8080/"
        },
        "id": "bwxjXPMiuX3s",
        "outputId": "14987be1-d484-43a6-d5e6-f4fcc344b027"
      },
      "outputs": [
        {
          "data": {
            "text/plain": [
              "0.626872681193259"
            ]
          },
          "execution_count": 29,
          "metadata": {},
          "output_type": "execute_result"
        }
      ],
      "source": [
        "r2_score(y_test, results)"
      ]
    },
    {
      "cell_type": "markdown",
      "metadata": {
        "id": "6aInUl7iuX3s"
      },
      "source": [
        "Ridge"
      ]
    },
    {
      "cell_type": "code",
      "execution_count": 30,
      "metadata": {
        "id": "ntSRBYGduX3s"
      },
      "outputs": [],
      "source": [
        "ridge_classifier = RidgeClassifier()\n",
        "ridge_classifier.fit(X_train, y_train)\n",
        "results = ridge_classifier.predict(X_test)"
      ]
    },
    {
      "cell_type": "code",
      "execution_count": 31,
      "metadata": {
        "colab": {
          "base_uri": "https://localhost:8080/"
        },
        "id": "zzX1lZH8uX3s",
        "outputId": "fdb55727-7c40-4576-dd78-651e8b3281c9"
      },
      "outputs": [
        {
          "data": {
            "text/plain": [
              "163.1555484284798"
            ]
          },
          "execution_count": 31,
          "metadata": {},
          "output_type": "execute_result"
        }
      ],
      "source": [
        "mean_absolute_error(y_test, results)"
      ]
    },
    {
      "cell_type": "code",
      "execution_count": 32,
      "metadata": {
        "colab": {
          "base_uri": "https://localhost:8080/"
        },
        "id": "Vl_DKZIpuX3s",
        "outputId": "f34430e5-8f0c-417b-8155-63b39bf41852"
      },
      "outputs": [
        {
          "data": {
            "text/plain": [
              "306.92846884963024"
            ]
          },
          "execution_count": 32,
          "metadata": {},
          "output_type": "execute_result"
        }
      ],
      "source": [
        "np.sqrt(mean_squared_error(y_test, results))"
      ]
    },
    {
      "cell_type": "code",
      "execution_count": 33,
      "metadata": {
        "colab": {
          "base_uri": "https://localhost:8080/"
        },
        "id": "m0Za_sQNuX3s",
        "outputId": "0cbe7c4b-2acb-4b3d-8cdb-1c97af1e1f5b"
      },
      "outputs": [
        {
          "data": {
            "text/plain": [
              "0.04066195976880327"
            ]
          },
          "execution_count": 33,
          "metadata": {},
          "output_type": "execute_result"
        }
      ],
      "source": [
        "r2_score(y_test, results)"
      ]
    },
    {
      "cell_type": "markdown",
      "metadata": {
        "id": "XKBIKrS-uX3s"
      },
      "source": [
        "ElasticNet"
      ]
    },
    {
      "cell_type": "code",
      "execution_count": 34,
      "metadata": {
        "id": "KvTHiEDYuX3t"
      },
      "outputs": [],
      "source": [
        "elastic_net = ElasticNet()\n",
        "elastic_net.fit(X_train, y_train)\n",
        "results = elastic_net.predict(X_test)"
      ]
    },
    {
      "cell_type": "code",
      "execution_count": 35,
      "metadata": {
        "colab": {
          "base_uri": "https://localhost:8080/"
        },
        "id": "TCnzNYyhuX3t",
        "outputId": "8055dbfa-67ce-4669-acb2-1c7c541b1d81"
      },
      "outputs": [
        {
          "data": {
            "text/plain": [
              "120.38080637700563"
            ]
          },
          "execution_count": 35,
          "metadata": {},
          "output_type": "execute_result"
        }
      ],
      "source": [
        "mean_absolute_error(y_test, results)"
      ]
    },
    {
      "cell_type": "code",
      "execution_count": 36,
      "metadata": {
        "colab": {
          "base_uri": "https://localhost:8080/"
        },
        "id": "in-F0i0ZuX3t",
        "outputId": "4d865fc3-c69d-4599-d17b-93b693b85e17"
      },
      "outputs": [
        {
          "data": {
            "text/plain": [
              "201.54985301290134"
            ]
          },
          "execution_count": 36,
          "metadata": {},
          "output_type": "execute_result"
        }
      ],
      "source": [
        "np.sqrt(mean_squared_error(y_test, results))"
      ]
    },
    {
      "cell_type": "code",
      "execution_count": 37,
      "metadata": {
        "colab": {
          "base_uri": "https://localhost:8080/"
        },
        "id": "Lf3i5uT3uX3t",
        "outputId": "9aafcbc9-4127-480f-c7c6-d13d82bab34e"
      },
      "outputs": [
        {
          "data": {
            "text/plain": [
              "0.5863221272336225"
            ]
          },
          "execution_count": 37,
          "metadata": {},
          "output_type": "execute_result"
        }
      ],
      "source": [
        "r2_score(y_test, results)"
      ]
    }
  ],
  "metadata": {
    "colab": {
      "collapsed_sections": [],
      "name": "modelagem.ipynb",
      "provenance": []
    },
    "interpreter": {
      "hash": "5eba2f6daac758e0c4eb74cbbf3fd787eaf14bd08a71327f2f2275e3d00aa03b"
    },
    "kernelspec": {
      "display_name": "Python 3.8.8 ('base')",
      "language": "python",
      "name": "python3"
    },
    "language_info": {
      "codemirror_mode": {
        "name": "ipython",
        "version": 3
      },
      "file_extension": ".py",
      "mimetype": "text/x-python",
      "name": "python",
      "nbconvert_exporter": "python",
      "pygments_lexer": "ipython3",
      "version": "3.8.8"
    },
    "orig_nbformat": 4
  },
  "nbformat": 4,
  "nbformat_minor": 0
}
