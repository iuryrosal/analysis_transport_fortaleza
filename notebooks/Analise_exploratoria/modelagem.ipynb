{
 "cells": [
  {
   "cell_type": "code",
   "execution_count": 161,
   "metadata": {},
   "outputs": [],
   "source": [
    "import pandas as pd\n",
    "import numpy as np\n",
    "import seaborn as sb"
   ]
  },
  {
   "cell_type": "code",
   "execution_count": 162,
   "metadata": {},
   "outputs": [],
   "source": [
    "v = pd.read_csv(\"../../data/processed/V.csv\")\n",
    "fgr = pd.read_csv(\"../../data/processed/FGR.csv\", decimal=\",\")\n",
    "paradas = pd.read_csv(\"../../data/raw/paradas.csv\")\n",
    "rota_paradas = pd.read_csv(\"../../data/raw/rota_paradas.csv\")\n",
    "rotas = pd.read_csv(\"../../data/raw/rotas.csv\")\n",
    "dados_bairros = pd.read_csv(\"../../data/raw/dados_bairros.csv\")"
   ]
  },
  {
   "cell_type": "markdown",
   "metadata": {},
   "source": [
    "- Demanda\n",
    "- Tamanho da linha\n",
    "- Horario\n",
    "- IDH dos bairros\n",
    "- É domingo?"
   ]
  },
  {
   "cell_type": "code",
   "execution_count": 163,
   "metadata": {},
   "outputs": [],
   "source": [
    "demanda_p_linha_dia = v.groupby([\"linha_numero\", \"movimento_diario_data_mov\"]).count()[\"passageiro_matricula\"].to_frame().reset_index()\n",
    "demanda_p_linha_dia.rename(columns={\"passageiro_matricula\": \"demanda_do_dia\"}, inplace = True)"
   ]
  },
  {
   "cell_type": "code",
   "execution_count": 164,
   "metadata": {},
   "outputs": [
    {
     "data": {
      "text/html": [
       "<div>\n",
       "<style scoped>\n",
       "    .dataframe tbody tr th:only-of-type {\n",
       "        vertical-align: middle;\n",
       "    }\n",
       "\n",
       "    .dataframe tbody tr th {\n",
       "        vertical-align: top;\n",
       "    }\n",
       "\n",
       "    .dataframe thead th {\n",
       "        text-align: right;\n",
       "    }\n",
       "</style>\n",
       "<table border=\"1\" class=\"dataframe\">\n",
       "  <thead>\n",
       "    <tr style=\"text-align: right;\">\n",
       "      <th></th>\n",
       "      <th>linha_numero</th>\n",
       "      <th>movimento_diario_data_mov</th>\n",
       "      <th>demanda_do_dia</th>\n",
       "    </tr>\n",
       "  </thead>\n",
       "  <tbody>\n",
       "    <tr>\n",
       "      <th>0</th>\n",
       "      <td>1</td>\n",
       "      <td>2021-08-29</td>\n",
       "      <td>232</td>\n",
       "    </tr>\n",
       "    <tr>\n",
       "      <th>1</th>\n",
       "      <td>1</td>\n",
       "      <td>2021-08-31</td>\n",
       "      <td>9096</td>\n",
       "    </tr>\n",
       "    <tr>\n",
       "      <th>2</th>\n",
       "      <td>1</td>\n",
       "      <td>2021-09-01</td>\n",
       "      <td>8888</td>\n",
       "    </tr>\n",
       "    <tr>\n",
       "      <th>3</th>\n",
       "      <td>1</td>\n",
       "      <td>2021-09-02</td>\n",
       "      <td>8244</td>\n",
       "    </tr>\n",
       "    <tr>\n",
       "      <th>4</th>\n",
       "      <td>1</td>\n",
       "      <td>2021-09-03</td>\n",
       "      <td>9020</td>\n",
       "    </tr>\n",
       "    <tr>\n",
       "      <th>...</th>\n",
       "      <td>...</td>\n",
       "      <td>...</td>\n",
       "      <td>...</td>\n",
       "    </tr>\n",
       "    <tr>\n",
       "      <th>2078</th>\n",
       "      <td>942</td>\n",
       "      <td>2021-09-05</td>\n",
       "      <td>2</td>\n",
       "    </tr>\n",
       "    <tr>\n",
       "      <th>2079</th>\n",
       "      <td>991</td>\n",
       "      <td>2021-08-31</td>\n",
       "      <td>76</td>\n",
       "    </tr>\n",
       "    <tr>\n",
       "      <th>2080</th>\n",
       "      <td>991</td>\n",
       "      <td>2021-09-01</td>\n",
       "      <td>55</td>\n",
       "    </tr>\n",
       "    <tr>\n",
       "      <th>2081</th>\n",
       "      <td>991</td>\n",
       "      <td>2021-09-02</td>\n",
       "      <td>55</td>\n",
       "    </tr>\n",
       "    <tr>\n",
       "      <th>2082</th>\n",
       "      <td>999</td>\n",
       "      <td>2021-09-05</td>\n",
       "      <td>350</td>\n",
       "    </tr>\n",
       "  </tbody>\n",
       "</table>\n",
       "<p>2083 rows × 3 columns</p>\n",
       "</div>"
      ],
      "text/plain": [
       "      linha_numero movimento_diario_data_mov  demanda_do_dia\n",
       "0                1                2021-08-29             232\n",
       "1                1                2021-08-31            9096\n",
       "2                1                2021-09-01            8888\n",
       "3                1                2021-09-02            8244\n",
       "4                1                2021-09-03            9020\n",
       "...            ...                       ...             ...\n",
       "2078           942                2021-09-05               2\n",
       "2079           991                2021-08-31              76\n",
       "2080           991                2021-09-01              55\n",
       "2081           991                2021-09-02              55\n",
       "2082           999                2021-09-05             350\n",
       "\n",
       "[2083 rows x 3 columns]"
      ]
     },
     "execution_count": 164,
     "metadata": {},
     "output_type": "execute_result"
    }
   ],
   "source": [
    "demanda_p_linha_dia"
   ]
  },
  {
   "cell_type": "code",
   "execution_count": 165,
   "metadata": {},
   "outputs": [],
   "source": [
    "# Demanda por intervalor de tempo\n",
    "v[\"passageiro_data_hora\"] = pd.to_datetime(v[\"passageiro_data_hora\"])\n",
    "v[\"passageiro_hora_entrada\"] = v[\"passageiro_data_hora\"].dt.hour\n",
    "v[\"passageiro_hora_range\"] = pd.cut(v[\"passageiro_hora_entrada\"], bins=[-1, 4, 6, 9, 12, 15, 18, 21, float('Inf')], labels=['00-3h59', '4-5h59', '6-8h59', '9-11h59', '12-14h59', '15-17h59', '18-20h59', '21-23h59'])\n",
    "v_hora_range = v.groupby([\"linha_numero\", \"movimento_diario_data_mov\", \"passageiro_hora_range\"]).count()[\"passageiro_matricula\"].to_frame().reset_index()\n",
    "v_hora_range.dropna(inplace=True)"
   ]
  },
  {
   "cell_type": "code",
   "execution_count": 166,
   "metadata": {},
   "outputs": [
    {
     "data": {
      "text/html": [
       "<div>\n",
       "<style scoped>\n",
       "    .dataframe tbody tr th:only-of-type {\n",
       "        vertical-align: middle;\n",
       "    }\n",
       "\n",
       "    .dataframe tbody tr th {\n",
       "        vertical-align: top;\n",
       "    }\n",
       "\n",
       "    .dataframe thead th {\n",
       "        text-align: right;\n",
       "    }\n",
       "</style>\n",
       "<table border=\"1\" class=\"dataframe\">\n",
       "  <thead>\n",
       "    <tr style=\"text-align: right;\">\n",
       "      <th></th>\n",
       "      <th>linha_numero</th>\n",
       "      <th>movimento_diario_data_mov</th>\n",
       "      <th>passageiro_hora_range</th>\n",
       "      <th>passageiro_matricula</th>\n",
       "    </tr>\n",
       "  </thead>\n",
       "  <tbody>\n",
       "    <tr>\n",
       "      <th>73</th>\n",
       "      <td>1</td>\n",
       "      <td>2021-08-29</td>\n",
       "      <td>4-5h59</td>\n",
       "      <td>4.0</td>\n",
       "    </tr>\n",
       "    <tr>\n",
       "      <th>74</th>\n",
       "      <td>1</td>\n",
       "      <td>2021-08-29</td>\n",
       "      <td>6-8h59</td>\n",
       "      <td>74.0</td>\n",
       "    </tr>\n",
       "    <tr>\n",
       "      <th>75</th>\n",
       "      <td>1</td>\n",
       "      <td>2021-08-29</td>\n",
       "      <td>9-11h59</td>\n",
       "      <td>97.0</td>\n",
       "    </tr>\n",
       "    <tr>\n",
       "      <th>76</th>\n",
       "      <td>1</td>\n",
       "      <td>2021-08-29</td>\n",
       "      <td>12-14h59</td>\n",
       "      <td>57.0</td>\n",
       "    </tr>\n",
       "    <tr>\n",
       "      <th>88</th>\n",
       "      <td>1</td>\n",
       "      <td>2021-08-31</td>\n",
       "      <td>00-3h59</td>\n",
       "      <td>150.0</td>\n",
       "    </tr>\n",
       "    <tr>\n",
       "      <th>...</th>\n",
       "      <td>...</td>\n",
       "      <td>...</td>\n",
       "      <td>...</td>\n",
       "      <td>...</td>\n",
       "    </tr>\n",
       "    <tr>\n",
       "      <th>47973</th>\n",
       "      <td>991</td>\n",
       "      <td>2021-08-31</td>\n",
       "      <td>15-17h59</td>\n",
       "      <td>75.0</td>\n",
       "    </tr>\n",
       "    <tr>\n",
       "      <th>47981</th>\n",
       "      <td>991</td>\n",
       "      <td>2021-09-01</td>\n",
       "      <td>15-17h59</td>\n",
       "      <td>55.0</td>\n",
       "    </tr>\n",
       "    <tr>\n",
       "      <th>47989</th>\n",
       "      <td>991</td>\n",
       "      <td>2021-09-02</td>\n",
       "      <td>15-17h59</td>\n",
       "      <td>55.0</td>\n",
       "    </tr>\n",
       "    <tr>\n",
       "      <th>48164</th>\n",
       "      <td>999</td>\n",
       "      <td>2021-09-05</td>\n",
       "      <td>12-14h59</td>\n",
       "      <td>82.0</td>\n",
       "    </tr>\n",
       "    <tr>\n",
       "      <th>48165</th>\n",
       "      <td>999</td>\n",
       "      <td>2021-09-05</td>\n",
       "      <td>15-17h59</td>\n",
       "      <td>268.0</td>\n",
       "    </tr>\n",
       "  </tbody>\n",
       "</table>\n",
       "<p>14495 rows × 4 columns</p>\n",
       "</div>"
      ],
      "text/plain": [
       "       linha_numero movimento_diario_data_mov passageiro_hora_range  \\\n",
       "73                1                2021-08-29                4-5h59   \n",
       "74                1                2021-08-29                6-8h59   \n",
       "75                1                2021-08-29               9-11h59   \n",
       "76                1                2021-08-29              12-14h59   \n",
       "88                1                2021-08-31               00-3h59   \n",
       "...             ...                       ...                   ...   \n",
       "47973           991                2021-08-31              15-17h59   \n",
       "47981           991                2021-09-01              15-17h59   \n",
       "47989           991                2021-09-02              15-17h59   \n",
       "48164           999                2021-09-05              12-14h59   \n",
       "48165           999                2021-09-05              15-17h59   \n",
       "\n",
       "       passageiro_matricula  \n",
       "73                      4.0  \n",
       "74                     74.0  \n",
       "75                     97.0  \n",
       "76                     57.0  \n",
       "88                    150.0  \n",
       "...                     ...  \n",
       "47973                  75.0  \n",
       "47981                  55.0  \n",
       "47989                  55.0  \n",
       "48164                  82.0  \n",
       "48165                 268.0  \n",
       "\n",
       "[14495 rows x 4 columns]"
      ]
     },
     "execution_count": 166,
     "metadata": {},
     "output_type": "execute_result"
    }
   ],
   "source": [
    "v_hora_range"
   ]
  },
  {
   "cell_type": "code",
   "execution_count": 167,
   "metadata": {},
   "outputs": [
    {
     "name": "stdout",
     "output_type": "stream",
     "text": [
      "<class 'pandas.core.frame.DataFrame'>\n",
      "Int64Index: 14495 entries, 73 to 48165\n",
      "Data columns (total 4 columns):\n",
      " #   Column                     Non-Null Count  Dtype   \n",
      "---  ------                     --------------  -----   \n",
      " 0   linha_numero               14495 non-null  int64   \n",
      " 1   movimento_diario_data_mov  14495 non-null  object  \n",
      " 2   passageiro_hora_range      14495 non-null  category\n",
      " 3   passageiro_matricula       14495 non-null  float64 \n",
      "dtypes: category(1), float64(1), int64(1), object(1)\n",
      "memory usage: 467.5+ KB\n"
     ]
    }
   ],
   "source": [
    "v_hora_range.info()"
   ]
  },
  {
   "cell_type": "code",
   "execution_count": 168,
   "metadata": {},
   "outputs": [],
   "source": [
    "days_week ={\n",
    "    0: 'Segunda', \n",
    "    1: 'Terça', \n",
    "    2: 'Quarta', \n",
    "    3: 'Quinta', \n",
    "    4: 'Sexta',\n",
    "    5: 'Sábado', \n",
    "    6: 'Domingo'\n",
    "}\n",
    "\n",
    "v_hora_range[\"movimento_diario_data_mov\"] = pd.to_datetime(v_hora_range[\"movimento_diario_data_mov\"])\n",
    "\n",
    "def eh_domingo(dia_semana):\n",
    "    if dia_semana == \"Domingo\":\n",
    "        return 1\n",
    "    else:\n",
    "        return 0\n",
    "\n",
    "v_hora_range[\"Dia_Semana\"] = v_hora_range.movimento_diario_data_mov.dt.weekday\n",
    "v_hora_range[\"Dia_Semana\"] = v_hora_range.Dia_Semana.map(days_week)\n",
    "v_hora_range[\"Domingo\"] = v_hora_range[\"Dia_Semana\"].map(eh_domingo)"
   ]
  },
  {
   "cell_type": "code",
   "execution_count": 169,
   "metadata": {},
   "outputs": [
    {
     "data": {
      "text/html": [
       "<div>\n",
       "<style scoped>\n",
       "    .dataframe tbody tr th:only-of-type {\n",
       "        vertical-align: middle;\n",
       "    }\n",
       "\n",
       "    .dataframe tbody tr th {\n",
       "        vertical-align: top;\n",
       "    }\n",
       "\n",
       "    .dataframe thead th {\n",
       "        text-align: right;\n",
       "    }\n",
       "</style>\n",
       "<table border=\"1\" class=\"dataframe\">\n",
       "  <thead>\n",
       "    <tr style=\"text-align: right;\">\n",
       "      <th></th>\n",
       "      <th>linha_numero</th>\n",
       "      <th>movimento_diario_data_mov</th>\n",
       "      <th>passageiro_hora_range</th>\n",
       "      <th>passageiro_matricula</th>\n",
       "      <th>Dia_Semana</th>\n",
       "      <th>Domingo</th>\n",
       "    </tr>\n",
       "  </thead>\n",
       "  <tbody>\n",
       "    <tr>\n",
       "      <th>73</th>\n",
       "      <td>1</td>\n",
       "      <td>2021-08-29</td>\n",
       "      <td>4-5h59</td>\n",
       "      <td>4.0</td>\n",
       "      <td>Domingo</td>\n",
       "      <td>1</td>\n",
       "    </tr>\n",
       "    <tr>\n",
       "      <th>74</th>\n",
       "      <td>1</td>\n",
       "      <td>2021-08-29</td>\n",
       "      <td>6-8h59</td>\n",
       "      <td>74.0</td>\n",
       "      <td>Domingo</td>\n",
       "      <td>1</td>\n",
       "    </tr>\n",
       "    <tr>\n",
       "      <th>75</th>\n",
       "      <td>1</td>\n",
       "      <td>2021-08-29</td>\n",
       "      <td>9-11h59</td>\n",
       "      <td>97.0</td>\n",
       "      <td>Domingo</td>\n",
       "      <td>1</td>\n",
       "    </tr>\n",
       "    <tr>\n",
       "      <th>76</th>\n",
       "      <td>1</td>\n",
       "      <td>2021-08-29</td>\n",
       "      <td>12-14h59</td>\n",
       "      <td>57.0</td>\n",
       "      <td>Domingo</td>\n",
       "      <td>1</td>\n",
       "    </tr>\n",
       "    <tr>\n",
       "      <th>88</th>\n",
       "      <td>1</td>\n",
       "      <td>2021-08-31</td>\n",
       "      <td>00-3h59</td>\n",
       "      <td>150.0</td>\n",
       "      <td>Terça</td>\n",
       "      <td>0</td>\n",
       "    </tr>\n",
       "    <tr>\n",
       "      <th>...</th>\n",
       "      <td>...</td>\n",
       "      <td>...</td>\n",
       "      <td>...</td>\n",
       "      <td>...</td>\n",
       "      <td>...</td>\n",
       "      <td>...</td>\n",
       "    </tr>\n",
       "    <tr>\n",
       "      <th>47973</th>\n",
       "      <td>991</td>\n",
       "      <td>2021-08-31</td>\n",
       "      <td>15-17h59</td>\n",
       "      <td>75.0</td>\n",
       "      <td>Terça</td>\n",
       "      <td>0</td>\n",
       "    </tr>\n",
       "    <tr>\n",
       "      <th>47981</th>\n",
       "      <td>991</td>\n",
       "      <td>2021-09-01</td>\n",
       "      <td>15-17h59</td>\n",
       "      <td>55.0</td>\n",
       "      <td>Quarta</td>\n",
       "      <td>0</td>\n",
       "    </tr>\n",
       "    <tr>\n",
       "      <th>47989</th>\n",
       "      <td>991</td>\n",
       "      <td>2021-09-02</td>\n",
       "      <td>15-17h59</td>\n",
       "      <td>55.0</td>\n",
       "      <td>Quinta</td>\n",
       "      <td>0</td>\n",
       "    </tr>\n",
       "    <tr>\n",
       "      <th>48164</th>\n",
       "      <td>999</td>\n",
       "      <td>2021-09-05</td>\n",
       "      <td>12-14h59</td>\n",
       "      <td>82.0</td>\n",
       "      <td>Domingo</td>\n",
       "      <td>1</td>\n",
       "    </tr>\n",
       "    <tr>\n",
       "      <th>48165</th>\n",
       "      <td>999</td>\n",
       "      <td>2021-09-05</td>\n",
       "      <td>15-17h59</td>\n",
       "      <td>268.0</td>\n",
       "      <td>Domingo</td>\n",
       "      <td>1</td>\n",
       "    </tr>\n",
       "  </tbody>\n",
       "</table>\n",
       "<p>14495 rows × 6 columns</p>\n",
       "</div>"
      ],
      "text/plain": [
       "       linha_numero movimento_diario_data_mov passageiro_hora_range  \\\n",
       "73                1                2021-08-29                4-5h59   \n",
       "74                1                2021-08-29                6-8h59   \n",
       "75                1                2021-08-29               9-11h59   \n",
       "76                1                2021-08-29              12-14h59   \n",
       "88                1                2021-08-31               00-3h59   \n",
       "...             ...                       ...                   ...   \n",
       "47973           991                2021-08-31              15-17h59   \n",
       "47981           991                2021-09-01              15-17h59   \n",
       "47989           991                2021-09-02              15-17h59   \n",
       "48164           999                2021-09-05              12-14h59   \n",
       "48165           999                2021-09-05              15-17h59   \n",
       "\n",
       "       passageiro_matricula Dia_Semana  Domingo  \n",
       "73                      4.0    Domingo        1  \n",
       "74                     74.0    Domingo        1  \n",
       "75                     97.0    Domingo        1  \n",
       "76                     57.0    Domingo        1  \n",
       "88                    150.0      Terça        0  \n",
       "...                     ...        ...      ...  \n",
       "47973                  75.0      Terça        0  \n",
       "47981                  55.0     Quarta        0  \n",
       "47989                  55.0     Quinta        0  \n",
       "48164                  82.0    Domingo        1  \n",
       "48165                 268.0    Domingo        1  \n",
       "\n",
       "[14495 rows x 6 columns]"
      ]
     },
     "execution_count": 169,
     "metadata": {},
     "output_type": "execute_result"
    }
   ],
   "source": [
    "v_hora_range"
   ]
  },
  {
   "cell_type": "code",
   "execution_count": 170,
   "metadata": {},
   "outputs": [],
   "source": [
    "# Variável de km da rota\n",
    "linha_p_km_programado = fgr[[\"fechamento_data\", \"linha_numero\", \"linha_km_programado\"]].drop_duplicates()\n",
    "linha_p_km_programado = linha_p_km_programado[linha_p_km_programado.linha_km_programado != 0]\n",
    "linha_demanda_km = demanda_p_linha_dia.merge(linha_p_km_programado, how=\"inner\", left_on=[\"linha_numero\", \"movimento_diario_data_mov\"], right_on=[\"linha_numero\",\"fechamento_data\"])\n",
    "linha_demanda_km.drop(columns=[\"fechamento_data\"], inplace=True)\n",
    "linha_demanda_km = linha_demanda_km.groupby([\"linha_numero\"]).mean()[[\"linha_km_programado\"]].reset_index()\n",
    "dataset_model = v_hora_range.merge(linha_demanda_km, how=\"inner\", on=\"linha_numero\")"
   ]
  },
  {
   "cell_type": "code",
   "execution_count": 171,
   "metadata": {},
   "outputs": [],
   "source": [
    "rota_paradas_merged = rota_paradas.merge(paradas, how=\"inner\", on=\"stop_id\")\n",
    "rota_paradas_merged = rota_paradas_merged.merge(rotas, how=\"inner\", on=\"route_id\")\n",
    "rotas_paradas_clean = rota_paradas_merged[[\"route_id\", \"stop_sequence\", \"district\", \"city\"]]\n",
    "rotas_paradas_demanda = rotas_paradas_clean.merge(demanda_p_linha_dia, how=\"inner\", left_on=\"route_id\", right_on=\"linha_numero\")\n",
    "rotas_paradas_demanda.drop(columns=[\"route_id\", \"stop_sequence\"], inplace=True)\n",
    "rotas_paradas_demanda = rotas_paradas_demanda[rotas_paradas_demanda[\"city\"] == \"Fortaleza\"]"
   ]
  },
  {
   "cell_type": "code",
   "execution_count": 172,
   "metadata": {},
   "outputs": [],
   "source": [
    "# Retira acentos e barras (/ + termo) dos nomes dos bairros\n",
    "from unidecode import unidecode\n",
    "\n",
    "district = []\n",
    "for index, row in rotas_paradas_demanda.iterrows():\n",
    "  district_without_punt = unidecode(row[\"district\"])\n",
    "  district_without_barra = district_without_punt.split(\"/\")[0]\n",
    "  if district_without_barra.startswith(\"Parque \"):\n",
    "    district_without_barra = district_without_barra.replace(\"Parque \", \"\")\n",
    "  if district_without_barra.startswith(\"Vila \"):\n",
    "    district_without_barra = district_without_barra.replace(\"Vila \", \"\")\n",
    "  if district_without_barra.startswith(\"Prefeito \"):\n",
    "    district_without_barra = district_without_barra.replace(\"Prefeito \", \"\")\n",
    "  district.append(district_without_barra.strip())\n",
    "rotas_paradas_demanda[\"Bairro\"] = district\n",
    "\n",
    "district = []\n",
    "for index, row in dados_bairros.iterrows():\n",
    "  district_without_punt = unidecode(row[\"Bairros\"])\n",
    "  district_without_barra = district_without_punt.split(\"/\")[0]\n",
    "  if district_without_barra.startswith(\"Parque \"):\n",
    "    district_without_barra = district_without_barra.replace(\"Parque \", \"\")\n",
    "  if district_without_barra.startswith(\"Vila \"):\n",
    "    district_without_barra = district_without_barra.replace(\"Vila \", \"\")\n",
    "  if district_without_barra.startswith(\"Prefeito \"):\n",
    "    district_without_barra = district_without_barra.replace(\"Prefeito \", \"\")\n",
    "  district.append(district_without_barra.strip())\n",
    "dados_bairros[\"Bairro\"] = district"
   ]
  },
  {
   "cell_type": "code",
   "execution_count": 173,
   "metadata": {},
   "outputs": [],
   "source": [
    "rotas_paradas_demanda[\"Bairro\"] = rotas_paradas_demanda[\"Bairro\"].str.lower()\n",
    "rotas_paradas_demanda[\"Bairro\"] = rotas_paradas_demanda[\"Bairro\"].str.replace(\"ç\", \"c\")\n",
    "dados_bairros[\"Bairro\"] = dados_bairros[\"Bairro\"].str.lower()"
   ]
  },
  {
   "cell_type": "code",
   "execution_count": 174,
   "metadata": {},
   "outputs": [],
   "source": [
    "rotas_demanda_bairro = rotas_paradas_demanda.merge(dados_bairros, how=\"inner\", left_on=\"Bairro\", right_on=\"Bairro\")\n",
    "rotas_media_idh = rotas_demanda_bairro.groupby([\"linha_numero\"]).mean()[[\"IDH em 2010[8]\"]]"
   ]
  },
  {
   "cell_type": "code",
   "execution_count": 175,
   "metadata": {},
   "outputs": [],
   "source": [
    "dataset_model = dataset_model.merge(rotas_media_idh, how=\"inner\", on=\"linha_numero\")"
   ]
  },
  {
   "cell_type": "code",
   "execution_count": 176,
   "metadata": {},
   "outputs": [],
   "source": [
    "rotas_idh_max = rotas_demanda_bairro.groupby([\"linha_numero\"]).max()[[\"IDH em 2010[8]\"]].reset_index()"
   ]
  },
  {
   "cell_type": "code",
   "execution_count": 177,
   "metadata": {},
   "outputs": [],
   "source": [
    "dataset_model = dataset_model.merge(rotas_idh_max, how=\"inner\", on=\"linha_numero\")"
   ]
  },
  {
   "cell_type": "markdown",
   "metadata": {},
   "source": [
    "GET DUMMIES HORA RANGE"
   ]
  },
  {
   "cell_type": "code",
   "execution_count": 180,
   "metadata": {},
   "outputs": [],
   "source": [
    "dataset_model = pd.concat([dataset_model, pd.get_dummies(dataset_model[\"passageiro_hora_range\"])], axis = 1)"
   ]
  },
  {
   "cell_type": "code",
   "execution_count": 181,
   "metadata": {},
   "outputs": [],
   "source": [
    "dataset_model.drop(columns=[\"Dia_Semana\", \"movimento_diario_data_mov\", \"linha_numero\", \"passageiro_hora_range\"], inplace=True)"
   ]
  },
  {
   "cell_type": "code",
   "execution_count": 183,
   "metadata": {},
   "outputs": [
    {
     "data": {
      "text/html": [
       "<div>\n",
       "<style scoped>\n",
       "    .dataframe tbody tr th:only-of-type {\n",
       "        vertical-align: middle;\n",
       "    }\n",
       "\n",
       "    .dataframe tbody tr th {\n",
       "        vertical-align: top;\n",
       "    }\n",
       "\n",
       "    .dataframe thead th {\n",
       "        text-align: right;\n",
       "    }\n",
       "</style>\n",
       "<table border=\"1\" class=\"dataframe\">\n",
       "  <thead>\n",
       "    <tr style=\"text-align: right;\">\n",
       "      <th></th>\n",
       "      <th>passageiro_matricula</th>\n",
       "      <th>Domingo</th>\n",
       "      <th>linha_km_programado</th>\n",
       "      <th>IDH em 2010[8]_x</th>\n",
       "      <th>IDH em 2010[8]_y</th>\n",
       "      <th>00-3h59</th>\n",
       "      <th>4-5h59</th>\n",
       "      <th>6-8h59</th>\n",
       "      <th>9-11h59</th>\n",
       "      <th>12-14h59</th>\n",
       "      <th>15-17h59</th>\n",
       "      <th>18-20h59</th>\n",
       "      <th>21-23h59</th>\n",
       "    </tr>\n",
       "  </thead>\n",
       "  <tbody>\n",
       "    <tr>\n",
       "      <th>0</th>\n",
       "      <td>319.0</td>\n",
       "      <td>0</td>\n",
       "      <td>1165.120</td>\n",
       "      <td>0.465660</td>\n",
       "      <td>0.762</td>\n",
       "      <td>0</td>\n",
       "      <td>0</td>\n",
       "      <td>1</td>\n",
       "      <td>0</td>\n",
       "      <td>0</td>\n",
       "      <td>0</td>\n",
       "      <td>0</td>\n",
       "      <td>0</td>\n",
       "    </tr>\n",
       "    <tr>\n",
       "      <th>1</th>\n",
       "      <td>398.0</td>\n",
       "      <td>0</td>\n",
       "      <td>1165.120</td>\n",
       "      <td>0.465660</td>\n",
       "      <td>0.762</td>\n",
       "      <td>0</td>\n",
       "      <td>0</td>\n",
       "      <td>0</td>\n",
       "      <td>1</td>\n",
       "      <td>0</td>\n",
       "      <td>0</td>\n",
       "      <td>0</td>\n",
       "      <td>0</td>\n",
       "    </tr>\n",
       "    <tr>\n",
       "      <th>2</th>\n",
       "      <td>557.0</td>\n",
       "      <td>0</td>\n",
       "      <td>1165.120</td>\n",
       "      <td>0.465660</td>\n",
       "      <td>0.762</td>\n",
       "      <td>0</td>\n",
       "      <td>0</td>\n",
       "      <td>0</td>\n",
       "      <td>0</td>\n",
       "      <td>1</td>\n",
       "      <td>0</td>\n",
       "      <td>0</td>\n",
       "      <td>0</td>\n",
       "    </tr>\n",
       "    <tr>\n",
       "      <th>3</th>\n",
       "      <td>979.0</td>\n",
       "      <td>0</td>\n",
       "      <td>1165.120</td>\n",
       "      <td>0.465660</td>\n",
       "      <td>0.762</td>\n",
       "      <td>0</td>\n",
       "      <td>0</td>\n",
       "      <td>0</td>\n",
       "      <td>0</td>\n",
       "      <td>0</td>\n",
       "      <td>1</td>\n",
       "      <td>0</td>\n",
       "      <td>0</td>\n",
       "    </tr>\n",
       "    <tr>\n",
       "      <th>4</th>\n",
       "      <td>76.0</td>\n",
       "      <td>0</td>\n",
       "      <td>1165.120</td>\n",
       "      <td>0.465660</td>\n",
       "      <td>0.762</td>\n",
       "      <td>0</td>\n",
       "      <td>0</td>\n",
       "      <td>0</td>\n",
       "      <td>0</td>\n",
       "      <td>0</td>\n",
       "      <td>0</td>\n",
       "      <td>1</td>\n",
       "      <td>0</td>\n",
       "    </tr>\n",
       "    <tr>\n",
       "      <th>...</th>\n",
       "      <td>...</td>\n",
       "      <td>...</td>\n",
       "      <td>...</td>\n",
       "      <td>...</td>\n",
       "      <td>...</td>\n",
       "      <td>...</td>\n",
       "      <td>...</td>\n",
       "      <td>...</td>\n",
       "      <td>...</td>\n",
       "      <td>...</td>\n",
       "      <td>...</td>\n",
       "      <td>...</td>\n",
       "      <td>...</td>\n",
       "    </tr>\n",
       "    <tr>\n",
       "      <th>12465</th>\n",
       "      <td>282.0</td>\n",
       "      <td>0</td>\n",
       "      <td>1157.175</td>\n",
       "      <td>0.291214</td>\n",
       "      <td>0.530</td>\n",
       "      <td>0</td>\n",
       "      <td>0</td>\n",
       "      <td>0</td>\n",
       "      <td>1</td>\n",
       "      <td>0</td>\n",
       "      <td>0</td>\n",
       "      <td>0</td>\n",
       "      <td>0</td>\n",
       "    </tr>\n",
       "    <tr>\n",
       "      <th>12466</th>\n",
       "      <td>352.0</td>\n",
       "      <td>0</td>\n",
       "      <td>1157.175</td>\n",
       "      <td>0.291214</td>\n",
       "      <td>0.530</td>\n",
       "      <td>0</td>\n",
       "      <td>0</td>\n",
       "      <td>0</td>\n",
       "      <td>0</td>\n",
       "      <td>1</td>\n",
       "      <td>0</td>\n",
       "      <td>0</td>\n",
       "      <td>0</td>\n",
       "    </tr>\n",
       "    <tr>\n",
       "      <th>12467</th>\n",
       "      <td>614.0</td>\n",
       "      <td>0</td>\n",
       "      <td>1157.175</td>\n",
       "      <td>0.291214</td>\n",
       "      <td>0.530</td>\n",
       "      <td>0</td>\n",
       "      <td>0</td>\n",
       "      <td>0</td>\n",
       "      <td>0</td>\n",
       "      <td>0</td>\n",
       "      <td>1</td>\n",
       "      <td>0</td>\n",
       "      <td>0</td>\n",
       "    </tr>\n",
       "    <tr>\n",
       "      <th>12468</th>\n",
       "      <td>185.0</td>\n",
       "      <td>0</td>\n",
       "      <td>1157.175</td>\n",
       "      <td>0.291214</td>\n",
       "      <td>0.530</td>\n",
       "      <td>0</td>\n",
       "      <td>0</td>\n",
       "      <td>0</td>\n",
       "      <td>0</td>\n",
       "      <td>0</td>\n",
       "      <td>0</td>\n",
       "      <td>1</td>\n",
       "      <td>0</td>\n",
       "    </tr>\n",
       "    <tr>\n",
       "      <th>12469</th>\n",
       "      <td>36.0</td>\n",
       "      <td>0</td>\n",
       "      <td>1157.175</td>\n",
       "      <td>0.291214</td>\n",
       "      <td>0.530</td>\n",
       "      <td>0</td>\n",
       "      <td>0</td>\n",
       "      <td>0</td>\n",
       "      <td>0</td>\n",
       "      <td>0</td>\n",
       "      <td>0</td>\n",
       "      <td>0</td>\n",
       "      <td>1</td>\n",
       "    </tr>\n",
       "  </tbody>\n",
       "</table>\n",
       "<p>12470 rows × 13 columns</p>\n",
       "</div>"
      ],
      "text/plain": [
       "       passageiro_matricula  Domingo  linha_km_programado  IDH em 2010[8]_x  \\\n",
       "0                     319.0        0             1165.120          0.465660   \n",
       "1                     398.0        0             1165.120          0.465660   \n",
       "2                     557.0        0             1165.120          0.465660   \n",
       "3                     979.0        0             1165.120          0.465660   \n",
       "4                      76.0        0             1165.120          0.465660   \n",
       "...                     ...      ...                  ...               ...   \n",
       "12465                 282.0        0             1157.175          0.291214   \n",
       "12466                 352.0        0             1157.175          0.291214   \n",
       "12467                 614.0        0             1157.175          0.291214   \n",
       "12468                 185.0        0             1157.175          0.291214   \n",
       "12469                  36.0        0             1157.175          0.291214   \n",
       "\n",
       "       IDH em 2010[8]_y  00-3h59  4-5h59  6-8h59  9-11h59  12-14h59  15-17h59  \\\n",
       "0                 0.762        0       0       1        0         0         0   \n",
       "1                 0.762        0       0       0        1         0         0   \n",
       "2                 0.762        0       0       0        0         1         0   \n",
       "3                 0.762        0       0       0        0         0         1   \n",
       "4                 0.762        0       0       0        0         0         0   \n",
       "...                 ...      ...     ...     ...      ...       ...       ...   \n",
       "12465             0.530        0       0       0        1         0         0   \n",
       "12466             0.530        0       0       0        0         1         0   \n",
       "12467             0.530        0       0       0        0         0         1   \n",
       "12468             0.530        0       0       0        0         0         0   \n",
       "12469             0.530        0       0       0        0         0         0   \n",
       "\n",
       "       18-20h59  21-23h59  \n",
       "0             0         0  \n",
       "1             0         0  \n",
       "2             0         0  \n",
       "3             0         0  \n",
       "4             1         0  \n",
       "...         ...       ...  \n",
       "12465         0         0  \n",
       "12466         0         0  \n",
       "12467         0         0  \n",
       "12468         1         0  \n",
       "12469         0         1  \n",
       "\n",
       "[12470 rows x 13 columns]"
      ]
     },
     "execution_count": 183,
     "metadata": {},
     "output_type": "execute_result"
    }
   ],
   "source": [
    "dataset_model"
   ]
  },
  {
   "cell_type": "code",
   "execution_count": 184,
   "metadata": {},
   "outputs": [],
   "source": [
    "dataset_model.rename(columns={\"passageiro_hora_range\": \"hora_range\", \n",
    "                              \"passageiro_matricula\": \"demanda\",\n",
    "                              \"Domingo\": \"domingo\", \n",
    "                              \"linha_km_programado\": \"linha_km\",\n",
    "                              \"IDH em 2010[8]_x\": \"media_idh\",\n",
    "                              \"IDH em 2010[8]_y\": \"idh_max\"}, inplace=True)"
   ]
  },
  {
   "cell_type": "code",
   "execution_count": 185,
   "metadata": {},
   "outputs": [
    {
     "data": {
      "text/html": [
       "<div>\n",
       "<style scoped>\n",
       "    .dataframe tbody tr th:only-of-type {\n",
       "        vertical-align: middle;\n",
       "    }\n",
       "\n",
       "    .dataframe tbody tr th {\n",
       "        vertical-align: top;\n",
       "    }\n",
       "\n",
       "    .dataframe thead th {\n",
       "        text-align: right;\n",
       "    }\n",
       "</style>\n",
       "<table border=\"1\" class=\"dataframe\">\n",
       "  <thead>\n",
       "    <tr style=\"text-align: right;\">\n",
       "      <th></th>\n",
       "      <th>demanda</th>\n",
       "      <th>domingo</th>\n",
       "      <th>linha_km</th>\n",
       "      <th>media_idh</th>\n",
       "      <th>idh_max</th>\n",
       "      <th>00-3h59</th>\n",
       "      <th>4-5h59</th>\n",
       "      <th>6-8h59</th>\n",
       "      <th>9-11h59</th>\n",
       "      <th>12-14h59</th>\n",
       "      <th>15-17h59</th>\n",
       "      <th>18-20h59</th>\n",
       "      <th>21-23h59</th>\n",
       "    </tr>\n",
       "  </thead>\n",
       "  <tbody>\n",
       "    <tr>\n",
       "      <th>0</th>\n",
       "      <td>319.0</td>\n",
       "      <td>0</td>\n",
       "      <td>1165.120</td>\n",
       "      <td>0.465660</td>\n",
       "      <td>0.762</td>\n",
       "      <td>0</td>\n",
       "      <td>0</td>\n",
       "      <td>1</td>\n",
       "      <td>0</td>\n",
       "      <td>0</td>\n",
       "      <td>0</td>\n",
       "      <td>0</td>\n",
       "      <td>0</td>\n",
       "    </tr>\n",
       "    <tr>\n",
       "      <th>1</th>\n",
       "      <td>398.0</td>\n",
       "      <td>0</td>\n",
       "      <td>1165.120</td>\n",
       "      <td>0.465660</td>\n",
       "      <td>0.762</td>\n",
       "      <td>0</td>\n",
       "      <td>0</td>\n",
       "      <td>0</td>\n",
       "      <td>1</td>\n",
       "      <td>0</td>\n",
       "      <td>0</td>\n",
       "      <td>0</td>\n",
       "      <td>0</td>\n",
       "    </tr>\n",
       "    <tr>\n",
       "      <th>2</th>\n",
       "      <td>557.0</td>\n",
       "      <td>0</td>\n",
       "      <td>1165.120</td>\n",
       "      <td>0.465660</td>\n",
       "      <td>0.762</td>\n",
       "      <td>0</td>\n",
       "      <td>0</td>\n",
       "      <td>0</td>\n",
       "      <td>0</td>\n",
       "      <td>1</td>\n",
       "      <td>0</td>\n",
       "      <td>0</td>\n",
       "      <td>0</td>\n",
       "    </tr>\n",
       "    <tr>\n",
       "      <th>3</th>\n",
       "      <td>979.0</td>\n",
       "      <td>0</td>\n",
       "      <td>1165.120</td>\n",
       "      <td>0.465660</td>\n",
       "      <td>0.762</td>\n",
       "      <td>0</td>\n",
       "      <td>0</td>\n",
       "      <td>0</td>\n",
       "      <td>0</td>\n",
       "      <td>0</td>\n",
       "      <td>1</td>\n",
       "      <td>0</td>\n",
       "      <td>0</td>\n",
       "    </tr>\n",
       "    <tr>\n",
       "      <th>4</th>\n",
       "      <td>76.0</td>\n",
       "      <td>0</td>\n",
       "      <td>1165.120</td>\n",
       "      <td>0.465660</td>\n",
       "      <td>0.762</td>\n",
       "      <td>0</td>\n",
       "      <td>0</td>\n",
       "      <td>0</td>\n",
       "      <td>0</td>\n",
       "      <td>0</td>\n",
       "      <td>0</td>\n",
       "      <td>1</td>\n",
       "      <td>0</td>\n",
       "    </tr>\n",
       "    <tr>\n",
       "      <th>...</th>\n",
       "      <td>...</td>\n",
       "      <td>...</td>\n",
       "      <td>...</td>\n",
       "      <td>...</td>\n",
       "      <td>...</td>\n",
       "      <td>...</td>\n",
       "      <td>...</td>\n",
       "      <td>...</td>\n",
       "      <td>...</td>\n",
       "      <td>...</td>\n",
       "      <td>...</td>\n",
       "      <td>...</td>\n",
       "      <td>...</td>\n",
       "    </tr>\n",
       "    <tr>\n",
       "      <th>12465</th>\n",
       "      <td>282.0</td>\n",
       "      <td>0</td>\n",
       "      <td>1157.175</td>\n",
       "      <td>0.291214</td>\n",
       "      <td>0.530</td>\n",
       "      <td>0</td>\n",
       "      <td>0</td>\n",
       "      <td>0</td>\n",
       "      <td>1</td>\n",
       "      <td>0</td>\n",
       "      <td>0</td>\n",
       "      <td>0</td>\n",
       "      <td>0</td>\n",
       "    </tr>\n",
       "    <tr>\n",
       "      <th>12466</th>\n",
       "      <td>352.0</td>\n",
       "      <td>0</td>\n",
       "      <td>1157.175</td>\n",
       "      <td>0.291214</td>\n",
       "      <td>0.530</td>\n",
       "      <td>0</td>\n",
       "      <td>0</td>\n",
       "      <td>0</td>\n",
       "      <td>0</td>\n",
       "      <td>1</td>\n",
       "      <td>0</td>\n",
       "      <td>0</td>\n",
       "      <td>0</td>\n",
       "    </tr>\n",
       "    <tr>\n",
       "      <th>12467</th>\n",
       "      <td>614.0</td>\n",
       "      <td>0</td>\n",
       "      <td>1157.175</td>\n",
       "      <td>0.291214</td>\n",
       "      <td>0.530</td>\n",
       "      <td>0</td>\n",
       "      <td>0</td>\n",
       "      <td>0</td>\n",
       "      <td>0</td>\n",
       "      <td>0</td>\n",
       "      <td>1</td>\n",
       "      <td>0</td>\n",
       "      <td>0</td>\n",
       "    </tr>\n",
       "    <tr>\n",
       "      <th>12468</th>\n",
       "      <td>185.0</td>\n",
       "      <td>0</td>\n",
       "      <td>1157.175</td>\n",
       "      <td>0.291214</td>\n",
       "      <td>0.530</td>\n",
       "      <td>0</td>\n",
       "      <td>0</td>\n",
       "      <td>0</td>\n",
       "      <td>0</td>\n",
       "      <td>0</td>\n",
       "      <td>0</td>\n",
       "      <td>1</td>\n",
       "      <td>0</td>\n",
       "    </tr>\n",
       "    <tr>\n",
       "      <th>12469</th>\n",
       "      <td>36.0</td>\n",
       "      <td>0</td>\n",
       "      <td>1157.175</td>\n",
       "      <td>0.291214</td>\n",
       "      <td>0.530</td>\n",
       "      <td>0</td>\n",
       "      <td>0</td>\n",
       "      <td>0</td>\n",
       "      <td>0</td>\n",
       "      <td>0</td>\n",
       "      <td>0</td>\n",
       "      <td>0</td>\n",
       "      <td>1</td>\n",
       "    </tr>\n",
       "  </tbody>\n",
       "</table>\n",
       "<p>12470 rows × 13 columns</p>\n",
       "</div>"
      ],
      "text/plain": [
       "       demanda  domingo  linha_km  media_idh  idh_max  00-3h59  4-5h59  \\\n",
       "0        319.0        0  1165.120   0.465660    0.762        0       0   \n",
       "1        398.0        0  1165.120   0.465660    0.762        0       0   \n",
       "2        557.0        0  1165.120   0.465660    0.762        0       0   \n",
       "3        979.0        0  1165.120   0.465660    0.762        0       0   \n",
       "4         76.0        0  1165.120   0.465660    0.762        0       0   \n",
       "...        ...      ...       ...        ...      ...      ...     ...   \n",
       "12465    282.0        0  1157.175   0.291214    0.530        0       0   \n",
       "12466    352.0        0  1157.175   0.291214    0.530        0       0   \n",
       "12467    614.0        0  1157.175   0.291214    0.530        0       0   \n",
       "12468    185.0        0  1157.175   0.291214    0.530        0       0   \n",
       "12469     36.0        0  1157.175   0.291214    0.530        0       0   \n",
       "\n",
       "       6-8h59  9-11h59  12-14h59  15-17h59  18-20h59  21-23h59  \n",
       "0           1        0         0         0         0         0  \n",
       "1           0        1         0         0         0         0  \n",
       "2           0        0         1         0         0         0  \n",
       "3           0        0         0         1         0         0  \n",
       "4           0        0         0         0         1         0  \n",
       "...       ...      ...       ...       ...       ...       ...  \n",
       "12465       0        1         0         0         0         0  \n",
       "12466       0        0         1         0         0         0  \n",
       "12467       0        0         0         1         0         0  \n",
       "12468       0        0         0         0         1         0  \n",
       "12469       0        0         0         0         0         1  \n",
       "\n",
       "[12470 rows x 13 columns]"
      ]
     },
     "execution_count": 185,
     "metadata": {},
     "output_type": "execute_result"
    }
   ],
   "source": [
    "dataset_model"
   ]
  },
  {
   "cell_type": "markdown",
   "metadata": {},
   "source": [
    "# Pre Processamento"
   ]
  },
  {
   "cell_type": "code",
   "execution_count": 186,
   "metadata": {},
   "outputs": [],
   "source": [
    "X = dataset_model.drop(columns=[\"demanda\"]).values\n",
    "Y = dataset_model[\"demanda\"].values"
   ]
  },
  {
   "cell_type": "code",
   "execution_count": 187,
   "metadata": {},
   "outputs": [],
   "source": [
    "from sklearn.preprocessing import StandardScaler\n",
    "standard = StandardScaler()\n",
    "\n",
    "X = standard.fit_transform(X)"
   ]
  },
  {
   "cell_type": "code",
   "execution_count": 188,
   "metadata": {},
   "outputs": [
    {
     "data": {
      "text/plain": [
       "array([[-0.37452726,  0.50449666,  0.78716743, ..., -0.39214153,\n",
       "        -0.39173309, -0.36174662],\n",
       "       [-0.37452726,  0.50449666,  0.78716743, ..., -0.39214153,\n",
       "        -0.39173309, -0.36174662],\n",
       "       [-0.37452726,  0.50449666,  0.78716743, ..., -0.39214153,\n",
       "        -0.39173309, -0.36174662],\n",
       "       ...,\n",
       "       [-0.37452726,  0.49316187, -0.59505574, ...,  2.55009969,\n",
       "        -0.39173309, -0.36174662],\n",
       "       [-0.37452726,  0.49316187, -0.59505574, ..., -0.39214153,\n",
       "         2.55275856, -0.36174662],\n",
       "       [-0.37452726,  0.49316187, -0.59505574, ..., -0.39214153,\n",
       "        -0.39173309,  2.76436587]])"
      ]
     },
     "execution_count": 188,
     "metadata": {},
     "output_type": "execute_result"
    }
   ],
   "source": [
    "X"
   ]
  },
  {
   "cell_type": "code",
   "execution_count": 228,
   "metadata": {},
   "outputs": [],
   "source": [
    "from sklearn.model_selection import train_test_split\n",
    "from sklearn.linear_model import LinearRegression\n",
    "from sklearn.linear_model import Lasso\n",
    "from sklearn.linear_model import RidgeClassifier\n",
    "from sklearn.linear_model import ElasticNet \n",
    "from sklearn.metrics import mean_absolute_error, mean_squared_error, r2_score"
   ]
  },
  {
   "cell_type": "code",
   "execution_count": 229,
   "metadata": {},
   "outputs": [],
   "source": [
    "X_train, X_test, y_train, y_test = train_test_split(X, Y, train_size=0.75, test_size=0.25, random_state=123)"
   ]
  },
  {
   "cell_type": "code",
   "execution_count": 230,
   "metadata": {},
   "outputs": [],
   "source": [
    "linear_regression = LinearRegression()\n",
    "linear_regression.fit(X_train, y_train)\n",
    "results = linear_regression.predict(X_test)"
   ]
  },
  {
   "cell_type": "code",
   "execution_count": 231,
   "metadata": {},
   "outputs": [
    {
     "data": {
      "text/plain": [
       "array([ 227.20173994, -195.92326006,  -61.92326006, ...,  -26.29826006,\n",
       "        160.07673994,  383.07673994])"
      ]
     },
     "execution_count": 231,
     "metadata": {},
     "output_type": "execute_result"
    }
   ],
   "source": [
    "results"
   ]
  },
  {
   "cell_type": "code",
   "execution_count": 232,
   "metadata": {},
   "outputs": [
    {
     "data": {
      "text/plain": [
       "146.32499474400072"
      ]
     },
     "execution_count": 232,
     "metadata": {},
     "output_type": "execute_result"
    }
   ],
   "source": [
    "mean_absolute_error(y_test, results)"
   ]
  },
  {
   "cell_type": "code",
   "execution_count": 233,
   "metadata": {},
   "outputs": [
    {
     "data": {
      "text/plain": [
       "223.6511472982105"
      ]
     },
     "execution_count": 233,
     "metadata": {},
     "output_type": "execute_result"
    }
   ],
   "source": [
    "np.sqrt(mean_squared_error(y_test, results))"
   ]
  },
  {
   "cell_type": "code",
   "execution_count": 234,
   "metadata": {},
   "outputs": [
    {
     "data": {
      "text/plain": [
       "0.49062270740133473"
      ]
     },
     "execution_count": 234,
     "metadata": {},
     "output_type": "execute_result"
    }
   ],
   "source": [
    "r2_score(y_test, results)"
   ]
  },
  {
   "cell_type": "markdown",
   "metadata": {},
   "source": [
    "Lasso"
   ]
  },
  {
   "cell_type": "code",
   "execution_count": 235,
   "metadata": {},
   "outputs": [],
   "source": [
    "lasso = Lasso()\n",
    "lasso.fit(X_train, y_train)\n",
    "results = lasso.predict(X_test)"
   ]
  },
  {
   "cell_type": "code",
   "execution_count": 236,
   "metadata": {},
   "outputs": [
    {
     "data": {
      "text/plain": [
       "145.76145959707588"
      ]
     },
     "execution_count": 236,
     "metadata": {},
     "output_type": "execute_result"
    }
   ],
   "source": [
    "mean_absolute_error(y_test, results)"
   ]
  },
  {
   "cell_type": "code",
   "execution_count": 237,
   "metadata": {},
   "outputs": [
    {
     "data": {
      "text/plain": [
       "223.57570468197818"
      ]
     },
     "execution_count": 237,
     "metadata": {},
     "output_type": "execute_result"
    }
   ],
   "source": [
    "np.sqrt(mean_squared_error(y_test, results))"
   ]
  },
  {
   "cell_type": "code",
   "execution_count": 238,
   "metadata": {},
   "outputs": [
    {
     "data": {
      "text/plain": [
       "0.49096629852188745"
      ]
     },
     "execution_count": 238,
     "metadata": {},
     "output_type": "execute_result"
    }
   ],
   "source": [
    "r2_score(y_test, results)"
   ]
  },
  {
   "cell_type": "markdown",
   "metadata": {},
   "source": [
    "Ridge"
   ]
  },
  {
   "cell_type": "code",
   "execution_count": 239,
   "metadata": {},
   "outputs": [],
   "source": [
    "ridge_classifier = RidgeClassifier()\n",
    "ridge_classifier.fit(X_train, y_train)\n",
    "results = ridge_classifier.predict(X_test)"
   ]
  },
  {
   "cell_type": "code",
   "execution_count": 240,
   "metadata": {},
   "outputs": [
    {
     "data": {
      "text/plain": [
       "177.89127645926877"
      ]
     },
     "execution_count": 240,
     "metadata": {},
     "output_type": "execute_result"
    }
   ],
   "source": [
    "mean_absolute_error(y_test, results)"
   ]
  },
  {
   "cell_type": "code",
   "execution_count": 241,
   "metadata": {},
   "outputs": [
    {
     "data": {
      "text/plain": [
       "332.8118059864717"
      ]
     },
     "execution_count": 241,
     "metadata": {},
     "output_type": "execute_result"
    }
   ],
   "source": [
    "np.sqrt(mean_squared_error(y_test, results))"
   ]
  },
  {
   "cell_type": "code",
   "execution_count": 242,
   "metadata": {},
   "outputs": [
    {
     "data": {
      "text/plain": [
       "-0.12796277583758542"
      ]
     },
     "execution_count": 242,
     "metadata": {},
     "output_type": "execute_result"
    }
   ],
   "source": [
    "r2_score(y_test, results)"
   ]
  },
  {
   "cell_type": "markdown",
   "metadata": {},
   "source": [
    "ElasticNet"
   ]
  },
  {
   "cell_type": "code",
   "execution_count": 243,
   "metadata": {},
   "outputs": [],
   "source": [
    "elastic_net = ElasticNet()\n",
    "elastic_net.fit(X_train, y_train)\n",
    "results = elastic_net.predict(X_test)"
   ]
  },
  {
   "cell_type": "code",
   "execution_count": 244,
   "metadata": {},
   "outputs": [
    {
     "data": {
      "text/plain": [
       "144.03849382971123"
      ]
     },
     "execution_count": 244,
     "metadata": {},
     "output_type": "execute_result"
    }
   ],
   "source": [
    "mean_absolute_error(y_test, results)"
   ]
  },
  {
   "cell_type": "code",
   "execution_count": 245,
   "metadata": {},
   "outputs": [
    {
     "data": {
      "text/plain": [
       "233.9209566871839"
      ]
     },
     "execution_count": 245,
     "metadata": {},
     "output_type": "execute_result"
    }
   ],
   "source": [
    "np.sqrt(mean_squared_error(y_test, results))"
   ]
  },
  {
   "cell_type": "code",
   "execution_count": 246,
   "metadata": {},
   "outputs": [
    {
     "data": {
      "text/plain": [
       "0.4427685974927017"
      ]
     },
     "execution_count": 246,
     "metadata": {},
     "output_type": "execute_result"
    }
   ],
   "source": [
    "r2_score(y_test, results)"
   ]
  },
  {
   "cell_type": "code",
   "execution_count": null,
   "metadata": {},
   "outputs": [],
   "source": []
  }
 ],
 "metadata": {
  "interpreter": {
   "hash": "5eba2f6daac758e0c4eb74cbbf3fd787eaf14bd08a71327f2f2275e3d00aa03b"
  },
  "kernelspec": {
   "display_name": "Python 3.8.8 ('base')",
   "language": "python",
   "name": "python3"
  },
  "language_info": {
   "codemirror_mode": {
    "name": "ipython",
    "version": 3
   },
   "file_extension": ".py",
   "mimetype": "text/x-python",
   "name": "python",
   "nbconvert_exporter": "python",
   "pygments_lexer": "ipython3",
   "version": "3.8.8"
  },
  "orig_nbformat": 4
 },
 "nbformat": 4,
 "nbformat_minor": 2
}
