{
 "cells": [
  {
   "cell_type": "code",
   "execution_count": 1,
   "metadata": {},
   "outputs": [],
   "source": [
    "from geopy.geocoders import Nominatim\n",
    "import pandas as pd"
   ]
  },
  {
   "cell_type": "markdown",
   "metadata": {},
   "source": [
    "# Paradas"
   ]
  },
  {
   "cell_type": "code",
   "execution_count": 42,
   "metadata": {},
   "outputs": [
    {
     "data": {
      "text/html": [
       "<div>\n",
       "<style scoped>\n",
       "    .dataframe tbody tr th:only-of-type {\n",
       "        vertical-align: middle;\n",
       "    }\n",
       "\n",
       "    .dataframe tbody tr th {\n",
       "        vertical-align: top;\n",
       "    }\n",
       "\n",
       "    .dataframe thead th {\n",
       "        text-align: right;\n",
       "    }\n",
       "</style>\n",
       "<table border=\"1\" class=\"dataframe\">\n",
       "  <thead>\n",
       "    <tr style=\"text-align: right;\">\n",
       "      <th></th>\n",
       "      <th>Unnamed: 0</th>\n",
       "      <th>stop_id</th>\n",
       "      <th>stop_name</th>\n",
       "      <th>stop_lat</th>\n",
       "      <th>stop_lon</th>\n",
       "      <th>adress</th>\n",
       "      <th>district</th>\n",
       "    </tr>\n",
       "  </thead>\n",
       "  <tbody>\n",
       "    <tr>\n",
       "      <th>0</th>\n",
       "      <td>0</td>\n",
       "      <td>10</td>\n",
       "      <td>AVENIDA CEL CARVALHO, 1180</td>\n",
       "      <td>-3.702286</td>\n",
       "      <td>-38.590602</td>\n",
       "      <td>Avenida Radialista José Lima Verde, Barra do C...</td>\n",
       "      <td>Barra do Ceará</td>\n",
       "    </tr>\n",
       "    <tr>\n",
       "      <th>1</th>\n",
       "      <td>1</td>\n",
       "      <td>1000</td>\n",
       "      <td>RUA DOR JOAO MOREIRA, 489</td>\n",
       "      <td>-3.722157</td>\n",
       "      <td>-38.528991</td>\n",
       "      <td>Rua Doutor João Moreira, Centro, Fortaleza, Re...</td>\n",
       "      <td>Centro</td>\n",
       "    </tr>\n",
       "    <tr>\n",
       "      <th>2</th>\n",
       "      <td>2</td>\n",
       "      <td>1001</td>\n",
       "      <td>RUA DOR JOAO MOREIRA, 163</td>\n",
       "      <td>-3.723169</td>\n",
       "      <td>-38.526007</td>\n",
       "      <td>Museu da Indústria, 143, Rua Doutor João Morei...</td>\n",
       "      <td>Centro</td>\n",
       "    </tr>\n",
       "    <tr>\n",
       "      <th>3</th>\n",
       "      <td>3</td>\n",
       "      <td>1010</td>\n",
       "      <td>AVENIDA IMPERADOR, 550</td>\n",
       "      <td>-3.726137</td>\n",
       "      <td>-38.534206</td>\n",
       "      <td>Hospital Geral Doutor César Cals, 545, Avenida...</td>\n",
       "      <td>Centro</td>\n",
       "    </tr>\n",
       "    <tr>\n",
       "      <th>4</th>\n",
       "      <td>4</td>\n",
       "      <td>1013</td>\n",
       "      <td>AVENIDA IMPERADOR, 262</td>\n",
       "      <td>-3.723690</td>\n",
       "      <td>-38.533477</td>\n",
       "      <td>Pacoti Couros, 230, Avenida Imperador, Centro,...</td>\n",
       "      <td>Centro</td>\n",
       "    </tr>\n",
       "  </tbody>\n",
       "</table>\n",
       "</div>"
      ],
      "text/plain": [
       "   Unnamed: 0  stop_id                   stop_name  stop_lat   stop_lon  \\\n",
       "0           0       10  AVENIDA CEL CARVALHO, 1180 -3.702286 -38.590602   \n",
       "1           1     1000   RUA DOR JOAO MOREIRA, 489 -3.722157 -38.528991   \n",
       "2           2     1001   RUA DOR JOAO MOREIRA, 163 -3.723169 -38.526007   \n",
       "3           3     1010      AVENIDA IMPERADOR, 550 -3.726137 -38.534206   \n",
       "4           4     1013      AVENIDA IMPERADOR, 262 -3.723690 -38.533477   \n",
       "\n",
       "                                              adress        district  \n",
       "0  Avenida Radialista José Lima Verde, Barra do C...  Barra do Ceará  \n",
       "1  Rua Doutor João Moreira, Centro, Fortaleza, Re...          Centro  \n",
       "2  Museu da Indústria, 143, Rua Doutor João Morei...          Centro  \n",
       "3  Hospital Geral Doutor César Cals, 545, Avenida...          Centro  \n",
       "4  Pacoti Couros, 230, Avenida Imperador, Centro,...          Centro  "
      ]
     },
     "execution_count": 42,
     "metadata": {},
     "output_type": "execute_result"
    }
   ],
   "source": [
    "df_paradas = pd.read_csv('../../../data/raw/gps/stops.txt')\n",
    "df_paradas.drop_duplicates(subset=['stop_id'], inplace=True)\n",
    "df_paradas.head()"
   ]
  },
  {
   "cell_type": "code",
   "execution_count": 10,
   "metadata": {},
   "outputs": [
    {
     "name": "stdout",
     "output_type": "stream",
     "text": [
      "<class 'pandas.core.frame.DataFrame'>\n",
      "Int64Index: 4796 entries, 0 to 4795\n",
      "Data columns (total 12 columns):\n",
      " #   Column               Non-Null Count  Dtype  \n",
      "---  ------               --------------  -----  \n",
      " 0   stop_id              4796 non-null   int64  \n",
      " 1   stop_code            0 non-null      float64\n",
      " 2   stop_name            4796 non-null   object \n",
      " 3   stop_desc            0 non-null      float64\n",
      " 4   stop_lat             4796 non-null   float64\n",
      " 5   stop_lon             4796 non-null   float64\n",
      " 6   zone_id              0 non-null      float64\n",
      " 7   stop_url             0 non-null      float64\n",
      " 8   location_type        4796 non-null   int64  \n",
      " 9   parent_station       0 non-null      float64\n",
      " 10  stop_timezone        0 non-null      float64\n",
      " 11  wheelchair_boarding  0 non-null      float64\n",
      "dtypes: float64(9), int64(2), object(1)\n",
      "memory usage: 487.1+ KB\n"
     ]
    }
   ],
   "source": [
    "df_paradas.info()"
   ]
  },
  {
   "cell_type": "code",
   "execution_count": 11,
   "metadata": {},
   "outputs": [
    {
     "name": "stdout",
     "output_type": "stream",
     "text": [
      "<class 'pandas.core.frame.DataFrame'>\n",
      "Int64Index: 4796 entries, 0 to 4795\n",
      "Data columns (total 4 columns):\n",
      " #   Column     Non-Null Count  Dtype  \n",
      "---  ------     --------------  -----  \n",
      " 0   stop_id    4796 non-null   int64  \n",
      " 1   stop_name  4796 non-null   object \n",
      " 2   stop_lat   4796 non-null   float64\n",
      " 3   stop_lon   4796 non-null   float64\n",
      "dtypes: float64(2), int64(1), object(1)\n",
      "memory usage: 187.3+ KB\n"
     ]
    }
   ],
   "source": [
    "df_paradas.drop(columns=['stop_code', 'stop_desc', 'zone_id', 'stop_url', 'location_type', 'parent_station', 'stop_timezone', 'wheelchair_boarding'], inplace=True)\n",
    "df_paradas.info()"
   ]
  },
  {
   "cell_type": "code",
   "execution_count": 14,
   "metadata": {},
   "outputs": [],
   "source": [
    "locator = Nominatim(user_agent=\"myGeocoder\")\n",
    "\n",
    "enderco = []\n",
    "\n",
    "for index, row in df_paradas.iterrows():\n",
    "    location = locator.reverse(str(row['stop_lat']) + ',' + str(row['stop_lon']))\n",
    "    enderco.append(location.address)\n",
    "\n",
    "df_paradas['adress'] = enderco"
   ]
  },
  {
   "cell_type": "code",
   "execution_count": 44,
   "metadata": {},
   "outputs": [
    {
     "data": {
      "text/plain": [
       "'Centro'"
      ]
     },
     "execution_count": 44,
     "metadata": {},
     "output_type": "execute_result"
    }
   ],
   "source": [
    "a = df_paradas.adress.to_list()[1].address\n",
    "a = a[0:a.find(', Fortaleza,')]\n",
    "a = a[a.rfind(', ')+2:len(a)]\n",
    "a"
   ]
  },
  {
   "cell_type": "code",
   "execution_count": 54,
   "metadata": {},
   "outputs": [],
   "source": [
    "bairros = []\n",
    "\n",
    "for index, row in df_paradas.iterrows():\n",
    "    bairro = row['adress']\n",
    "    bairro = bairro[0:bairro.find(', Fortaleza,')]\n",
    "    bairro = bairro[bairro.rfind(', ')+1:len(bairro)]\n",
    "    bairro = bairro.strip()\n",
    "    bairros.append(bairro)\n",
    "\n",
    "df_paradas['district'] = bairros"
   ]
  },
  {
   "cell_type": "code",
   "execution_count": 95,
   "metadata": {},
   "outputs": [
    {
     "data": {
      "text/html": [
       "<div>\n",
       "<style scoped>\n",
       "    .dataframe tbody tr th:only-of-type {\n",
       "        vertical-align: middle;\n",
       "    }\n",
       "\n",
       "    .dataframe tbody tr th {\n",
       "        vertical-align: top;\n",
       "    }\n",
       "\n",
       "    .dataframe thead th {\n",
       "        text-align: right;\n",
       "    }\n",
       "</style>\n",
       "<table border=\"1\" class=\"dataframe\">\n",
       "  <thead>\n",
       "    <tr style=\"text-align: right;\">\n",
       "      <th></th>\n",
       "      <th>Unnamed: 0</th>\n",
       "      <th>stop_id</th>\n",
       "      <th>stop_name</th>\n",
       "      <th>stop_lat</th>\n",
       "      <th>stop_lon</th>\n",
       "      <th>adress</th>\n",
       "      <th>district</th>\n",
       "      <th>city</th>\n",
       "    </tr>\n",
       "  </thead>\n",
       "  <tbody>\n",
       "    <tr>\n",
       "      <th>0</th>\n",
       "      <td>0</td>\n",
       "      <td>10</td>\n",
       "      <td>AVENIDA CEL CARVALHO, 1180</td>\n",
       "      <td>-3.702286</td>\n",
       "      <td>-38.590602</td>\n",
       "      <td>Avenida Radialista José Lima Verde, Barra do C...</td>\n",
       "      <td>Barra do Ceará</td>\n",
       "      <td>Fortaleza</td>\n",
       "    </tr>\n",
       "    <tr>\n",
       "      <th>1</th>\n",
       "      <td>1</td>\n",
       "      <td>1000</td>\n",
       "      <td>RUA DOR JOAO MOREIRA, 489</td>\n",
       "      <td>-3.722157</td>\n",
       "      <td>-38.528991</td>\n",
       "      <td>Rua Doutor João Moreira, Centro, Fortaleza, Re...</td>\n",
       "      <td>Centro</td>\n",
       "      <td>Fortaleza</td>\n",
       "    </tr>\n",
       "    <tr>\n",
       "      <th>2</th>\n",
       "      <td>2</td>\n",
       "      <td>1001</td>\n",
       "      <td>RUA DOR JOAO MOREIRA, 163</td>\n",
       "      <td>-3.723169</td>\n",
       "      <td>-38.526007</td>\n",
       "      <td>Museu da Indústria, 143, Rua Doutor João Morei...</td>\n",
       "      <td>Centro</td>\n",
       "      <td>Fortaleza</td>\n",
       "    </tr>\n",
       "    <tr>\n",
       "      <th>3</th>\n",
       "      <td>3</td>\n",
       "      <td>1010</td>\n",
       "      <td>AVENIDA IMPERADOR, 550</td>\n",
       "      <td>-3.726137</td>\n",
       "      <td>-38.534206</td>\n",
       "      <td>Hospital Geral Doutor César Cals, 545, Avenida...</td>\n",
       "      <td>Centro</td>\n",
       "      <td>Fortaleza</td>\n",
       "    </tr>\n",
       "    <tr>\n",
       "      <th>4</th>\n",
       "      <td>4</td>\n",
       "      <td>1013</td>\n",
       "      <td>AVENIDA IMPERADOR, 262</td>\n",
       "      <td>-3.723690</td>\n",
       "      <td>-38.533477</td>\n",
       "      <td>Pacoti Couros, 230, Avenida Imperador, Centro,...</td>\n",
       "      <td>Centro</td>\n",
       "      <td>Fortaleza</td>\n",
       "    </tr>\n",
       "  </tbody>\n",
       "</table>\n",
       "</div>"
      ],
      "text/plain": [
       "   Unnamed: 0  stop_id                   stop_name  stop_lat   stop_lon  \\\n",
       "0           0       10  AVENIDA CEL CARVALHO, 1180 -3.702286 -38.590602   \n",
       "1           1     1000   RUA DOR JOAO MOREIRA, 489 -3.722157 -38.528991   \n",
       "2           2     1001   RUA DOR JOAO MOREIRA, 163 -3.723169 -38.526007   \n",
       "3           3     1010      AVENIDA IMPERADOR, 550 -3.726137 -38.534206   \n",
       "4           4     1013      AVENIDA IMPERADOR, 262 -3.723690 -38.533477   \n",
       "\n",
       "                                              adress        district  \\\n",
       "0  Avenida Radialista José Lima Verde, Barra do C...  Barra do Ceará   \n",
       "1  Rua Doutor João Moreira, Centro, Fortaleza, Re...          Centro   \n",
       "2  Museu da Indústria, 143, Rua Doutor João Morei...          Centro   \n",
       "3  Hospital Geral Doutor César Cals, 545, Avenida...          Centro   \n",
       "4  Pacoti Couros, 230, Avenida Imperador, Centro,...          Centro   \n",
       "\n",
       "        city  \n",
       "0  Fortaleza  \n",
       "1  Fortaleza  \n",
       "2  Fortaleza  \n",
       "3  Fortaleza  \n",
       "4  Fortaleza  "
      ]
     },
     "execution_count": 95,
     "metadata": {},
     "output_type": "execute_result"
    }
   ],
   "source": [
    "df_paradas['city'] = \"Fortaleza\"\n",
    "df_paradas.head()"
   ]
  },
  {
   "cell_type": "code",
   "execution_count": 119,
   "metadata": {},
   "outputs": [
    {
     "data": {
      "text/plain": [
       "''"
      ]
     },
     "execution_count": 119,
     "metadata": {},
     "output_type": "execute_result"
    }
   ],
   "source": [
    "paradas_fora_fortal = df_paradas[df_paradas.district == 'Brasi'].adress.value_counts().index.to_list()\n",
    "\n",
    "for i in paradas_fora_fortal:\n",
    "    cidade = i[:i.find(', Região Geográfica Imediata de Fortaleza,')]\n",
    "    cidade = cidade[cidade.rfind(',')+1:].strip()\n",
    "    df_paradas.loc[df_paradas['adress']==i,'city'] = cidade\n",
    "\n",
    "    bairro = i[:i.find(', ' + cidade + ',')]\n",
    "    bairro = bairro[bairro.rfind(',')+1:].strip()\n",
    "    df_paradas.loc[df_paradas['adress']==i,'district'] = bairro\n",
    ";"
   ]
  },
  {
   "cell_type": "code",
   "execution_count": 120,
   "metadata": {},
   "outputs": [
    {
     "name": "stdout",
     "output_type": "stream",
     "text": [
      "['Passaré', 'Centro', 'Prefeito José Walter', 'Mondubim', 'Messejana', 'Jangurussu', 'Parque Dois Irmăos', 'Bom Jardim', 'Parangaba', 'Fátima', 'Vila Velha', 'Barra do Ceará', 'Granja Lisboa', 'Planalto Ayrton Senna', 'Antônio Bezerra', 'Serrinha', 'Edson Queiroz', 'Aldeota', 'Barroso', 'Siqueira', 'Vicente Pinzón', 'Parque Santa Maria', 'Paupina', 'Lagoa Redonda', 'Bonsucesso', 'Engenheiro Luciano Cavalcante', 'Sapiranga / Coité', 'Conjunto Ceará II', 'Vila Uniăo', 'Granja Portugal', 'Jóquei Clube', 'Meireles', 'Jardim das Oliveiras', 'Pedras', 'Benfica', 'Cais do Porto', 'Conjunto Ceará I', 'Cajazeiras', 'Quintino Cunha', 'Cidade dos Funcionários', 'Pici', 'Novo Mondubim', 'Dionísio Torres', 'Henrique Jorge', 'Itaperi', 'Padre Andrade', 'Canindezinho', 'Boa Vista/Castelão', 'São João do Tauape', 'Cambeba', 'Bela Vista', 'Guajeru', 'Jacarecanga', 'José de Alencar', 'Montese', 'Maraponga', 'Dom Lustosa', 'Parque Săo José', 'Papicu', 'João XXIII', 'Cocó', 'Rodolfo Teófilo', 'Joaquim Távora', 'Damas', 'Floresta', 'Manoel Sátiro', 'Jardim Cearense', 'Genibaú', 'Cristo Redentor', 'Dias Macêdo', 'Aracapé', 'Vila Peri', 'Parque Iracema', 'Álvaro Weyne', 'Ancuri', 'Presidente Kennedy', 'Parquelândia', 'Aerolândia', 'Conjunto Esperança', 'Pirambu', 'Jardim Guanabara', 'Amadeu Furtado', 'Coaçu', 'Praia do Futuro II', 'Demócrito Rocha', 'Jardim América', 'José Bonifácio', 'Jardim Iracema', 'Autran Nunes', 'Conjunto Palmeiras', 'Sabiaguaba', 'Parque Manibura', 'Săo Gerardo', 'Parque Santa Rosa', 'Alto da Balança', 'Curió', 'Aeroporto', 'Praia do Futuro I', 'Manuel Dias Branco', 'Dendê', 'Itaoca', 'Guararapes', 'Carlito Pamplona', 'Mucuripe', 'Farias Brito', 'Panamericano', 'Olavo Oliveira', 'Monte Castelo', 'Săo Bento', 'Marechal Rondon', 'Parreão', 'Cidade 2000', 'Parque Presidente Vargas', 'Moura Brasil', 'Cidade Nova', 'Bom Futuro', 'Salinas', 'Praia de Iracema', 'Jari', 'Ellery', 'Varjota', 'Parque Araxá', 'De Lourdes', 'Cararu', 'Alto Alegre II', 'Urucutuba', 'Precabura', 'Industrial', 'Couto Fernandes', 'Rodovia Estrada do Guarani']\n"
     ]
    }
   ],
   "source": [
    "bairros = df_paradas.district.value_counts().index.tolist()\n",
    "\n",
    "print(bairros)"
   ]
  },
  {
   "cell_type": "code",
   "execution_count": 121,
   "metadata": {},
   "outputs": [
    {
     "data": {
      "text/plain": [
       "130"
      ]
     },
     "execution_count": 121,
     "metadata": {},
     "output_type": "execute_result"
    }
   ],
   "source": [
    "len(bairros)"
   ]
  },
  {
   "cell_type": "code",
   "execution_count": 67,
   "metadata": {},
   "outputs": [],
   "source": [
    "df_paradas.to_csv('../../../data/processed/paradas.csv', encoding='utf-8')"
   ]
  },
  {
   "cell_type": "markdown",
   "metadata": {},
   "source": [
    "# Rotas"
   ]
  },
  {
   "cell_type": "code",
   "execution_count": 7,
   "metadata": {},
   "outputs": [
    {
     "data": {
      "text/html": [
       "<div>\n",
       "<style scoped>\n",
       "    .dataframe tbody tr th:only-of-type {\n",
       "        vertical-align: middle;\n",
       "    }\n",
       "\n",
       "    .dataframe tbody tr th {\n",
       "        vertical-align: top;\n",
       "    }\n",
       "\n",
       "    .dataframe thead th {\n",
       "        text-align: right;\n",
       "    }\n",
       "</style>\n",
       "<table border=\"1\" class=\"dataframe\">\n",
       "  <thead>\n",
       "    <tr style=\"text-align: right;\">\n",
       "      <th></th>\n",
       "      <th>route_id</th>\n",
       "      <th>agency_id</th>\n",
       "      <th>route_short_name</th>\n",
       "      <th>route_long_name</th>\n",
       "      <th>route_desc</th>\n",
       "      <th>route_type</th>\n",
       "      <th>route_url</th>\n",
       "      <th>route_color</th>\n",
       "      <th>route_text_color</th>\n",
       "    </tr>\n",
       "  </thead>\n",
       "  <tbody>\n",
       "    <tr>\n",
       "      <th>0</th>\n",
       "      <td>4</td>\n",
       "      <td>1</td>\n",
       "      <td>4-Messejana/Papicu/Cambeba/TJ</td>\n",
       "      <td>Messejana/Papicu/Cambeba/TJ</td>\n",
       "      <td>NaN</td>\n",
       "      <td>3</td>\n",
       "      <td>NaN</td>\n",
       "      <td>NaN</td>\n",
       "      <td>NaN</td>\n",
       "    </tr>\n",
       "    <tr>\n",
       "      <th>1</th>\n",
       "      <td>11</td>\n",
       "      <td>1</td>\n",
       "      <td>11-Circular I</td>\n",
       "      <td>Circular I</td>\n",
       "      <td>NaN</td>\n",
       "      <td>3</td>\n",
       "      <td>NaN</td>\n",
       "      <td>NaN</td>\n",
       "      <td>NaN</td>\n",
       "    </tr>\n",
       "    <tr>\n",
       "      <th>2</th>\n",
       "      <td>13</td>\n",
       "      <td>1</td>\n",
       "      <td>13-Aguanambi/Rodoviária I</td>\n",
       "      <td>Aguanambi/Rodoviária I</td>\n",
       "      <td>NaN</td>\n",
       "      <td>3</td>\n",
       "      <td>NaN</td>\n",
       "      <td>NaN</td>\n",
       "      <td>NaN</td>\n",
       "    </tr>\n",
       "    <tr>\n",
       "      <th>3</th>\n",
       "      <td>14</td>\n",
       "      <td>1</td>\n",
       "      <td>14-Aguanambi/Rodoviária II</td>\n",
       "      <td>Aguanambi/Rodoviária II</td>\n",
       "      <td>NaN</td>\n",
       "      <td>3</td>\n",
       "      <td>NaN</td>\n",
       "      <td>NaN</td>\n",
       "      <td>NaN</td>\n",
       "    </tr>\n",
       "    <tr>\n",
       "      <th>4</th>\n",
       "      <td>15</td>\n",
       "      <td>1</td>\n",
       "      <td>15-Cj Ceará/Antônio Bezerra I</td>\n",
       "      <td>Cj Ceará/Antônio Bezerra I</td>\n",
       "      <td>NaN</td>\n",
       "      <td>3</td>\n",
       "      <td>NaN</td>\n",
       "      <td>NaN</td>\n",
       "      <td>NaN</td>\n",
       "    </tr>\n",
       "  </tbody>\n",
       "</table>\n",
       "</div>"
      ],
      "text/plain": [
       "   route_id  agency_id               route_short_name  \\\n",
       "0         4          1  4-Messejana/Papicu/Cambeba/TJ   \n",
       "1        11          1                  11-Circular I   \n",
       "2        13          1      13-Aguanambi/Rodoviária I   \n",
       "3        14          1     14-Aguanambi/Rodoviária II   \n",
       "4        15          1  15-Cj Ceará/Antônio Bezerra I   \n",
       "\n",
       "               route_long_name  route_desc  route_type  route_url  \\\n",
       "0  Messejana/Papicu/Cambeba/TJ         NaN           3        NaN   \n",
       "1                   Circular I         NaN           3        NaN   \n",
       "2       Aguanambi/Rodoviária I         NaN           3        NaN   \n",
       "3      Aguanambi/Rodoviária II         NaN           3        NaN   \n",
       "4   Cj Ceará/Antônio Bezerra I         NaN           3        NaN   \n",
       "\n",
       "   route_color  route_text_color  \n",
       "0          NaN               NaN  \n",
       "1          NaN               NaN  \n",
       "2          NaN               NaN  \n",
       "3          NaN               NaN  \n",
       "4          NaN               NaN  "
      ]
     },
     "execution_count": 7,
     "metadata": {},
     "output_type": "execute_result"
    }
   ],
   "source": [
    "df_rotas = pd.read_csv('../../../data/raw/gps/routes.txt')\n",
    "df_rotas.drop_duplicates(subset=['route_id'], inplace=True)\n",
    "df_rotas.head()"
   ]
  },
  {
   "cell_type": "code",
   "execution_count": 9,
   "metadata": {},
   "outputs": [
    {
     "name": "stdout",
     "output_type": "stream",
     "text": [
      "<class 'pandas.core.frame.DataFrame'>\n",
      "Int64Index: 308 entries, 0 to 307\n",
      "Data columns (total 3 columns):\n",
      " #   Column            Non-Null Count  Dtype \n",
      "---  ------            --------------  ----- \n",
      " 0   route_id          308 non-null    int64 \n",
      " 1   route_short_name  308 non-null    object\n",
      " 2   route_long_name   308 non-null    object\n",
      "dtypes: int64(1), object(2)\n",
      "memory usage: 9.6+ KB\n"
     ]
    }
   ],
   "source": [
    "df_rotas.drop(columns=['agency_id', 'route_desc', 'route_type', 'route_url', 'route_color', 'route_text_color'], inplace=True)\n",
    "df_rotas.info()"
   ]
  },
  {
   "cell_type": "code",
   "execution_count": 10,
   "metadata": {},
   "outputs": [],
   "source": [
    "df_rotas.to_csv('../../../data/processed/rotas.csv', encoding='utf-8')"
   ]
  },
  {
   "cell_type": "markdown",
   "metadata": {},
   "source": [
    "# Paradas por rota"
   ]
  },
  {
   "cell_type": "code",
   "execution_count": 26,
   "metadata": {},
   "outputs": [
    {
     "data": {
      "text/html": [
       "<div>\n",
       "<style scoped>\n",
       "    .dataframe tbody tr th:only-of-type {\n",
       "        vertical-align: middle;\n",
       "    }\n",
       "\n",
       "    .dataframe tbody tr th {\n",
       "        vertical-align: top;\n",
       "    }\n",
       "\n",
       "    .dataframe thead th {\n",
       "        text-align: right;\n",
       "    }\n",
       "</style>\n",
       "<table border=\"1\" class=\"dataframe\">\n",
       "  <thead>\n",
       "    <tr style=\"text-align: right;\">\n",
       "      <th></th>\n",
       "      <th>route_id</th>\n",
       "      <th>service_id</th>\n",
       "      <th>trip_id</th>\n",
       "      <th>trip_headsign</th>\n",
       "      <th>trip_short_name</th>\n",
       "      <th>direction_id</th>\n",
       "      <th>block_id</th>\n",
       "      <th>shape_id</th>\n",
       "      <th>wheelchair_accessible</th>\n",
       "    </tr>\n",
       "  </thead>\n",
       "  <tbody>\n",
       "    <tr>\n",
       "      <th>0</th>\n",
       "      <td>11</td>\n",
       "      <td>D</td>\n",
       "      <td>D011-T01V01B01-I</td>\n",
       "      <td>NaN</td>\n",
       "      <td>NaN</td>\n",
       "      <td>NaN</td>\n",
       "      <td>NaN</td>\n",
       "      <td>shape011-I</td>\n",
       "      <td>2</td>\n",
       "    </tr>\n",
       "    <tr>\n",
       "      <th>17</th>\n",
       "      <td>14</td>\n",
       "      <td>D</td>\n",
       "      <td>D014-T01V01B01-V</td>\n",
       "      <td>NaN</td>\n",
       "      <td>NaN</td>\n",
       "      <td>NaN</td>\n",
       "      <td>NaN</td>\n",
       "      <td>shape014-V</td>\n",
       "      <td>2</td>\n",
       "    </tr>\n",
       "    <tr>\n",
       "      <th>36</th>\n",
       "      <td>15</td>\n",
       "      <td>D</td>\n",
       "      <td>D015-T01V01B01-I</td>\n",
       "      <td>NaN</td>\n",
       "      <td>NaN</td>\n",
       "      <td>NaN</td>\n",
       "      <td>NaN</td>\n",
       "      <td>shape015-I</td>\n",
       "      <td>1</td>\n",
       "    </tr>\n",
       "    <tr>\n",
       "      <th>138</th>\n",
       "      <td>21</td>\n",
       "      <td>D</td>\n",
       "      <td>D021-T01V01B01-I</td>\n",
       "      <td>NaN</td>\n",
       "      <td>NaN</td>\n",
       "      <td>NaN</td>\n",
       "      <td>NaN</td>\n",
       "      <td>shape021-I</td>\n",
       "      <td>2</td>\n",
       "    </tr>\n",
       "    <tr>\n",
       "      <th>170</th>\n",
       "      <td>22</td>\n",
       "      <td>D</td>\n",
       "      <td>D022-T01V01B01-I</td>\n",
       "      <td>NaN</td>\n",
       "      <td>NaN</td>\n",
       "      <td>NaN</td>\n",
       "      <td>NaN</td>\n",
       "      <td>shape022-I</td>\n",
       "      <td>2</td>\n",
       "    </tr>\n",
       "  </tbody>\n",
       "</table>\n",
       "</div>"
      ],
      "text/plain": [
       "     route_id service_id           trip_id  trip_headsign  trip_short_name  \\\n",
       "0          11          D  D011-T01V01B01-I            NaN              NaN   \n",
       "17         14          D  D014-T01V01B01-V            NaN              NaN   \n",
       "36         15          D  D015-T01V01B01-I            NaN              NaN   \n",
       "138        21          D  D021-T01V01B01-I            NaN              NaN   \n",
       "170        22          D  D022-T01V01B01-I            NaN              NaN   \n",
       "\n",
       "     direction_id  block_id    shape_id  wheelchair_accessible  \n",
       "0             NaN       NaN  shape011-I                      2  \n",
       "17            NaN       NaN  shape014-V                      2  \n",
       "36            NaN       NaN  shape015-I                      1  \n",
       "138           NaN       NaN  shape021-I                      2  \n",
       "170           NaN       NaN  shape022-I                      2  "
      ]
     },
     "execution_count": 26,
     "metadata": {},
     "output_type": "execute_result"
    }
   ],
   "source": [
    "df_viagens = pd.read_csv('../../../data/raw/gps/trips.txt')\n",
    "df_viagens.drop_duplicates(subset=['route_id'], inplace=True)\n",
    "df_viagens.head()"
   ]
  },
  {
   "cell_type": "code",
   "execution_count": 27,
   "metadata": {},
   "outputs": [
    {
     "name": "stdout",
     "output_type": "stream",
     "text": [
      "<class 'pandas.core.frame.DataFrame'>\n",
      "Int64Index: 269 entries, 0 to 57594\n",
      "Data columns (total 2 columns):\n",
      " #   Column    Non-Null Count  Dtype \n",
      "---  ------    --------------  ----- \n",
      " 0   route_id  269 non-null    int64 \n",
      " 1   trip_id   269 non-null    object\n",
      "dtypes: int64(1), object(1)\n",
      "memory usage: 6.3+ KB\n"
     ]
    }
   ],
   "source": [
    "df_viagens.drop(columns=['service_id', 'trip_headsign', 'trip_short_name', 'direction_id', 'block_id', 'shape_id', 'wheelchair_accessible'], inplace=True)\n",
    "df_viagens.info()"
   ]
  },
  {
   "cell_type": "code",
   "execution_count": 16,
   "metadata": {},
   "outputs": [
    {
     "data": {
      "text/html": [
       "<div>\n",
       "<style scoped>\n",
       "    .dataframe tbody tr th:only-of-type {\n",
       "        vertical-align: middle;\n",
       "    }\n",
       "\n",
       "    .dataframe tbody tr th {\n",
       "        vertical-align: top;\n",
       "    }\n",
       "\n",
       "    .dataframe thead th {\n",
       "        text-align: right;\n",
       "    }\n",
       "</style>\n",
       "<table border=\"1\" class=\"dataframe\">\n",
       "  <thead>\n",
       "    <tr style=\"text-align: right;\">\n",
       "      <th></th>\n",
       "      <th>trip_id</th>\n",
       "      <th>arrival_time</th>\n",
       "      <th>departure_time</th>\n",
       "      <th>stop_id</th>\n",
       "      <th>stop_sequence</th>\n",
       "      <th>stop_headsign</th>\n",
       "      <th>pickup_type</th>\n",
       "      <th>drop_off_type</th>\n",
       "      <th>shape_dist_traveled</th>\n",
       "    </tr>\n",
       "  </thead>\n",
       "  <tbody>\n",
       "    <tr>\n",
       "      <th>0</th>\n",
       "      <td>D011-T01V01B01-I</td>\n",
       "      <td>05:13:00</td>\n",
       "      <td>05:13:00</td>\n",
       "      <td>7038</td>\n",
       "      <td>1</td>\n",
       "      <td>NaN</td>\n",
       "      <td>NaN</td>\n",
       "      <td>NaN</td>\n",
       "      <td>NaN</td>\n",
       "    </tr>\n",
       "    <tr>\n",
       "      <th>1</th>\n",
       "      <td>D011-T01V01B01-I</td>\n",
       "      <td>NaN</td>\n",
       "      <td>NaN</td>\n",
       "      <td>1013</td>\n",
       "      <td>2</td>\n",
       "      <td>NaN</td>\n",
       "      <td>NaN</td>\n",
       "      <td>NaN</td>\n",
       "      <td>NaN</td>\n",
       "    </tr>\n",
       "    <tr>\n",
       "      <th>2</th>\n",
       "      <td>D011-T01V01B01-I</td>\n",
       "      <td>05:14:00</td>\n",
       "      <td>05:14:00</td>\n",
       "      <td>1015</td>\n",
       "      <td>3</td>\n",
       "      <td>NaN</td>\n",
       "      <td>NaN</td>\n",
       "      <td>NaN</td>\n",
       "      <td>NaN</td>\n",
       "    </tr>\n",
       "    <tr>\n",
       "      <th>3</th>\n",
       "      <td>D011-T01V01B01-I</td>\n",
       "      <td>05:15:00</td>\n",
       "      <td>05:15:00</td>\n",
       "      <td>4251</td>\n",
       "      <td>4</td>\n",
       "      <td>NaN</td>\n",
       "      <td>NaN</td>\n",
       "      <td>NaN</td>\n",
       "      <td>NaN</td>\n",
       "    </tr>\n",
       "    <tr>\n",
       "      <th>4</th>\n",
       "      <td>D011-T01V01B01-I</td>\n",
       "      <td>05:16:00</td>\n",
       "      <td>05:16:00</td>\n",
       "      <td>990</td>\n",
       "      <td>5</td>\n",
       "      <td>NaN</td>\n",
       "      <td>NaN</td>\n",
       "      <td>NaN</td>\n",
       "      <td>NaN</td>\n",
       "    </tr>\n",
       "  </tbody>\n",
       "</table>\n",
       "</div>"
      ],
      "text/plain": [
       "            trip_id arrival_time departure_time  stop_id  stop_sequence  \\\n",
       "0  D011-T01V01B01-I     05:13:00       05:13:00     7038              1   \n",
       "1  D011-T01V01B01-I          NaN            NaN     1013              2   \n",
       "2  D011-T01V01B01-I     05:14:00       05:14:00     1015              3   \n",
       "3  D011-T01V01B01-I     05:15:00       05:15:00     4251              4   \n",
       "4  D011-T01V01B01-I     05:16:00       05:16:00      990              5   \n",
       "\n",
       "   stop_headsign  pickup_type  drop_off_type  shape_dist_traveled  \n",
       "0            NaN          NaN            NaN                  NaN  \n",
       "1            NaN          NaN            NaN                  NaN  \n",
       "2            NaN          NaN            NaN                  NaN  \n",
       "3            NaN          NaN            NaN                  NaN  \n",
       "4            NaN          NaN            NaN                  NaN  "
      ]
     },
     "execution_count": 16,
     "metadata": {},
     "output_type": "execute_result"
    }
   ],
   "source": [
    "df_horario_parada = pd.read_csv('../../../data/raw/gps/stop_times.txt')\n",
    "df_horario_parada.drop_duplicates(inplace=True)\n",
    "df_horario_parada.head()"
   ]
  },
  {
   "cell_type": "code",
   "execution_count": 17,
   "metadata": {},
   "outputs": [
    {
     "name": "stdout",
     "output_type": "stream",
     "text": [
      "<class 'pandas.core.frame.DataFrame'>\n",
      "Int64Index: 1886957 entries, 0 to 1886956\n",
      "Data columns (total 3 columns):\n",
      " #   Column         Dtype \n",
      "---  ------         ----- \n",
      " 0   trip_id        object\n",
      " 1   stop_id        int64 \n",
      " 2   stop_sequence  int64 \n",
      "dtypes: int64(2), object(1)\n",
      "memory usage: 57.6+ MB\n"
     ]
    }
   ],
   "source": [
    "df_horario_parada.drop(columns=['arrival_time', 'departure_time', 'stop_headsign', 'pickup_type', 'drop_off_type', 'shape_dist_traveled'], inplace=True)\n",
    "df_horario_parada.info()"
   ]
  },
  {
   "cell_type": "code",
   "execution_count": 40,
   "metadata": {},
   "outputs": [
    {
     "data": {
      "text/html": [
       "<div>\n",
       "<style scoped>\n",
       "    .dataframe tbody tr th:only-of-type {\n",
       "        vertical-align: middle;\n",
       "    }\n",
       "\n",
       "    .dataframe tbody tr th {\n",
       "        vertical-align: top;\n",
       "    }\n",
       "\n",
       "    .dataframe thead th {\n",
       "        text-align: right;\n",
       "    }\n",
       "</style>\n",
       "<table border=\"1\" class=\"dataframe\">\n",
       "  <thead>\n",
       "    <tr style=\"text-align: right;\">\n",
       "      <th></th>\n",
       "      <th>route_id</th>\n",
       "      <th>stop_id</th>\n",
       "      <th>stop_sequence</th>\n",
       "    </tr>\n",
       "  </thead>\n",
       "  <tbody>\n",
       "    <tr>\n",
       "      <th>0</th>\n",
       "      <td>11</td>\n",
       "      <td>7038</td>\n",
       "      <td>1</td>\n",
       "    </tr>\n",
       "    <tr>\n",
       "      <th>1</th>\n",
       "      <td>11</td>\n",
       "      <td>1013</td>\n",
       "      <td>2</td>\n",
       "    </tr>\n",
       "    <tr>\n",
       "      <th>2</th>\n",
       "      <td>11</td>\n",
       "      <td>1015</td>\n",
       "      <td>3</td>\n",
       "    </tr>\n",
       "    <tr>\n",
       "      <th>3</th>\n",
       "      <td>11</td>\n",
       "      <td>4251</td>\n",
       "      <td>4</td>\n",
       "    </tr>\n",
       "    <tr>\n",
       "      <th>4</th>\n",
       "      <td>11</td>\n",
       "      <td>990</td>\n",
       "      <td>5</td>\n",
       "    </tr>\n",
       "    <tr>\n",
       "      <th>...</th>\n",
       "      <td>...</td>\n",
       "      <td>...</td>\n",
       "      <td>...</td>\n",
       "    </tr>\n",
       "    <tr>\n",
       "      <th>8940</th>\n",
       "      <td>860</td>\n",
       "      <td>2205</td>\n",
       "      <td>22</td>\n",
       "    </tr>\n",
       "    <tr>\n",
       "      <th>8941</th>\n",
       "      <td>860</td>\n",
       "      <td>2206</td>\n",
       "      <td>23</td>\n",
       "    </tr>\n",
       "    <tr>\n",
       "      <th>8942</th>\n",
       "      <td>860</td>\n",
       "      <td>5512</td>\n",
       "      <td>24</td>\n",
       "    </tr>\n",
       "    <tr>\n",
       "      <th>8943</th>\n",
       "      <td>860</td>\n",
       "      <td>2185</td>\n",
       "      <td>25</td>\n",
       "    </tr>\n",
       "    <tr>\n",
       "      <th>8944</th>\n",
       "      <td>860</td>\n",
       "      <td>5813</td>\n",
       "      <td>26</td>\n",
       "    </tr>\n",
       "  </tbody>\n",
       "</table>\n",
       "<p>8945 rows × 3 columns</p>\n",
       "</div>"
      ],
      "text/plain": [
       "      route_id  stop_id  stop_sequence\n",
       "0           11     7038              1\n",
       "1           11     1013              2\n",
       "2           11     1015              3\n",
       "3           11     4251              4\n",
       "4           11      990              5\n",
       "...        ...      ...            ...\n",
       "8940       860     2205             22\n",
       "8941       860     2206             23\n",
       "8942       860     5512             24\n",
       "8943       860     2185             25\n",
       "8944       860     5813             26\n",
       "\n",
       "[8945 rows x 3 columns]"
      ]
     },
     "execution_count": 40,
     "metadata": {},
     "output_type": "execute_result"
    }
   ],
   "source": [
    "df_rota_paradas = df_viagens.merge(df_horario_parada, left_on='trip_id', right_on='trip_id')\n",
    "df_rota_paradas.drop(columns=['trip_id'], inplace=True)\n",
    "df_rota_paradas.drop_duplicates(inplace=True)\n",
    "df_rota_paradas"
   ]
  },
  {
   "cell_type": "code",
   "execution_count": 41,
   "metadata": {},
   "outputs": [],
   "source": [
    "df_rota_paradas.to_csv('../../../data/processed/rota_paradas.csv', encoding='utf-8')"
   ]
  }
 ],
 "metadata": {
  "interpreter": {
   "hash": "b5d97b130fc267a48e1a3f5db8077944ac4ee4c3a11d43cefb8396d40be86beb"
  },
  "kernelspec": {
   "display_name": "Python 3.8.8 ('base')",
   "language": "python",
   "name": "python3"
  },
  "language_info": {
   "codemirror_mode": {
    "name": "ipython",
    "version": 3
   },
   "file_extension": ".py",
   "mimetype": "text/x-python",
   "name": "python",
   "nbconvert_exporter": "python",
   "pygments_lexer": "ipython3",
   "version": "3.8.8"
  },
  "orig_nbformat": 4
 },
 "nbformat": 4,
 "nbformat_minor": 2
}
